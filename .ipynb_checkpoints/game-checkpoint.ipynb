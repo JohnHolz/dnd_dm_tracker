{
 "cells": [
  {
   "cell_type": "code",
   "execution_count": 36,
   "id": "graphic-israeli",
   "metadata": {},
   "outputs": [],
   "source": [
    "class Encounter():\n",
    "    def __init__(self, first_idea):\n",
    "        self.first_idea = first_idea\n",
    "        self.name = ''\n",
    "        self.locaton = []\n",
    "        self.monsters = {}\n",
    "        self.npcs = {}\n",
    "        self.plot = ''\n",
    "        self.rewards = {'gp':0}\n",
    "    \n",
    "    \"\"\"\n",
    "    name\n",
    "    location:\n",
    "    monsters:\n",
    "    npcs:\n",
    "    rewards:\n",
    "    \"\"\"\n",
    "\n",
    "    def __repr__(self):\n",
    "        ret = f\"\"\"\n",
    "        {self.name}\n",
    "        location: {self.locaton}\n",
    "        monsters: {self.monsters}\n",
    "        npcs: {self.npcs}\n",
    "        rewards: {self.rewards}\n",
    "        \"\"\"\n",
    "        return ret\n",
    "\n",
    "    ## ! location\n",
    "    def add_location(self, location):\n",
    "        self.locaton = self.locaton + [location]\n",
    "\n",
    "    ## ! npcs\n",
    "    def add_npc(self, npc, text):\n",
    "        ret = f'self.npcs[\"{npc}\"] = \"{text}\"'\n",
    "        exec(ret)\n",
    "\n",
    "    def rm_npc(self, npc):\n",
    "        ret = f'del r[\"{npc}\"]'\n",
    "        exec(ret)\n",
    "\n",
    "    ## ! rewards\n",
    "    \n",
    "    ## ! plot\n",
    "    def add_info(self, new_info):\n",
    "        self.plot = self.plot + f'\\n{new_info}'"
   ]
  },
  {
   "cell_type": "code",
   "execution_count": 37,
   "id": "affiliated-convergence",
   "metadata": {},
   "outputs": [],
   "source": [
    "x1 = Encounter('teste1')"
   ]
  },
  {
   "cell_type": "code",
   "execution_count": 38,
   "id": "attempted-village",
   "metadata": {},
   "outputs": [
    {
     "data": {
      "text/plain": [
       "\n",
       "        \n",
       "        location: []\n",
       "        monsters: {}\n",
       "        npcs: {}\n",
       "        rewards: {'gp': 0}\n",
       "        "
      ]
     },
     "execution_count": 38,
     "metadata": {},
     "output_type": "execute_result"
    }
   ],
   "source": [
    "x1"
   ]
  },
  {
   "cell_type": "code",
   "execution_count": 39,
   "id": "higher-reflection",
   "metadata": {},
   "outputs": [],
   "source": [
    "x1.add_npc('player','testplayer')"
   ]
  },
  {
   "cell_type": "code",
   "execution_count": 41,
   "id": "documentary-fraction",
   "metadata": {},
   "outputs": [
    {
     "data": {
      "text/plain": [
       "\n",
       "        \n",
       "        location: []\n",
       "        monsters: {}\n",
       "        npcs: {'player': 'testplayer'}\n",
       "        rewards: {'gp': 0}\n",
       "        "
      ]
     },
     "execution_count": 41,
     "metadata": {},
     "output_type": "execute_result"
    }
   ],
   "source": [
    "x1"
   ]
  },
  {
   "cell_type": "code",
   "execution_count": null,
   "id": "overall-encyclopedia",
   "metadata": {},
   "outputs": [],
   "source": []
  }
 ],
 "metadata": {
  "kernelspec": {
   "display_name": "Python 3",
   "language": "python",
   "name": "python3"
  },
  "language_info": {
   "codemirror_mode": {
    "name": "ipython",
    "version": 3
   },
   "file_extension": ".py",
   "mimetype": "text/x-python",
   "name": "python",
   "nbconvert_exporter": "python",
   "pygments_lexer": "ipython3",
   "version": "3.7.10"
  }
 },
 "nbformat": 4,
 "nbformat_minor": 5
}
