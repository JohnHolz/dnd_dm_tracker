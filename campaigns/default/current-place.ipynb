{
 "cells": [
  {
   "cell_type": "markdown",
   "id": "9140251b-ab5a-4609-8121-c766a9e4bac1",
   "metadata": {},
   "source": [
    "## Importing mechenichs/Systems"
   ]
  },
  {
   "cell_type": "markdown",
   "id": "2301b640-344d-421c-a274-371a14491e2c",
   "metadata": {},
   "source": []
  }
 ],
 "metadata": {
  "kernelspec": {
   "display_name": "Python 3 (ipykernel)",
   "language": "python",
   "name": "python3"
  },
  "language_info": {
   "codemirror_mode": {
    "name": "ipython",
    "version": 3
   },
   "file_extension": ".py",
   "mimetype": "text/x-python",
   "name": "python",
   "nbconvert_exporter": "python",
   "pygments_lexer": "ipython3",
   "version": "3.7.11"
  }
 },
 "nbformat": 4,
 "nbformat_minor": 5
}
