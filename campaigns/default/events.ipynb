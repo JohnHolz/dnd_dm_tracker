{
 "cells": [
  {
   "cell_type": "code",
   "execution_count": 1,
   "id": "0a07a26a-2f93-485f-acce-e016873e2f0f",
   "metadata": {},
   "outputs": [],
   "source": [
    "import sys\n",
    "sys.path.append('../../systems/')"
   ]
  },
  {
   "cell_type": "code",
   "execution_count": 2,
   "id": "bc1f3fb0-cf31-47e4-af65-5f9f1ade7a91",
   "metadata": {},
   "outputs": [],
   "source": [
    "from core.event import Event, Game\n",
    "from core.world_time import DateTime\n",
    "import world.places.locane.villages as locane\n",
    "import world.places.locane.npcs as npc"
   ]
  },
  {
   "cell_type": "markdown",
   "id": "9140251b-ab5a-4609-8121-c766a9e4bac1",
   "metadata": {
    "tags": []
   },
   "source": [
    "---\n",
    "# Primeiro ciclo"
   ]
  },
  {
   "cell_type": "code",
   "execution_count": 3,
   "id": "2895d072-9693-4422-9670-2726fd7e0f39",
   "metadata": {},
   "outputs": [],
   "source": [
    "game = Game()"
   ]
  },
  {
   "cell_type": "markdown",
   "id": "2301b640-344d-421c-a274-371a14491e2c",
   "metadata": {
    "jp-MarkdownHeadingCollapsed": true,
    "tags": []
   },
   "source": [
    "## Omskirk"
   ]
  },
  {
   "cell_type": "code",
   "execution_count": 4,
   "id": "630f2a56-4b07-4089-a61d-87fec3ed2fd2",
   "metadata": {},
   "outputs": [],
   "source": [
    "desc = '''A party receberam uma carta de convocação do exercito que falavam para ir a Omskirk'''\n",
    "event = Event(DateTime(59,15,0,1250), locane.Ormskirk_Tavern, desc)\n",
    "game.add(event)"
   ]
  },
  {
   "cell_type": "code",
   "execution_count": 5,
   "id": "ad0cfddc-40da-48cf-b09c-4476d81c7dac",
   "metadata": {},
   "outputs": [],
   "source": [
    "desc = '''A party se encontra pela primeira vez na taverna e conhecem serginho'''\n",
    "time = DateTime(89,19,0,1250)\n",
    "event = Event(time, locane.Ormskirk_Tavern, desc)\n",
    "game.add(event)"
   ]
  },
  {
   "cell_type": "code",
   "execution_count": 6,
   "id": "83deb259-7d46-4cd0-beab-f901c671d301",
   "metadata": {},
   "outputs": [],
   "source": [
    "time = time + DateTime(0,12)\n",
    "desc = '''Dormem, acordam pelas 7 da manha e encontram serginho'''\n",
    "event = Event(time, 'North of Omskirk', desc)\n",
    "game.add(event)"
   ]
  },
  {
   "cell_type": "markdown",
   "id": "66e85f46-5c70-4439-b32e-525fff45aff5",
   "metadata": {
    "jp-MarkdownHeadingCollapsed": true,
    "tags": []
   },
   "source": [
    "## Marmouth"
   ]
  },
  {
   "cell_type": "code",
   "execution_count": 7,
   "id": "7a2245e4-8c08-4e63-b0f7-23d095c9bfab",
   "metadata": {},
   "outputs": [],
   "source": [
    "time = time + DateTime(0,8)\n",
    "desc = '''Chegam a Marmouth, passam na taverna, almoçam e buscam as comidas para o exercito, dormem e vão para Brend na manha seguinte'''\n",
    "event = Event(time, locane.Marmouth_Tavern, desc)\n",
    "game.add(event)"
   ]
  },
  {
   "cell_type": "code",
   "execution_count": 8,
   "id": "b6f54e84-4cb3-4bc9-b5bc-49098668cb0d",
   "metadata": {},
   "outputs": [],
   "source": [
    "time = time + DateTime(0,2)\n",
    "desc = '''Benio uma orb no meio do nada, muito nevoado'''\n",
    "event = Event(time, 'Indo de Marmouth para Brendon', desc)\n",
    "game.add(event)"
   ]
  },
  {
   "cell_type": "markdown",
   "id": "9ad83be2-38e4-4dbf-a70c-4df6dd0a8d0e",
   "metadata": {
    "tags": []
   },
   "source": [
    "## Bredon"
   ]
  },
  {
   "cell_type": "code",
   "execution_count": 9,
   "id": "5903228d-9e6a-479c-87d9-4b1b28107149",
   "metadata": {},
   "outputs": [],
   "source": [
    "time = time + DateTime(0,18)\n",
    "desc = '''Chegam a Bredon e escutam noticias de kobolds roubando comida, eles se organizam e vão recuperar a comida, lutam com os kobold e o basilisco. \n",
    "Pegam espinhos de basilisco e pó de paralizia de basilisco, e encontraram um ovo de Drake'''\n",
    "event = Event(time, locane.Bredon, desc)\n",
    "game.add(event)"
   ]
  },
  {
   "cell_type": "markdown",
   "id": "d3ea3b82-cd92-4d73-9b73-c73fb4e05731",
   "metadata": {
    "tags": []
   },
   "source": [
    "## Bredon"
   ]
  },
  {
   "cell_type": "code",
   "execution_count": 10,
   "id": "9a48f7a6-c493-4137-a01c-2291da5f6039",
   "metadata": {},
   "outputs": [],
   "source": [
    "time = time + DateTime(0,23)\n",
    "desc = '''Chegam a Bellmare e veem que a cidade está sendo atacada por um grupo de orcs que estão sendo mandados por Takefuso e um YoccastunToskan atacando a vila'''\n",
    "event = Event(time, locane.Bellmare, desc)\n",
    "event.npcs = {'Takefuso':'Ignora o bushi e foge', 'YoccastunToskan':'Estava montado num Drake Azul'}\n",
    "game.add(event)"
   ]
  },
  {
   "cell_type": "markdown",
   "id": "04ec937a-c64d-4ebf-80ea-bc10bc1a9525",
   "metadata": {
    "tags": []
   },
   "source": [
    "## Bredon"
   ]
  },
  {
   "cell_type": "code",
   "execution_count": 11,
   "id": "4491e96c-ed88-4263-93c6-435aa4264fff",
   "metadata": {
    "tags": []
   },
   "outputs": [],
   "source": [
    "time = time + DateTime(2,5)\n",
    "desc = '''Voltam a Marmouth, descobrem que o filho do ferreiro se perdeu na mata e foi pego pelas aranhas Cloridrith, resgaram o filho do ferreiro e recebem uma espada eletrica'''\n",
    "event = Event(time, locane.Marmouth, desc)\n",
    "game.add(event)"
   ]
  },
  {
   "cell_type": "code",
   "execution_count": 12,
   "id": "5bc73c78-9bfe-4870-958e-c414057edb42",
   "metadata": {},
   "outputs": [],
   "source": [
    "time = time+DateTime(3,20)\n",
    "desc = '''Chegam a Selgaunt pela primeira vez, exploram a cidade'''\n",
    "event = Event(time, locane.Selgaunt, desc)\n",
    "game.add(event)"
   ]
  },
  {
   "cell_type": "code",
   "execution_count": 17,
   "id": "7bfdfc68-1481-4da2-8078-fb10acf95d6f",
   "metadata": {},
   "outputs": [],
   "source": [
    "game.save_game('first_cicle_lvl3','db/')"
   ]
  },
  {
   "cell_type": "markdown",
   "id": "2368269e-93fe-47e6-b9b2-33b9f4107cb0",
   "metadata": {},
   "source": [
    "---\n",
    "# Segundo ciclo"
   ]
  },
  {
   "cell_type": "code",
   "execution_count": 18,
   "id": "a4952638-37df-4608-b615-652d95d01242",
   "metadata": {},
   "outputs": [],
   "source": [
    "game = Game()"
   ]
  },
  {
   "cell_type": "code",
   "execution_count": null,
   "id": "c66081b8-f05d-48f9-b267-bfdb8efc4c2b",
   "metadata": {},
   "outputs": [],
   "source": [
    "desc1 = '''Conhecem Barcha, encontram '''"
   ]
  }
 ],
 "metadata": {
  "kernelspec": {
   "display_name": "Python 3 (ipykernel)",
   "language": "python",
   "name": "python3"
  },
  "language_info": {
   "codemirror_mode": {
    "name": "ipython",
    "version": 3
   },
   "file_extension": ".py",
   "mimetype": "text/x-python",
   "name": "python",
   "nbconvert_exporter": "python",
   "pygments_lexer": "ipython3",
   "version": "3.7.11"
  }
 },
 "nbformat": 4,
 "nbformat_minor": 5
}
