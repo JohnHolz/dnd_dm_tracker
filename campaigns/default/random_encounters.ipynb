{
 "cells": [
  {
   "cell_type": "markdown",
   "id": "9140251b-ab5a-4609-8121-c766a9e4bac1",
   "metadata": {},
   "source": [
    "## Importing mechenichs/Systems"
   ]
  },
  {
   "cell_type": "code",
   "execution_count": 1,
   "id": "b052a408-38b5-413d-8c97-3fc6924b4303",
   "metadata": {},
   "outputs": [],
   "source": [
    "import sys\n",
    "sys.path.append('../../systems/')"
   ]
  },
  {
   "cell_type": "code",
   "execution_count": 2,
   "id": "c7dd0c0e-ae53-4cda-97ce-ba96741771d3",
   "metadata": {},
   "outputs": [],
   "source": [
    "from core.coin import Money\n",
    "from encounter.encounters import Encounter, create_encounter\n",
    "from core.dnd5eapi import get_monsters, get_magic_items\n",
    "from core.mob_group import Mob_group"
   ]
  },
  {
   "cell_type": "markdown",
   "id": "405b5500-3190-4c19-b722-6a77fcb91968",
   "metadata": {},
   "source": [
    "---\n",
    "## Get Atacked"
   ]
  },
  {
   "cell_type": "code",
   "execution_count": 19,
   "id": "38a05a89-9ca0-46c2-b3bd-5d17d18a1d49",
   "metadata": {},
   "outputs": [],
   "source": [
    "mobs = Mob_group({'chimera':2})"
   ]
  },
  {
   "cell_type": "markdown",
   "id": "7f905f57-f17a-4484-ba69-5e794514e7cb",
   "metadata": {},
   "source": [
    "---\n",
    "## Encounters"
   ]
  },
  {
   "cell_type": "code",
   "execution_count": 8,
   "id": "19baa0da-ac6c-4f69-8c18-96194d289e08",
   "metadata": {},
   "outputs": [],
   "source": [
    "mobs = Mob_group({'green-hag':1,'night-hag':2},['night-hag lvl 10'])\n",
    "devils = Mob_group({'imp':4,'spined-devil':4},'chain-devil')"
   ]
  },
  {
   "cell_type": "code",
   "execution_count": 9,
   "id": "c13d73cc-0651-4904-9825-69ff0f4f44f7",
   "metadata": {},
   "outputs": [],
   "source": [
    "plot = f'''1. Ann convida a party perdida para passar a noite na casa dela em meio a floresta\n",
    "2. A noite as night hags geral pesadelos na party e debuff\n",
    "3. Ao acordarem eles não terão recuperado os spells slots e hp\n",
    "4. A Night Hag lvl 10 usa um ritual de invocação e tras os demonios \n",
    "{devils}'''"
   ]
  },
  {
   "cell_type": "code",
   "execution_count": 16,
   "id": "97fb608c-0a5f-4e68-8938-d9428beb9028",
   "metadata": {},
   "outputs": [],
   "source": [
    "## Hag encounter\n",
    "first_idea = 'Party get lost in the woods and find a Hags hut'\n",
    "hags = Encounter('Hags alchemist`s hut', first_idea)\n",
    "location = 'Perdidos'\n",
    "npcs = {'Ann': 'Bela fazendeira que convida a Party para comer em sua casa'}\n",
    "hags.add_mob_group(mobs)\n",
    "hags.set_plot(plot)\n",
    "## rewards\n",
    "rewards = {'ma''Scroll of Calling'}"
   ]
  },
  {
   "cell_type": "code",
   "execution_count": 17,
   "id": "e1675ef0-b192-483a-a226-d166e03717cb",
   "metadata": {},
   "outputs": [
    {
     "data": {
      "text/plain": [
       "Hags alchemist`s hut - ['Perdidos']\n",
       "boss: night-hag lvl 10 \n",
       "mobs:\n",
       "    green-hag: 1\n",
       "    night-hag: 2\n",
       "\n",
       "{'money': , 'common_itens': [], 'magical_items': ['Scroll of Calling']}\n",
       "Hags alchemist`s hut\n",
       "1. Ann convida a party perdida para passar a noite na casa dela em meio a floresta\n",
       "2. A noite as night hags geral pesadelos na party e debuff\n",
       "3. Ao acordarem eles não terão recuperado os spells slots e hp\n",
       "4. A Night Hag lvl 10 usa um ritual de invocação e tras os demonios \n",
       "boss: chain-devil \n",
       "mobs:\n",
       "    imp: 4\n",
       "    spined-devil: 4"
      ]
     },
     "execution_count": 17,
     "metadata": {},
     "output_type": "execute_result"
    }
   ],
   "source": [
    "first_idea = first_idea\n",
    "name = name\n",
    "location = []\n",
    "monsters = {}\n",
    "npcs = {}\n",
    "plot = ''\n",
    "rewards = {'money':Money(0,0,0,0,0),\n",
    "           'common_itens':[],\n",
    "           'magical_items':[]}"
   ]
  },
  {
   "cell_type": "markdown",
   "id": "8630f3c2-e149-4187-a319-844428c16ff9",
   "metadata": {},
   "source": [
    "---"
   ]
  },
  {
   "cell_type": "code",
   "execution_count": 24,
   "id": "785ef52f-5793-4e34-9b57-1faf8677a4c3",
   "metadata": {},
   "outputs": [],
   "source": [
    "rand = create_encounter('Bodak',\n",
    "                     'Qualquer um',\n",
    "                     monsters={'Bodak'},\n",
    "                     npcs={},\n",
    "                     plot='find a random bodak comming out of forest',\n",
    "                     rewards={'magical_items':'Bodak Mask'},\n",
    "                     first_idea = 'find a random bodak comming out of forest')"
   ]
  },
  {
   "cell_type": "code",
   "execution_count": 26,
   "id": "0fb08505-989e-481b-99d0-ef93cae991ed",
   "metadata": {},
   "outputs": [],
   "source": [
    "rand"
   ]
  },
  {
   "cell_type": "code",
   "execution_count": null,
   "id": "fff4af3c-321b-4856-acbb-b2da799530a8",
   "metadata": {},
   "outputs": [],
   "source": []
  }
 ],
 "metadata": {
  "kernelspec": {
   "display_name": "Python 3 (ipykernel)",
   "language": "python",
   "name": "python3"
  },
  "language_info": {
   "codemirror_mode": {
    "name": "ipython",
    "version": 3
   },
   "file_extension": ".py",
   "mimetype": "text/x-python",
   "name": "python",
   "nbconvert_exporter": "python",
   "pygments_lexer": "ipython3",
   "version": "3.7.11"
  }
 },
 "nbformat": 4,
 "nbformat_minor": 5
}
