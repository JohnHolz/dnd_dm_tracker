{
 "cells": [
  {
   "cell_type": "code",
   "execution_count": 9,
   "id": "0ad0b741-daad-4284-9a3a-3cf0e06b85e9",
   "metadata": {},
   "outputs": [],
   "source": [
    "import json\n",
    "import sys\n",
    "sys.path.append('../src/')\n",
    "from item.item import Item, load_item, read_db"
   ]
  },
  {
   "cell_type": "code",
   "execution_count": 10,
   "id": "8e4d5ced-087e-4acc-9e39-e7f963222ca7",
   "metadata": {},
   "outputs": [],
   "source": [
    "items_db_path = '../world/db/items.json'"
   ]
  },
  {
   "cell_type": "code",
   "execution_count": 11,
   "id": "69e82fe5-dff7-49df-8000-c1f76454b583",
   "metadata": {},
   "outputs": [],
   "source": [
    "LarothSword = Item('Laroth`s Lightning Sword','Weapon')\n",
    "LarothSword.add_description('creator','Laroth in Omskirk created the sword after the heros save his son')\n",
    "LarothSword.add_description('damage','Longsword, +1 to hit rolls and +1d4 of Eletrical damage')\n",
    "LarothSword.add_description('magic','Magic item because was LightningMagicMetal ')\n",
    "LarothSword.add_description('upgrade','if get more LightningMagicMetal they can make a upgrade to make give more damage (Run a d20, roll < 5 +1d4lightning, roll < 15 +2d4lightning, roll > 15 +2d4lightning+1d8slashing)')\n",
    "LarothSword.save_item(items_db_path)"
   ]
  },
  {
   "cell_type": "code",
   "execution_count": 12,
   "id": "46c59f50-1a84-4e1c-9545-37b4701cab8b",
   "metadata": {},
   "outputs": [],
   "source": [
    "LightShield = Item('Cleric Light Shield','Weapon')\n",
    "LightShield.add_description('magic','Created by a enchanter to be used by a cleric, it helps the cleric to canalizate easily and block more easily magical damage')\n",
    "LightShield.add_description('AC',+3)\n",
    "LightShield.add_description('Block Magic','If Block a magic heals 1d6')\n",
    "LightShield.save_item(items_db_path)"
   ]
  },
  {
   "cell_type": "code",
   "execution_count": 38,
   "id": "d8c47266-d653-49de-906c-2605e621bef7",
   "metadata": {},
   "outputs": [],
   "source": [
    "Foice = Item('Aussyrk Foice','Weapon')\n",
    "Foice.add_description('damage','rolls +2 hitting and +1 damage')\n",
    "Foice.save_item(items_db_path)"
   ]
  },
  {
   "cell_type": "code",
   "execution_count": 7,
   "id": "1da7570d-f3ab-44a2-9ae4-4906f4dca73c",
   "metadata": {},
   "outputs": [
    {
     "data": {
      "text/plain": [
       "{'name': 'Cleric Light Shield',\n",
       " 'equipment_category': 'Weapon',\n",
       " 'description': {'magic': ['Created by a enchanter to be used by a cleric, it helps the cleric to canalizate easily and block more easily magical damage'],\n",
       "  'AC': [3],\n",
       "  'Block Magic': ['If Block a magic heals 1d6']}}"
      ]
     },
     "execution_count": 7,
     "metadata": {},
     "output_type": "execute_result"
    }
   ],
   "source": [
    "load_item('Cleric Light Shield',items_db_path)"
   ]
  },
  {
   "cell_type": "code",
   "execution_count": 39,
   "id": "85a25236-f715-4ec7-bce5-ad464ddd380c",
   "metadata": {},
   "outputs": [
    {
     "data": {
      "text/html": [
       "<div>\n",
       "<style scoped>\n",
       "    .dataframe tbody tr th:only-of-type {\n",
       "        vertical-align: middle;\n",
       "    }\n",
       "\n",
       "    .dataframe tbody tr th {\n",
       "        vertical-align: top;\n",
       "    }\n",
       "\n",
       "    .dataframe thead th {\n",
       "        text-align: right;\n",
       "    }\n",
       "</style>\n",
       "<table border=\"1\" class=\"dataframe\">\n",
       "  <thead>\n",
       "    <tr style=\"text-align: right;\">\n",
       "      <th></th>\n",
       "      <th>Items</th>\n",
       "      <th>equipment_category</th>\n",
       "    </tr>\n",
       "  </thead>\n",
       "  <tbody>\n",
       "    <tr>\n",
       "      <th>0</th>\n",
       "      <td>Laroth`s Lightning Sword</td>\n",
       "      <td>Weapon</td>\n",
       "    </tr>\n",
       "    <tr>\n",
       "      <th>1</th>\n",
       "      <td>Cleric Light Shield</td>\n",
       "      <td>Weapon</td>\n",
       "    </tr>\n",
       "    <tr>\n",
       "      <th>2</th>\n",
       "      <td>Aussyrk Foice</td>\n",
       "      <td>Weapon</td>\n",
       "    </tr>\n",
       "  </tbody>\n",
       "</table>\n",
       "</div>"
      ],
      "text/plain": [
       "                      Items equipment_category\n",
       "0  Laroth`s Lightning Sword             Weapon\n",
       "1       Cleric Light Shield             Weapon\n",
       "2             Aussyrk Foice             Weapon"
      ]
     },
     "execution_count": 39,
     "metadata": {},
     "output_type": "execute_result"
    }
   ],
   "source": [
    "items_table(items_db_path)"
   ]
  },
  {
   "cell_type": "code",
   "execution_count": null,
   "id": "9931e3c0-a37f-4d39-8c36-beb94f1ce085",
   "metadata": {},
   "outputs": [],
   "source": []
  }
 ],
 "metadata": {
  "kernelspec": {
   "display_name": "Python 3 (ipykernel)",
   "language": "python",
   "name": "python3"
  },
  "language_info": {
   "codemirror_mode": {
    "name": "ipython",
    "version": 3
   },
   "file_extension": ".py",
   "mimetype": "text/x-python",
   "name": "python",
   "nbconvert_exporter": "python",
   "pygments_lexer": "ipython3",
   "version": "3.7.11"
  }
 },
 "nbformat": 4,
 "nbformat_minor": 5
}
