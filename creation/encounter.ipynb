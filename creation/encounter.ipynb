{
 "cells": [
  {
   "cell_type": "code",
   "execution_count": 16,
   "id": "b4adb743-3ec5-4196-bea4-ab3dcb54f867",
   "metadata": {},
   "outputs": [],
   "source": [
    "import sys\n",
    "sys.path.append('../src/')\n",
    "from encounter.encounters import Encounter, get_encounter\n",
    "from small.mob_group import mobs_table\n",
    "encounters_path = '../world/db/locane/encounters.json'"
   ]
  },
  {
   "cell_type": "code",
   "execution_count": 62,
   "id": "cbace975-2329-4e5d-9475-499232e9530e",
   "metadata": {},
   "outputs": [
    {
     "data": {
      "text/html": [
       "<div>\n",
       "<style scoped>\n",
       "    .dataframe tbody tr th:only-of-type {\n",
       "        vertical-align: middle;\n",
       "    }\n",
       "\n",
       "    .dataframe tbody tr th {\n",
       "        vertical-align: top;\n",
       "    }\n",
       "\n",
       "    .dataframe thead th {\n",
       "        text-align: right;\n",
       "    }\n",
       "</style>\n",
       "<table border=\"1\" class=\"dataframe\">\n",
       "  <thead>\n",
       "    <tr style=\"text-align: right;\">\n",
       "      <th></th>\n",
       "      <th>group-id</th>\n",
       "      <th>cr</th>\n",
       "      <th>n</th>\n",
       "      <th>mobs</th>\n",
       "      <th>boss</th>\n",
       "    </tr>\n",
       "  </thead>\n",
       "  <tbody>\n",
       "    <tr>\n",
       "      <th>0</th>\n",
       "      <td>3-basilisk</td>\n",
       "      <td>3</td>\n",
       "      <td>7</td>\n",
       "      <td>{'kobold': 6}</td>\n",
       "      <td>[basilisk]</td>\n",
       "    </tr>\n",
       "    <tr>\n",
       "      <th>1</th>\n",
       "      <td>4-warlord orc</td>\n",
       "      <td>4</td>\n",
       "      <td>11</td>\n",
       "      <td>{'orog': 4, 'orcs': 6}</td>\n",
       "      <td>[warlord orc]</td>\n",
       "    </tr>\n",
       "    <tr>\n",
       "      <th>2</th>\n",
       "      <td>8yuan-ti warrior</td>\n",
       "      <td>8</td>\n",
       "      <td>6</td>\n",
       "      <td>{'yuan-ti warrior': 4, 'yuan-ti spellcaster': 2}</td>\n",
       "      <td>[]</td>\n",
       "    </tr>\n",
       "    <tr>\n",
       "      <th>3</th>\n",
       "      <td>11-yuan-ti Anatema</td>\n",
       "      <td>11</td>\n",
       "      <td>13</td>\n",
       "      <td>{'group1-yuan-ti warrior': 4, 'group1-yuan-ti ...</td>\n",
       "      <td>[yuan-ti Anatema]</td>\n",
       "    </tr>\n",
       "    <tr>\n",
       "      <th>4</th>\n",
       "      <td>9Wyvern</td>\n",
       "      <td>9</td>\n",
       "      <td>4</td>\n",
       "      <td>{'Wyvern': 4}</td>\n",
       "      <td>[]</td>\n",
       "    </tr>\n",
       "    <tr>\n",
       "      <th>5</th>\n",
       "      <td>6Wyvern</td>\n",
       "      <td>6</td>\n",
       "      <td>2</td>\n",
       "      <td>{'Wyvern': 2}</td>\n",
       "      <td>[]</td>\n",
       "    </tr>\n",
       "    <tr>\n",
       "      <th>6</th>\n",
       "      <td>9Beholder Zobie</td>\n",
       "      <td>9</td>\n",
       "      <td>3</td>\n",
       "      <td>{'Beholder Zobie': 1, 'Ultroloth': 1, 'mezzolo...</td>\n",
       "      <td>[]</td>\n",
       "    </tr>\n",
       "    <tr>\n",
       "      <th>7</th>\n",
       "      <td>11-Behir</td>\n",
       "      <td>11</td>\n",
       "      <td>1</td>\n",
       "      <td>{'Behir': 0}</td>\n",
       "      <td>[Behir]</td>\n",
       "    </tr>\n",
       "  </tbody>\n",
       "</table>\n",
       "</div>"
      ],
      "text/plain": [
       "             group-id  cr   n  \\\n",
       "0          3-basilisk   3   7   \n",
       "1       4-warlord orc   4  11   \n",
       "2    8yuan-ti warrior   8   6   \n",
       "3  11-yuan-ti Anatema  11  13   \n",
       "4             9Wyvern   9   4   \n",
       "5             6Wyvern   6   2   \n",
       "6     9Beholder Zobie   9   3   \n",
       "7            11-Behir  11   1   \n",
       "\n",
       "                                                mobs               boss  \n",
       "0                                      {'kobold': 6}         [basilisk]  \n",
       "1                             {'orog': 4, 'orcs': 6}      [warlord orc]  \n",
       "2   {'yuan-ti warrior': 4, 'yuan-ti spellcaster': 2}                 []  \n",
       "3  {'group1-yuan-ti warrior': 4, 'group1-yuan-ti ...  [yuan-ti Anatema]  \n",
       "4                                      {'Wyvern': 4}                 []  \n",
       "5                                      {'Wyvern': 2}                 []  \n",
       "6  {'Beholder Zobie': 1, 'Ultroloth': 1, 'mezzolo...                 []  \n",
       "7                                       {'Behir': 0}            [Behir]  "
      ]
     },
     "execution_count": 62,
     "metadata": {},
     "output_type": "execute_result"
    }
   ],
   "source": [
    "mobs_table('../world/db/mob_group.json')"
   ]
  },
  {
   "cell_type": "markdown",
   "id": "82dfcdcd-1f1f-4616-994c-e28825ab7b3c",
   "metadata": {
    "jp-MarkdownHeadingCollapsed": true,
    "tags": []
   },
   "source": [
    "## Inner Circle "
   ]
  },
  {
   "cell_type": "code",
   "execution_count": 24,
   "id": "4c06bb3a-20c0-4074-bc60-afa7067b0ac8",
   "metadata": {},
   "outputs": [],
   "source": [
    "name = 'the Circle Inner place entrance - Neverend Forest'\n",
    "locations = ['Neverend Forest','Circle Inner Plane']\n",
    "rewards = ['Raulothim`s Magic Ring of Component Material', 'Scroll of Air Elemental Summoning','Scroll of True Sight for 2 Hours']\n",
    "info = [\"Mob group\",\"11-yuan-ti Anatema\"]\n",
    "plot = \"1. Wait fill the sun gets down to the doors open\""
   ]
  },
  {
   "cell_type": "code",
   "execution_count": 25,
   "id": "e6d61595-dbda-46d0-ae55-8341a9214b07",
   "metadata": {},
   "outputs": [],
   "source": [
    "encounter = Encounter(name)\n",
    "encounter.location = locations\n",
    "encounter.add_magical_item(rewards[1])\n",
    "encounter.add_magical_item(rewards[0])\n",
    "encounter.add_info(info[0],info[1])\n",
    "encounter.set_plot(plot)"
   ]
  },
  {
   "cell_type": "code",
   "execution_count": 26,
   "id": "60a393c6-0f0f-44f2-aae2-79e809ab5969",
   "metadata": {},
   "outputs": [],
   "source": [
    "encounter.save_encounter(encounters_path)"
   ]
  },
  {
   "cell_type": "markdown",
   "id": "2c850d01-0c51-4bab-b682-6550bb5fe185",
   "metadata": {
    "jp-MarkdownHeadingCollapsed": true,
    "tags": []
   },
   "source": [
    "## Dragon Turtle Back"
   ]
  },
  {
   "cell_type": "code",
   "execution_count": 32,
   "id": "13494bc2-13e6-4199-beee-c44da6127b18",
   "metadata": {},
   "outputs": [],
   "source": [
    "name = 'Find Aremag'\n",
    "locations = ['Neverend Forest','Flooded Neverend Forest Part']\n",
    "info1 = [\"NPCs\",\"Aremag\"]\n",
    "info2 = [\"Find\",\"Just can been see from 1 mile of distance, big magic invisibility field around\"]\n",
    "info3 = [\"Mob Group\",\"9Wyvern\"]\n",
    "plot = \"Look for a magic field with true sight of things like that, get close the dragon turtle and get up while he is sleeping\""
   ]
  },
  {
   "cell_type": "code",
   "execution_count": 37,
   "id": "11433e67-ea9c-4259-a6b9-dfdc8c20dcd6",
   "metadata": {},
   "outputs": [],
   "source": [
    "encounter = Encounter(name)\n",
    "encounter.location = locations\n",
    "encounter.add_info(info1[0],info1[1])\n",
    "encounter.add_info(info2[0],info2[1])\n",
    "encounter.add_info(info3[0],info3[1])\n",
    "encounter.set_plot(plot)\n",
    "encounter.add_item('ruby')\n",
    "encounter.add_item('pearl')"
   ]
  },
  {
   "cell_type": "code",
   "execution_count": 38,
   "id": "f61cf309-369b-4d7d-bdde-15354b1fcc98",
   "metadata": {},
   "outputs": [],
   "source": [
    "encounter.save_encounter(encounters_path)"
   ]
  },
  {
   "cell_type": "markdown",
   "id": "1d98a210-048a-47ee-b759-02ebd7f4ef05",
   "metadata": {
    "jp-MarkdownHeadingCollapsed": true,
    "tags": []
   },
   "source": [
    "## Under Grimsby Dungeon"
   ]
  },
  {
   "cell_type": "code",
   "execution_count": 59,
   "id": "e883515b-18b4-4b69-b76e-1dc5c5bf6673",
   "metadata": {},
   "outputs": [],
   "source": [
    "name = 'Grimsby lost old dungeon'\n",
    "locations = ['Grimsby']\n",
    "info1 = [\"npcs\",\"Faam\"]\n",
    "info2 = [\"Entrance_corridor\", \n",
    "         [\"corredor grande cheio de portas com salas vazias, e um pouco de ouro joado, umas 50 moedas somando todas as salas\",\n",
    "        \"traps: a primeira é uma lança, a segunda é um gas que produz nauseas por 1 hora, disvantagem nas rolagens de habilidade\"]]\n",
    "Salao = \"\"\"\n",
    "Grande Salão vazio, coisas velhas no chão, o que chama atençao é que é aberto para as cachoeiras e para o lago, wyrvens no teto,\n",
    "muita madera velha quebrada no chão, 3 andares de escada levam a altura do salão, \n",
    "e ficando na ponta da sala antes de uma gigantesca queda no lago há um pedestal que tem uma joia pequena, \n",
    "6Wyrmir mob group dentro da sala, nos altos das paredes, \n",
    "tem uma porta pequena que da para uma escadaria que da para outra sala\"\"\"\n",
    "info3 = [\"Room1\",Salao]\n",
    "sala_sem_janelas='descendo pela escadaria, ao entrar na sala, da pra ver um corpo grande em putrefação, caso chegarem perto ou fizerem barulho eles acordam o 9Beholder Zobie e assim o mob group é sumonado' \n",
    "info4 = [\"Room2\",sala_sem_janelas]\n",
    "plot = \"Nessa sala tem papel no chão, e alguns barris, uma parede pintada com uma pintura bem bonita de um behir, e no meio da parede um scroll de BANIR O MOB PRA CASA DELE\""
   ]
  },
  {
   "cell_type": "code",
   "execution_count": 60,
   "id": "61a73d83-338a-4995-a948-43fe0004a64e",
   "metadata": {},
   "outputs": [],
   "source": [
    "encounter = Encounter(name)\n",
    "encounter.location = locations\n",
    "encounter.add_info(info1[0],info1[1])\n",
    "encounter.add_info(info2[0],info2[1])\n",
    "encounter.add_info(info3[0],info3[1])\n",
    "encounter.add_info(info4[0],info4[1])\n",
    "encounter.set_plot(plot)\n",
    "encounter.add_magical_item('Magic stone that opens a wall at start of the dungeon')\n",
    "encounter.add_magical_item('Scroll of Banning ##Mob To Home')"
   ]
  },
  {
   "cell_type": "code",
   "execution_count": 61,
   "id": "fda1224d-da30-4000-bc5b-f99ec4dbf4f1",
   "metadata": {},
   "outputs": [],
   "source": [
    "encounter.save_encounter(encounters_path)"
   ]
  },
  {
   "cell_type": "markdown",
   "id": "4cb371fd-8df9-4802-9bd3-f595ef5bb22a",
   "metadata": {
    "jp-MarkdownHeadingCollapsed": true,
    "tags": []
   },
   "source": [
    "## Shamam Temple"
   ]
  },
  {
   "cell_type": "code",
   "execution_count": 55,
   "id": "e3e356d1-2a7e-4634-a4be-52bb3292f0ba",
   "metadata": {},
   "outputs": [],
   "source": [
    "name = 'Shmam Sky City'\n",
    "locations = ['Neverend Forest', 'Flying in Sky']\n",
    "info1 = [\"NPCs\",\"Divine Shamam\"]\n",
    "info2 = [\"Temple\",\"Shamam in the middle\"]\n",
    "info3 = [\"Mob Group\",\"11-Behir\"]\n",
    "plot = \"Behir é o pet da shamam, usando o scroll ele volta para a casa dela, assim ele corre irritado para cima da party, mas isso faz com que a Shamam perceba e vá ajudar seu Pet\""
   ]
  },
  {
   "cell_type": "code",
   "execution_count": 56,
   "id": "c2602d18-e9cf-4ee4-aa67-491fa28025be",
   "metadata": {},
   "outputs": [],
   "source": [
    "encounter = Encounter(name)\n",
    "encounter.location = locations\n",
    "encounter.add_info(info1[0],info1[1])\n",
    "encounter.add_info(info2[0],info2[1])\n",
    "encounter.add_info(info3[0],info3[1])\n",
    "encounter.set_plot(plot)\n",
    "encounter.add_magical_item('Teach how to cast Conjure Elemental')"
   ]
  },
  {
   "cell_type": "code",
   "execution_count": 57,
   "id": "e71d0c8e-120e-43f5-a6f8-182eeec46bea",
   "metadata": {},
   "outputs": [],
   "source": [
    "encounter.save_encounter(encounters_path)"
   ]
  },
  {
   "cell_type": "code",
   "execution_count": null,
   "id": "37802ba3-eb8a-44b6-909c-ca8d25337fda",
   "metadata": {},
   "outputs": [],
   "source": []
  }
 ],
 "metadata": {
  "kernelspec": {
   "display_name": "Python 3 (ipykernel)",
   "language": "python",
   "name": "python3"
  },
  "language_info": {
   "codemirror_mode": {
    "name": "ipython",
    "version": 3
   },
   "file_extension": ".py",
   "mimetype": "text/x-python",
   "name": "python",
   "nbconvert_exporter": "python",
   "pygments_lexer": "ipython3",
   "version": "3.7.11"
  }
 },
 "nbformat": 4,
 "nbformat_minor": 5
}
