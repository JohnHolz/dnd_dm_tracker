{
 "cells": [
  {
   "cell_type": "code",
   "execution_count": 2,
   "id": "0ad0b741-daad-4284-9a3a-3cf0e06b85e9",
   "metadata": {},
   "outputs": [],
   "source": [
    "import json\n",
    "import sys\n",
    "sys.path.append('../src/')"
   ]
  },
  {
   "cell_type": "code",
   "execution_count": 3,
   "id": "d239e031-5d51-45aa-8ee7-65e8c9946d0c",
   "metadata": {},
   "outputs": [],
   "source": [
    "from item.item import Item, load_item, read_db, items_table"
   ]
  },
  {
   "cell_type": "markdown",
   "id": "bb317e99-d8ab-4b0b-98e3-77db6df4b914",
   "metadata": {},
   "source": [
    "## Table"
   ]
  },
  {
   "cell_type": "code",
   "execution_count": 18,
   "id": "2d8519e3-c414-4697-b452-3552368451b3",
   "metadata": {},
   "outputs": [
    {
     "data": {
      "text/html": [
       "<div>\n",
       "<style scoped>\n",
       "    .dataframe tbody tr th:only-of-type {\n",
       "        vertical-align: middle;\n",
       "    }\n",
       "\n",
       "    .dataframe tbody tr th {\n",
       "        vertical-align: top;\n",
       "    }\n",
       "\n",
       "    .dataframe thead th {\n",
       "        text-align: right;\n",
       "    }\n",
       "</style>\n",
       "<table border=\"1\" class=\"dataframe\">\n",
       "  <thead>\n",
       "    <tr style=\"text-align: right;\">\n",
       "      <th></th>\n",
       "      <th>Items</th>\n",
       "      <th>equipment_category</th>\n",
       "    </tr>\n",
       "  </thead>\n",
       "  <tbody>\n",
       "    <tr>\n",
       "      <th>0</th>\n",
       "      <td>Laroth`s Lightning Sword</td>\n",
       "      <td>Weapon</td>\n",
       "    </tr>\n",
       "    <tr>\n",
       "      <th>1</th>\n",
       "      <td>Aussyrk Foice</td>\n",
       "      <td>Weapon</td>\n",
       "    </tr>\n",
       "  </tbody>\n",
       "</table>\n",
       "</div>"
      ],
      "text/plain": [
       "                      Items equipment_category\n",
       "0  Laroth`s Lightning Sword             Weapon\n",
       "1             Aussyrk Foice             Weapon"
      ]
     },
     "execution_count": 18,
     "metadata": {},
     "output_type": "execute_result"
    }
   ],
   "source": [
    "items_table('../world/db/1_itens_start.json')"
   ]
  },
  {
   "cell_type": "markdown",
   "id": "8be8133f-a00c-464e-8fd5-7cc8f5eaac18",
   "metadata": {
    "jp-MarkdownHeadingCollapsed": true,
    "tags": []
   },
   "source": [
    "## Creation"
   ]
  },
  {
   "cell_type": "code",
   "execution_count": 10,
   "id": "8e4d5ced-087e-4acc-9e39-e7f963222ca7",
   "metadata": {},
   "outputs": [],
   "source": [
    "items_db_path = '../world/db/items.json'\n",
    "items_minor = '../world/db/items_minor.json'\n",
    "items_major = '../world/db/items_major.json'\n",
    "\n",
    "lvl05 = '../world/db/1_itens_start.json'\n",
    "lvl10 = '../world/db/2_itens_5-10.json'\n",
    "lvl15 = '../world/db/3_itens_10-15.json'\n",
    "lvl20 = '../world/db/4_itens_15+.json'"
   ]
  },
  {
   "cell_type": "code",
   "execution_count": 11,
   "id": "69e82fe5-dff7-49df-8000-c1f76454b583",
   "metadata": {},
   "outputs": [],
   "source": [
    "LarothSword = Item('Laroth`s Lightning Sword','Weapon')\n",
    "LarothSword.add_description('creator','Laroth in Omskirk created the sword after the heros save his son')\n",
    "LarothSword.add_description('damage','Longsword, +1 to hit rolls and +1d4 of Eletrical damage')\n",
    "LarothSword.add_description('magic','Magic item because was LightningMagicMetal ')\n",
    "LarothSword.add_description('upgrade','if get more LightningMagicMetal they can make a upgrade to make give more damage (Run a d20, roll < 5 +1d4lightning, roll < 15 +2d4lightning, roll > 15 +2d4lightning+1d8slashing)')\n",
    "LarothSword.save_item(lvl05)"
   ]
  },
  {
   "cell_type": "code",
   "execution_count": 12,
   "id": "46c59f50-1a84-4e1c-9545-37b4701cab8b",
   "metadata": {},
   "outputs": [],
   "source": [
    "LightShield = Item('Cleric Light Shield','Weapon')\n",
    "LightShield.add_description('magic','Created by a enchanter to be used by a cleric, it helps the cleric to canalizate easily and block more easily magical damage')\n",
    "LightShield.add_description('AC',+3)\n",
    "LightShield.add_description('Block Magic','If Block a magic heals 1d6')\n",
    "LightShield.save_item(lvl10)"
   ]
  },
  {
   "cell_type": "code",
   "execution_count": 13,
   "id": "d8c47266-d653-49de-906c-2605e621bef7",
   "metadata": {},
   "outputs": [],
   "source": [
    "Foice = Item('Aussyrk Foice','Weapon')\n",
    "Foice.add_description('damage','rolls +2 hitting and +1 damage')\n",
    "Foice.save_item(lvl05)"
   ]
  },
  {
   "cell_type": "code",
   "execution_count": 14,
   "id": "175b26ea-ae50-44d6-b903-70855141db54",
   "metadata": {},
   "outputs": [],
   "source": [
    "Orb = Item('Misterious Orb','Adventuring Gear')\n",
    "Orb.add_description('appearence','the orb looks like a GudeBall, red and dark as in lord of the rings')\n",
    "Orb.add_description('aura','a strong and weird aura surrounds it')\n",
    "Orb.add_description('hidden','Major Ogmar`s Orb of Power')\n",
    "Orb.save_item(lvl15)"
   ]
  },
  {
   "cell_type": "code",
   "execution_count": 15,
   "id": "ff980124-0347-4399-99f8-2adb151eb6a4",
   "metadata": {},
   "outputs": [],
   "source": [
    "Orb = Item('Major Ogmar`s Orb of Power','Adventuring Gear')\n",
    "Orb.add_description('appearence','the orb looks like a GudeBall, red and dark as in lord of the rings')\n",
    "Orb.add_description('aura','a strong and weird aura surrounds it')\n",
    "Orb.add_description('power','the Orb gives you a 10th spell sloth power')\n",
    "Orb.add_description('magic defence','the Orb cannob be destroied and protect its owner with dispel magic if he or she is holding')\n",
    "Orb.save_item(lvl15)"
   ]
  },
  {
   "cell_type": "code",
   "execution_count": 16,
   "id": "e65e87a6-48cf-4c8e-9792-31480c04e32d",
   "metadata": {},
   "outputs": [],
   "source": [
    "item = Item('Raulothim`s Magic Ring of Component Material','Adventure Gear')\n",
    "item.add_description('appearence','look like a very strong brown stone, with green marks')\n",
    "item.add_description('power','have till 2 slots, every slot can be used as a 200gp precious stones material component or as material to conjure an Elemental')\n",
    "item.add_description('creation','created by raulothim for help small creatures to cast more spells')\n",
    "item.save_item(lvl10)"
   ]
  },
  {
   "cell_type": "code",
   "execution_count": 17,
   "id": "e10b92c9-58fb-4091-ac18-0b4e737378c6",
   "metadata": {},
   "outputs": [],
   "source": [
    "item = Item('Dexterity Cloak','Armor')\n",
    "item.add_description('appearence','Beaultiful dark green cloak')\n",
    "item.add_description('magic','+2 Dex')\n",
    "item.add_description('creation','Light elf magic cloak from rangers wood elfs')\n",
    "item.save_item(lvl10)"
   ]
  },
  {
   "cell_type": "code",
   "execution_count": null,
   "id": "22f9719e-7d5a-4b27-b919-3e048f4442f8",
   "metadata": {},
   "outputs": [],
   "source": []
  }
 ],
 "metadata": {
  "kernelspec": {
   "display_name": "Python 3 (ipykernel)",
   "language": "python",
   "name": "python3"
  },
  "language_info": {
   "codemirror_mode": {
    "name": "ipython",
    "version": 3
   },
   "file_extension": ".py",
   "mimetype": "text/x-python",
   "name": "python",
   "nbconvert_exporter": "python",
   "pygments_lexer": "ipython3",
   "version": "3.7.11"
  }
 },
 "nbformat": 4,
 "nbformat_minor": 5
}
