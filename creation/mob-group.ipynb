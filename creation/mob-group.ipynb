{
 "cells": [
  {
   "cell_type": "code",
   "execution_count": 1,
   "id": "4ab9f973-2699-4bd5-9978-7dbaa98b4bfe",
   "metadata": {},
   "outputs": [],
   "source": [
    "import json\n",
    "import sys\n",
    "sys.path.append('../src/')"
   ]
  },
  {
   "cell_type": "code",
   "execution_count": 2,
   "id": "c143a844-d15f-4bdd-8af6-50300dd126b2",
   "metadata": {},
   "outputs": [],
   "source": [
    "mob_group_path_db = '../world/db/mob_group.json'"
   ]
  },
  {
   "cell_type": "code",
   "execution_count": 3,
   "id": "1966850d-bd12-4f70-8f09-74b416953b8a",
   "metadata": {},
   "outputs": [],
   "source": [
    "from small.mob_group import Mob_group,dict_to_mob_gr, load_mob_group, mobs_table"
   ]
  },
  {
   "cell_type": "markdown",
   "id": "cf234dca-b2cf-42f7-bdba-f70858cc8eca",
   "metadata": {},
   "source": [
    "## Declaring mobs"
   ]
  },
  {
   "cell_type": "code",
   "execution_count": 4,
   "id": "e9345378-20a5-436a-bc83-6b85e40df621",
   "metadata": {},
   "outputs": [],
   "source": [
    "mob_group = Mob_group({'kobold':6},['basilisk'])\n",
    "mob_group.save_group(mob_group_path_db)"
   ]
  },
  {
   "cell_type": "code",
   "execution_count": 10,
   "id": "d65d38f5-830c-4e84-afe3-a44f8b5568c2",
   "metadata": {},
   "outputs": [],
   "source": [
    "mob_group = Mob_group({'orog':4,'orcs':6},['warlord orc'])\n",
    "mob_group.save_group(mob_group_path_db)"
   ]
  },
  {
   "cell_type": "code",
   "execution_count": 12,
   "id": "ab571fb7-09bc-4b27-9e78-0581ca66cf7b",
   "metadata": {},
   "outputs": [],
   "source": [
    "mob_group = Mob_group({'yuanti warrior':4,'yuanti spellcaster':2},['Yuanti Anatema'])\n",
    "mob_group.save_group(mob_group_path_db)"
   ]
  },
  {
   "cell_type": "markdown",
   "id": "77e211bb-0b6c-4d1d-82bf-058371ec6d08",
   "metadata": {},
   "source": [
    "## Reading db"
   ]
  },
  {
   "cell_type": "code",
   "execution_count": 13,
   "id": "c3680b08-3ee6-452b-a829-af9998cb8ff8",
   "metadata": {},
   "outputs": [
    {
     "data": {
      "text/html": [
       "<div>\n",
       "<style scoped>\n",
       "    .dataframe tbody tr th:only-of-type {\n",
       "        vertical-align: middle;\n",
       "    }\n",
       "\n",
       "    .dataframe tbody tr th {\n",
       "        vertical-align: top;\n",
       "    }\n",
       "\n",
       "    .dataframe thead th {\n",
       "        text-align: right;\n",
       "    }\n",
       "</style>\n",
       "<table border=\"1\" class=\"dataframe\">\n",
       "  <thead>\n",
       "    <tr style=\"text-align: right;\">\n",
       "      <th></th>\n",
       "      <th>group-id</th>\n",
       "      <th>cr</th>\n",
       "      <th>n</th>\n",
       "      <th>mobs</th>\n",
       "      <th>boss</th>\n",
       "    </tr>\n",
       "  </thead>\n",
       "  <tbody>\n",
       "    <tr>\n",
       "      <th>0</th>\n",
       "      <td>0-basilisk</td>\n",
       "      <td>0</td>\n",
       "      <td>7</td>\n",
       "      <td>{'kobold': 6}</td>\n",
       "      <td>[basilisk]</td>\n",
       "    </tr>\n",
       "    <tr>\n",
       "      <th>1</th>\n",
       "      <td>0-warlord orc</td>\n",
       "      <td>0</td>\n",
       "      <td>11</td>\n",
       "      <td>{'orog': 4, 'orcs': 6}</td>\n",
       "      <td>[warlord orc]</td>\n",
       "    </tr>\n",
       "    <tr>\n",
       "      <th>2</th>\n",
       "      <td>0-Yuanti Anatema</td>\n",
       "      <td>0</td>\n",
       "      <td>7</td>\n",
       "      <td>{'yuanti warrior': 4, 'yuanti spellcaster': 2}</td>\n",
       "      <td>[Yuanti Anatema]</td>\n",
       "    </tr>\n",
       "  </tbody>\n",
       "</table>\n",
       "</div>"
      ],
      "text/plain": [
       "           group-id  cr   n                                            mobs  \\\n",
       "0        0-basilisk   0   7                                   {'kobold': 6}   \n",
       "1     0-warlord orc   0  11                          {'orog': 4, 'orcs': 6}   \n",
       "2  0-Yuanti Anatema   0   7  {'yuanti warrior': 4, 'yuanti spellcaster': 2}   \n",
       "\n",
       "               boss  \n",
       "0        [basilisk]  \n",
       "1     [warlord orc]  \n",
       "2  [Yuanti Anatema]  "
      ]
     },
     "execution_count": 13,
     "metadata": {},
     "output_type": "execute_result"
    }
   ],
   "source": [
    "mobs_table(mob_group_path_db)"
   ]
  },
  {
   "cell_type": "code",
   "execution_count": 15,
   "id": "66b4c670-f04d-469d-b653-d7b2a5dea836",
   "metadata": {},
   "outputs": [
    {
     "data": {
      "text/plain": [
       "boss: warlord orc \n",
       "mobs:\n",
       "    orog: 4\n",
       "    orcs: 6"
      ]
     },
     "execution_count": 15,
     "metadata": {},
     "output_type": "execute_result"
    }
   ],
   "source": [
    "load_mob_group('0-warlord orc',mob_group_path_db)"
   ]
  }
 ],
 "metadata": {
  "kernelspec": {
   "display_name": "Python 3 (ipykernel)",
   "language": "python",
   "name": "python3"
  },
  "language_info": {
   "codemirror_mode": {
    "name": "ipython",
    "version": 3
   },
   "file_extension": ".py",
   "mimetype": "text/x-python",
   "name": "python",
   "nbconvert_exporter": "python",
   "pygments_lexer": "ipython3",
   "version": "3.7.11"
  }
 },
 "nbformat": 4,
 "nbformat_minor": 5
}
