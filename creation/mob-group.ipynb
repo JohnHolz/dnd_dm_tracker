{
 "cells": [
  {
   "cell_type": "code",
   "execution_count": 6,
   "id": "4ab9f973-2699-4bd5-9978-7dbaa98b4bfe",
   "metadata": {},
   "outputs": [],
   "source": [
    "import os\n",
    "os.chdir('../')"
   ]
  },
  {
   "cell_type": "code",
   "execution_count": null,
   "id": "junior-ministry",
   "metadata": {},
   "outputs": [],
   "source": [
    "from systems.core.coin import Money\n",
    "\n",
    "class Encounter():\n",
    "    def __init__(self, first_idea):\n",
    "        self.first_idea = first_idea\n",
    "        self.name = ''\n",
    "        self.location = []\n",
    "        self.monsters = {'order1':[],'boss':[]}\n",
    "        self.npcs = {}\n",
    "        self.rewards = {'money':Money(0,0,0,0,0)}\n",
    "        self.plot = ''\n",
    "    \n",
    "    \"\"\"\n",
    "    @ name - String\n",
    "    @ location - vector\n",
    "    @ monsters - dict in orders + boss\n",
    "        * order - list\n",
    "        * sub-boss - list\n",
    "        * boss - string\n",
    "    @ npcs - dict \n",
    "        * key:npc name\n",
    "        * value:part in the encounter\n",
    "    @ rewards - dict\n",
    "        * gp: value\n",
    "        * common_itens: list\n",
    "        * magical_itens: list\n",
    "    \"\"\"\n",
    "\n",
    "    ## name/repr\n",
    "    def __repr__(self):\n",
    "        ret = f\"\"\"\n",
    "        {self.name}\n",
    "        location: {self.location}\n",
    "        npcs: {self.npcs}\n",
    "        rewards: {self.rewards}\n",
    "        plot: {self.plot}\n",
    "        \"\"\"\n",
    "        return ret\n",
    "\n",
    "    def set_name(self,name):\n",
    "        self.name = name\n",
    "        self.plot = self.name + '\\n' + self.plot\n",
    "\n",
    "    \n",
    "    ## ! location\n",
    "    def add_location(self, location):\n",
    "        self.location = self.location + [location]\n",
    "\n",
    "    ## ! npcs\n",
    "    def add_npc(self, npc, text):\n",
    "        ret = f'self.npcs[\"{npc}\"] = \"{text}\"'\n",
    "        exec(ret)\n",
    "\n",
    "    def rm_npc(self, npc):\n",
    "        ret = f'del r[\"{npc}\"]'\n",
    "        exec(ret)\n",
    "\n",
    "    ## ! rewards\n",
    "    def add_item(self, item):\n",
    "        self.rewards['common_itens'] = self.rewards['common_itens'] + [item]\n",
    "\n",
    "    def add_magical_item(self, magical_item):\n",
    "        self.rewards['magical_items'] = self.rewards['magical_items'] + [magical_item]\n",
    "\n",
    "    ## ! plot\n",
    "    def add_info(self, new_info):\n",
    "        self.plot = self.plot + f'\\n{new_info}'"
   ]
  },
  {
   "cell_type": "code",
   "execution_count": null,
   "id": "complex-command",
   "metadata": {},
   "outputs": [],
   "source": [
    "raulothim_encounter = Encounter('first time in raulothim lair - send faquin back to giants valley and idea for find the shaman')"
   ]
  },
  {
   "cell_type": "code",
   "execution_count": null,
   "id": "utility-liverpool",
   "metadata": {},
   "outputs": [],
   "source": [
    "raulothim_encounter.set_name('Raulothim`s lair')\n",
    "raulothim_encounter.add_location('Raulothim`s lair')\n",
    "raulothim_encounter.add_npc('Raulothim', 'Main npc - vai enviar o gigante de volta, entregar diversas rewards e devagar sobre acontecimentos importantes')\n",
    "raulothim_encounter.rewards['money'].update_money(1000,'ep')"
   ]
  },
  {
   "cell_type": "code",
   "execution_count": null,
   "id": "attended-learning",
   "metadata": {},
   "outputs": [
    {
     "data": {
      "text/plain": [
       "'\\n1. Estão dentro de Raulothim`s lair\\n2. Descrição do lugar\\n3. \\n'"
      ]
     },
     "execution_count": 11,
     "metadata": {},
     "output_type": "execute_result"
    }
   ],
   "source": [
    "\"\"\"\n",
    "1. Estão dentro de Raulothim`s lair\n",
    "2. Descrição do lugar\n",
    "3. \n",
    "\"\"\"\n",
    "# raulothim_encounter.add"
   ]
  },
  {
   "cell_type": "code",
   "execution_count": 1,
   "id": "desperate-longitude",
   "metadata": {},
   "outputs": [
    {
     "data": {
      "text/plain": [
       "'Ceu é amarelo dourado escuro\\nCaminhos muito bem definidos\\nPintas nas arvores brilham forte\\nCogumelos do tamanho de dragoes\\nArvores menores que os cogumelos porem ainda maiores que as tradicionais, e dos formatos mais diferentes possiveis\\nembaixo desses cogumelos gigantescos vivem animais de mais diversos tipos\\n    1. vespas do tamanho de cachorros\\n    2. aranhas gigantes\\n    3. kobolds minusculos como formigas fazendo ninhos gigantescos\\n    4. aguias como as do senhor dos aneis no alto das arvores\\n\\nChegando em raulothim vemos algumas casas - vemos que existem alguns magos.\\nvemos que tem 4 magos habitando o lugar, porem vemos 8/9 casas simpaticas\\n\\no conselho da Magia:\\n1. Raulothim\\n2. \\n3. \\n4. Rudighar cavebreaker\\n5. Erthrandir\\n6.\\n7.\\n8.\\n9.\\n\\n'"
      ]
     },
     "execution_count": 1,
     "metadata": {},
     "output_type": "execute_result"
    }
   ],
   "source": [
    "\"\"\"Ceu é amarelo dourado escuro\n",
    "Caminhos muito bem definidos\n",
    "Pintas nas arvores brilham forte\n",
    "Cogumelos do tamanho de dragoes\n",
    "Arvores menores que os cogumelos porem ainda maiores que as tradicionais, e dos formatos mais diferentes possiveis\n",
    "embaixo desses cogumelos gigantescos vivem animais de mais diversos tipos\n",
    "    1. vespas do tamanho de cachorros\n",
    "    2. aranhas gigantes\n",
    "    3. kobolds minusculos como formigas fazendo ninhos gigantescos\n",
    "    4. aguias como as do senhor dos aneis no alto das arvores\n",
    "\n",
    "Chegando em raulothim vemos algumas casas - vemos que existem alguns magos.\n",
    "vemos que tem 4 magos habitando o lugar, porem vemos 8/9 casas simpaticas\n",
    "\n",
    "o conselho da Magia:\n",
    "1. Raulothim\n",
    "2. \n",
    "3. \n",
    "4. Rudighar cavebreaker\n",
    "5. Erthrandir\n",
    "6.\n",
    "7.\n",
    "8.\n",
    "9.\n",
    "\"\"\""
   ]
  },
  {
   "cell_type": "code",
   "execution_count": null,
   "id": "1966850d-bd12-4f70-8f09-74b416953b8a",
   "metadata": {},
   "outputs": [],
   "source": []
  }
 ],
 "metadata": {
  "kernelspec": {
   "display_name": "Python 3 (ipykernel)",
   "language": "python",
   "name": "python3"
  },
  "language_info": {
   "codemirror_mode": {
    "name": "ipython",
    "version": 3
   },
   "file_extension": ".py",
   "mimetype": "text/x-python",
   "name": "python",
   "nbconvert_exporter": "python",
   "pygments_lexer": "ipython3",
   "version": "3.7.11"
  }
 },
 "nbformat": 4,
 "nbformat_minor": 5
}
