{
 "cells": [
  {
   "cell_type": "code",
   "execution_count": 10,
   "id": "4ab9f973-2699-4bd5-9978-7dbaa98b4bfe",
   "metadata": {},
   "outputs": [],
   "source": [
    "import json\n",
    "import sys\n",
    "sys.path.append('../src/')"
   ]
  },
  {
   "cell_type": "code",
   "execution_count": 11,
   "id": "c143a844-d15f-4bdd-8af6-50300dd126b2",
   "metadata": {},
   "outputs": [],
   "source": [
    "mob_group_path_db = '../world/db/mob_group.json'"
   ]
  },
  {
   "cell_type": "code",
   "execution_count": 12,
   "id": "1966850d-bd12-4f70-8f09-74b416953b8a",
   "metadata": {},
   "outputs": [],
   "source": [
    "from small.mob_group import Mob_group,dict_to_mob_gr, load_mob_group, mobs_table"
   ]
  },
  {
   "cell_type": "markdown",
   "id": "cf234dca-b2cf-42f7-bdba-f70858cc8eca",
   "metadata": {},
   "source": [
    "## Declaring mobs"
   ]
  },
  {
   "cell_type": "code",
   "execution_count": 13,
   "id": "e9345378-20a5-436a-bc83-6b85e40df621",
   "metadata": {},
   "outputs": [],
   "source": [
    "mob_group = Mob_group({'kobold':6},['basilisk'], cr=3)\n",
    "mob_group.save_group(mob_group_path_db)"
   ]
  },
  {
   "cell_type": "code",
   "execution_count": 14,
   "id": "d65d38f5-830c-4e84-afe3-a44f8b5568c2",
   "metadata": {},
   "outputs": [],
   "source": [
    "mob_group = Mob_group({'orog':4,'orcs':6},['warlord orc'], cr=4)\n",
    "mob_group.save_group(mob_group_path_db)"
   ]
  },
  {
   "cell_type": "code",
   "execution_count": 15,
   "id": "ab571fb7-09bc-4b27-9e78-0581ca66cf7b",
   "metadata": {},
   "outputs": [],
   "source": [
    "mob_group = Mob_group({'yuan-ti warrior':4,'yuan-ti spellcaster':2},cr=8)\n",
    "mob_group.save_group(mob_group_path_db)"
   ]
  },
  {
   "cell_type": "code",
   "execution_count": 16,
   "id": "73629e00-c0f6-4f77-a071-fa04cccf872a",
   "metadata": {},
   "outputs": [],
   "source": [
    "mob_group = Mob_group({'group1-yuan-ti warrior':4,\n",
    "                       'group1-yuan-ti spellcaster':3,\n",
    "                       'group2-yuan-ti warrior':3,\n",
    "                       'group2-yuan-ti spellcaster':2},\n",
    "                      ['yuan-ti Anatema'], cr=11)\n",
    "mob_group.save_group(mob_group_path_db)"
   ]
  },
  {
   "cell_type": "code",
   "execution_count": 25,
   "id": "c262dab9-ed1a-4a83-abfa-2829ea5cbf56",
   "metadata": {},
   "outputs": [],
   "source": [
    "mob_group = Mob_group({'Wyvern':4},cr=9)\n",
    "mob_group.save_group(mob_group_path_db)"
   ]
  },
  {
   "cell_type": "code",
   "execution_count": 24,
   "id": "5033e85f-fc0f-49c5-8f60-be53c8d17ca4",
   "metadata": {},
   "outputs": [],
   "source": [
    "mob_group = Mob_group({'Wyvern':2},cr=6)\n",
    "mob_group.save_group(mob_group_path_db)"
   ]
  },
  {
   "cell_type": "code",
   "execution_count": 27,
   "id": "280146c3-c4af-44ad-b844-1000c425c2a1",
   "metadata": {},
   "outputs": [],
   "source": [
    "mob_group = Mob_group({'Beholder Zobie':1,'Ultroloth':1,'mezzoloth':1},cr=9)\n",
    "mob_group.save_group(mob_group_path_db)"
   ]
  },
  {
   "cell_type": "code",
   "execution_count": 22,
   "id": "9714dec1-8b7c-4077-8d0a-afc1071c783d",
   "metadata": {},
   "outputs": [],
   "source": [
    "mob_group = Mob_group({'Behir':0},boss=['Behir'],cr=11)\n",
    "mob_group.save_group(mob_group_path_db)"
   ]
  },
  {
   "cell_type": "markdown",
   "id": "77e211bb-0b6c-4d1d-82bf-058371ec6d08",
   "metadata": {},
   "source": [
    "## Reading db"
   ]
  },
  {
   "cell_type": "code",
   "execution_count": 26,
   "id": "c3680b08-3ee6-452b-a829-af9998cb8ff8",
   "metadata": {},
   "outputs": [
    {
     "data": {
      "text/html": [
       "<div>\n",
       "<style scoped>\n",
       "    .dataframe tbody tr th:only-of-type {\n",
       "        vertical-align: middle;\n",
       "    }\n",
       "\n",
       "    .dataframe tbody tr th {\n",
       "        vertical-align: top;\n",
       "    }\n",
       "\n",
       "    .dataframe thead th {\n",
       "        text-align: right;\n",
       "    }\n",
       "</style>\n",
       "<table border=\"1\" class=\"dataframe\">\n",
       "  <thead>\n",
       "    <tr style=\"text-align: right;\">\n",
       "      <th></th>\n",
       "      <th>group-id</th>\n",
       "      <th>cr</th>\n",
       "      <th>n</th>\n",
       "      <th>mobs</th>\n",
       "      <th>boss</th>\n",
       "    </tr>\n",
       "  </thead>\n",
       "  <tbody>\n",
       "    <tr>\n",
       "      <th>0</th>\n",
       "      <td>3-basilisk</td>\n",
       "      <td>3</td>\n",
       "      <td>7</td>\n",
       "      <td>{'kobold': 6}</td>\n",
       "      <td>[basilisk]</td>\n",
       "    </tr>\n",
       "    <tr>\n",
       "      <th>1</th>\n",
       "      <td>4-warlord orc</td>\n",
       "      <td>4</td>\n",
       "      <td>11</td>\n",
       "      <td>{'orog': 4, 'orcs': 6}</td>\n",
       "      <td>[warlord orc]</td>\n",
       "    </tr>\n",
       "    <tr>\n",
       "      <th>2</th>\n",
       "      <td>8yuan-ti warrior</td>\n",
       "      <td>8</td>\n",
       "      <td>6</td>\n",
       "      <td>{'yuan-ti warrior': 4, 'yuan-ti spellcaster': 2}</td>\n",
       "      <td>[]</td>\n",
       "    </tr>\n",
       "    <tr>\n",
       "      <th>3</th>\n",
       "      <td>11-yuan-ti Anatema</td>\n",
       "      <td>11</td>\n",
       "      <td>13</td>\n",
       "      <td>{'group1-yuan-ti warrior': 4, 'group1-yuan-ti ...</td>\n",
       "      <td>[yuan-ti Anatema]</td>\n",
       "    </tr>\n",
       "    <tr>\n",
       "      <th>4</th>\n",
       "      <td>9Wyvern</td>\n",
       "      <td>9</td>\n",
       "      <td>4</td>\n",
       "      <td>{'Wyvern': 4}</td>\n",
       "      <td>[]</td>\n",
       "    </tr>\n",
       "    <tr>\n",
       "      <th>5</th>\n",
       "      <td>6Wyvern</td>\n",
       "      <td>6</td>\n",
       "      <td>2</td>\n",
       "      <td>{'Wyvern': 2}</td>\n",
       "      <td>[]</td>\n",
       "    </tr>\n",
       "    <tr>\n",
       "      <th>6</th>\n",
       "      <td>9Beholder Zobie</td>\n",
       "      <td>9</td>\n",
       "      <td>2</td>\n",
       "      <td>{'Beholder Zobie': 1, 'Ultroloth': 1}</td>\n",
       "      <td>[]</td>\n",
       "    </tr>\n",
       "    <tr>\n",
       "      <th>7</th>\n",
       "      <td>11-Behir</td>\n",
       "      <td>11</td>\n",
       "      <td>1</td>\n",
       "      <td>{'Behir': 0}</td>\n",
       "      <td>[Behir]</td>\n",
       "    </tr>\n",
       "  </tbody>\n",
       "</table>\n",
       "</div>"
      ],
      "text/plain": [
       "             group-id  cr   n  \\\n",
       "0          3-basilisk   3   7   \n",
       "1       4-warlord orc   4  11   \n",
       "2    8yuan-ti warrior   8   6   \n",
       "3  11-yuan-ti Anatema  11  13   \n",
       "4             9Wyvern   9   4   \n",
       "5             6Wyvern   6   2   \n",
       "6     9Beholder Zobie   9   2   \n",
       "7            11-Behir  11   1   \n",
       "\n",
       "                                                mobs               boss  \n",
       "0                                      {'kobold': 6}         [basilisk]  \n",
       "1                             {'orog': 4, 'orcs': 6}      [warlord orc]  \n",
       "2   {'yuan-ti warrior': 4, 'yuan-ti spellcaster': 2}                 []  \n",
       "3  {'group1-yuan-ti warrior': 4, 'group1-yuan-ti ...  [yuan-ti Anatema]  \n",
       "4                                      {'Wyvern': 4}                 []  \n",
       "5                                      {'Wyvern': 2}                 []  \n",
       "6              {'Beholder Zobie': 1, 'Ultroloth': 1}                 []  \n",
       "7                                       {'Behir': 0}            [Behir]  "
      ]
     },
     "execution_count": 26,
     "metadata": {},
     "output_type": "execute_result"
    }
   ],
   "source": [
    "mobs_table(mob_group_path_db)"
   ]
  },
  {
   "cell_type": "code",
   "execution_count": null,
   "id": "2bb61885-df9c-4e2c-840e-f164aecc12b3",
   "metadata": {},
   "outputs": [],
   "source": []
  }
 ],
 "metadata": {
  "kernelspec": {
   "display_name": "Python 3 (ipykernel)",
   "language": "python",
   "name": "python3"
  },
  "language_info": {
   "codemirror_mode": {
    "name": "ipython",
    "version": 3
   },
   "file_extension": ".py",
   "mimetype": "text/x-python",
   "name": "python",
   "nbconvert_exporter": "python",
   "pygments_lexer": "ipython3",
   "version": "3.7.11"
  }
 },
 "nbformat": 4,
 "nbformat_minor": 5
}
