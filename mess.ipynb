{
 "cells": [
  {
   "cell_type": "code",
   "execution_count": null,
   "id": "2329f841-c4bd-44e1-8efd-7082ef7ffbba",
   "metadata": {},
   "outputs": [],
   "source": []
  },
  {
   "cell_type": "code",
   "execution_count": null,
   "id": "0d80b21d-2cae-4cdd-80de-e09d6631e692",
   "metadata": {},
   "outputs": [],
   "source": [
    "class Char():\n",
    "    def __init__(self, char_name, money=31, position = 1):\n",
    "        self.position = position\n",
    "        self.money = money\n",
    "        self.play_next_round = True\n",
    "        self.player_name = player_name\n",
    "    \n",
    "    def __repr__(self):\n",
    "        ret =  f\"\"\"\n",
    "        ## {self.player_name} ##\n",
    "        hp:{self.hp}\n",
    "        money:{self.money}\n",
    "        next round:{self.play_next_round}\"\"\"\n",
    "        return ret\n",
    "\n",
    "    def __len__(self):\n",
    "        return self.position\n",
    "\n",
    "    def update_money(self, int):\n",
    "        self.money = self.money+int\n",
    "        \n",
    "    def update_position(self, int):\n",
    "        self.position = int\n",
    "        \n",
    "    def roll_dice(self, die = 6):\n",
    "        self.position = (self.position+randint(die)+1)%33\n",
    "        \n",
    "    def not_play_next_round(self):\n",
    "        self.play_next_round = False"
   ]
  }
 ],
 "metadata": {
  "kernelspec": {
   "display_name": "Python 3 (ipykernel)",
   "language": "python",
   "name": "python3"
  },
  "language_info": {
   "codemirror_mode": {
    "name": "ipython",
    "version": 3
   },
   "file_extension": ".py",
   "mimetype": "text/x-python",
   "name": "python",
   "nbconvert_exporter": "python",
   "pygments_lexer": "ipython3",
   "version": "3.7.11"
  }
 },
 "nbformat": 4,
 "nbformat_minor": 5
}
