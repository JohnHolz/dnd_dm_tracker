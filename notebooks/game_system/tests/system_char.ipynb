{
 "cells": [
  {
   "cell_type": "code",
   "execution_count": 1,
   "id": "1546908c-2579-4cff-9894-1b70247630f9",
   "metadata": {},
   "outputs": [],
   "source": [
    "import sys\n",
    "sys.path.append('../../systems/')\n",
    "from core.hability import Hability\n",
    "from core.coin import Money"
   ]
  },
  {
   "cell_type": "code",
   "execution_count": 4,
   "id": "16c1a700-a90b-4d85-a759-bae7afed176a",
   "metadata": {},
   "outputs": [],
   "source": [
    "class Char():\n",
    "    def __init__(self, nome):\n",
    "        self.nome = nome\n",
    "    \n",
    "    def core(self, \n",
    "             rpg_class, \n",
    "             lvl, \n",
    "             race, \n",
    "             subrace, \n",
    "             alignment, \n",
    "             background, \n",
    "             flaws={}, \n",
    "             languages={'common':'fluent'}, \n",
    "             subclass=None, \n",
    "             xp=0):\n",
    "        self.rpg_class = rpg_class\n",
    "        self.lvl = lvl\n",
    "        self.race = race\n",
    "        self.subrace = subrace\n",
    "        self.alignment = alignment\n",
    "        self.background = background\n",
    "        self.flaws = flaws\n",
    "        self.languages = languages\n",
    "        self.subclass = subclass\n",
    "        self.xp = xp\n"
   ]
  },
  {
   "cell_type": "code",
   "execution_count": null,
   "id": "c6bdadb9-ce77-4725-a702-c777031bed3a",
   "metadata": {},
   "outputs": [],
   "source": []
  }
 ],
 "metadata": {
  "kernelspec": {
   "display_name": "Python 3 (ipykernel)",
   "language": "python",
   "name": "python3"
  },
  "language_info": {
   "codemirror_mode": {
    "name": "ipython",
    "version": 3
   },
   "file_extension": ".py",
   "mimetype": "text/x-python",
   "name": "python",
   "nbconvert_exporter": "python",
   "pygments_lexer": "ipython3",
   "version": "3.7.11"
  }
 },
 "nbformat": 4,
 "nbformat_minor": 5
}
