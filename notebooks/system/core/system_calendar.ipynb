{
 "cells": [
  {
   "cell_type": "code",
   "execution_count": 1,
   "id": "8ff25f7a-85ec-4b92-a9f4-bacf2880a1f7",
   "metadata": {},
   "outputs": [],
   "source": [
    "months = {'0': 'Auril`s Month',\n",
    "            '1': 'Celestia`s Month',\n",
    "            '2': 'Leira`s Month',\n",
    "            '3': 'Corellon`s Month',\n",
    "            '4': 'Rillifane`s Month',\n",
    "            '5': 'Sehanine Moonbow`s Month',\n",
    "            '6': 'Malar`s Month',\n",
    "            '7': 'Lilira`s Month',\n",
    "            '8': 'Pelor`s Month',\n",
    "            '9': 'Bahamut`s Month',\n",
    "            '10': 'Tiamat`s Month',\n",
    "            '11': 'Heironeous`s Month',\n",
    "            '12': 'Tempus`s Month',\n",
    "            '13': 'Kord`s Month',\n",
    "            '14': 'Talos`s Month',\n",
    "            '15': 'Ogmhar`s Month',\n",
    "            '16': 'Ogmhar`s Month'}\n",
    "\n",
    "seasons = {'0': 'Cold Season',\n",
    "            '1': 'Flowers Season',\n",
    "            '2': 'Sun Season',\n",
    "            '3': 'Wood Season',\n",
    "            '4': 'Wood Season'}\n",
    "\n",
    "eras = {'fa.': {'name': 'First Age', 'years': '5000~50_000'},\n",
    "        'ge.': {'name': 'God`s Era', 'years': '50_000~200_000'},\n",
    "        'wa.': {'name': 'Higher beens war', 'years': '5_000~20_000'},\n",
    "        'fe.': {'name': 'First Mortal Era', 'years': '50_000'},\n",
    "        'we.': {'name': 'First Great war', 'years': '5000'},\n",
    "        'se.': {'name': 'Second Great Era', 'years': '15_000'},\n",
    "        'sw.': {'name': 'Second Great war', 'years': '2000'},\n",
    "        'te.': {'name': 'Third Era', 'years': 'now = 1300'},}"
   ]
  },
  {
   "cell_type": "code",
   "execution_count": 2,
   "id": "38d66c72-9acd-4f2a-b8fa-284115a76636",
   "metadata": {},
   "outputs": [],
   "source": [
    "class DateTime():\n",
    "    def __init__(self, day, hour=0, minute=0, year=0, era='te.'):\n",
    "        self.year = year\n",
    "        self.day = day\n",
    "        self.hour = hour\n",
    "        self.minute = minute\n",
    "        self.month_number = int(self.day/25)\n",
    "        self.month = months[f'{self.month_number}']\n",
    "        self.season = seasons[f'{int(self.day/100)}']\n",
    "        self.age = 'te.'\n",
    "        self.month_day = self.day%25 + 1\n",
    "            \n",
    "    def __repr__(self):\n",
    "        minute = self.minute\n",
    "        if minute<10:\n",
    "            minute = f'0{minute}'\n",
    "        hour = self.hour\n",
    "        if hour<10:\n",
    "            hour = f'0{hour}'\n",
    "        day = self.month_day\n",
    "        year = f'{self.year} {self.age}'\n",
    "        month_season = f'{self.month} ({self.season})' \n",
    "        date_time = f\"{hour}:{minute} day {day}\"\n",
    "        return f'{date_time} {month_season} {year}'\n",
    "\n",
    "\n",
    "    def __add__(self, other):\n",
    "        year = self.year + other.year\n",
    "        day = self.day + other.day\n",
    "        hour = self.hour + other.hour\n",
    "        minute = self.minute + other.minute\n",
    "\n",
    "        if minute >= 70:\n",
    "            hour = hour+int(minute/70)\n",
    "            minute = minute % 70\n",
    "        if hour >= 24:\n",
    "            day = day+int(hour/24)\n",
    "            hour = hour % 24\n",
    "        if day >= 400:\n",
    "            year = year+int(hour/400)\n",
    "            day = hour % 400\n",
    "        return DateTime(day, hour, minute, year)\n",
    "    \n",
    "    def foward(self, value, update):\n",
    "        if update=='day':\n",
    "            return self + DateTime(value, 0)\n",
    "        if update=='hour':\n",
    "            return self + DateTime(0,value)"
   ]
  },
  {
   "cell_type": "code",
   "execution_count": 3,
   "id": "877c578d-048a-499d-ac57-8db0a634b77d",
   "metadata": {},
   "outputs": [
    {
     "data": {
      "text/plain": [
       "00:00 day 2 Rillifane`s Month (Flowers Season) 1250 te."
      ]
     },
     "execution_count": 3,
     "metadata": {},
     "output_type": "execute_result"
    }
   ],
   "source": [
    "x = DateTime(100,10,year=1250) + DateTime(0,14)\n",
    "x"
   ]
  },
  {
   "cell_type": "code",
   "execution_count": 4,
   "id": "1761f011-0862-4ba6-8adc-289bee37aeba",
   "metadata": {},
   "outputs": [
    {
     "data": {
      "text/plain": [
       "00:00 day 17 Rillifane`s Month (Flowers Season) 1250 te."
      ]
     },
     "execution_count": 4,
     "metadata": {},
     "output_type": "execute_result"
    }
   ],
   "source": [
    "x.foward(15,'day')"
   ]
  },
  {
   "cell_type": "code",
   "execution_count": 7,
   "id": "31eb7196-9c97-4240-a274-830b40add1fc",
   "metadata": {},
   "outputs": [
    {
     "data": {
      "text/plain": [
       "10:00 day 2 Pelor`s Month (Sun Season) 1250 te."
      ]
     },
     "execution_count": 7,
     "metadata": {},
     "output_type": "execute_result"
    }
   ],
   "source": [
    "x.__add__(DateTime(100,10))"
   ]
  },
  {
   "cell_type": "code",
   "execution_count": 11,
   "id": "9bdbc74d-602a-41c5-a26d-6f160deae1c7",
   "metadata": {},
   "outputs": [],
   "source": [
    "import pandas as pd\n",
    "import numpy as np\n",
    "hour = pd.DataFrame(pd.Series(np.arange(0,25,3)),columns=['hour'])\n",
    "day = pd.DataFrame(pd.Series(np.arange(0,400)),columns=['day'])\n",
    "hour['key'] = 0\n",
    "day['key'] = 0\n",
    "calendar = day.drop('key',axis=1)#day.merge(hour, on='key', how='outer').drop('key',axis=1)"
   ]
  },
  {
   "cell_type": "code",
   "execution_count": 12,
   "id": "55237720-47f3-40bb-a089-6ef82980fab0",
   "metadata": {},
   "outputs": [],
   "source": [
    "def ap(serie):\n",
    "    return DateTime(serie[0])\n",
    "calendar['re'] = calendar.apply(ap,axis=1)\n",
    "calendar['month'] = calendar['re'].apply(lambda x:x.month)\n",
    "calendar['season'] = calendar['re'].apply(lambda x:x.season)\n",
    "calendar['day'] = calendar['re'].apply(lambda x:x.month_day)"
   ]
  },
  {
   "cell_type": "code",
   "execution_count": 13,
   "id": "cf3b733a-e79c-4ad4-a531-0be7e5ab8918",
   "metadata": {},
   "outputs": [
    {
     "data": {
      "text/html": [
       "<div>\n",
       "<style scoped>\n",
       "    .dataframe tbody tr th:only-of-type {\n",
       "        vertical-align: middle;\n",
       "    }\n",
       "\n",
       "    .dataframe tbody tr th {\n",
       "        vertical-align: top;\n",
       "    }\n",
       "\n",
       "    .dataframe thead th {\n",
       "        text-align: right;\n",
       "    }\n",
       "</style>\n",
       "<table border=\"1\" class=\"dataframe\">\n",
       "  <thead>\n",
       "    <tr style=\"text-align: right;\">\n",
       "      <th></th>\n",
       "      <th>day</th>\n",
       "      <th>month</th>\n",
       "      <th>season</th>\n",
       "    </tr>\n",
       "  </thead>\n",
       "  <tbody>\n",
       "    <tr>\n",
       "      <th>0</th>\n",
       "      <td>1</td>\n",
       "      <td>Auril`s Month</td>\n",
       "      <td>Cold Season</td>\n",
       "    </tr>\n",
       "    <tr>\n",
       "      <th>1</th>\n",
       "      <td>2</td>\n",
       "      <td>Auril`s Month</td>\n",
       "      <td>Cold Season</td>\n",
       "    </tr>\n",
       "    <tr>\n",
       "      <th>2</th>\n",
       "      <td>3</td>\n",
       "      <td>Auril`s Month</td>\n",
       "      <td>Cold Season</td>\n",
       "    </tr>\n",
       "    <tr>\n",
       "      <th>3</th>\n",
       "      <td>4</td>\n",
       "      <td>Auril`s Month</td>\n",
       "      <td>Cold Season</td>\n",
       "    </tr>\n",
       "    <tr>\n",
       "      <th>4</th>\n",
       "      <td>5</td>\n",
       "      <td>Auril`s Month</td>\n",
       "      <td>Cold Season</td>\n",
       "    </tr>\n",
       "    <tr>\n",
       "      <th>...</th>\n",
       "      <td>...</td>\n",
       "      <td>...</td>\n",
       "      <td>...</td>\n",
       "    </tr>\n",
       "    <tr>\n",
       "      <th>395</th>\n",
       "      <td>21</td>\n",
       "      <td>Ogmhar`s Month</td>\n",
       "      <td>Wood Season</td>\n",
       "    </tr>\n",
       "    <tr>\n",
       "      <th>396</th>\n",
       "      <td>22</td>\n",
       "      <td>Ogmhar`s Month</td>\n",
       "      <td>Wood Season</td>\n",
       "    </tr>\n",
       "    <tr>\n",
       "      <th>397</th>\n",
       "      <td>23</td>\n",
       "      <td>Ogmhar`s Month</td>\n",
       "      <td>Wood Season</td>\n",
       "    </tr>\n",
       "    <tr>\n",
       "      <th>398</th>\n",
       "      <td>24</td>\n",
       "      <td>Ogmhar`s Month</td>\n",
       "      <td>Wood Season</td>\n",
       "    </tr>\n",
       "    <tr>\n",
       "      <th>399</th>\n",
       "      <td>25</td>\n",
       "      <td>Ogmhar`s Month</td>\n",
       "      <td>Wood Season</td>\n",
       "    </tr>\n",
       "  </tbody>\n",
       "</table>\n",
       "<p>400 rows × 3 columns</p>\n",
       "</div>"
      ],
      "text/plain": [
       "     day           month       season\n",
       "0      1   Auril`s Month  Cold Season\n",
       "1      2   Auril`s Month  Cold Season\n",
       "2      3   Auril`s Month  Cold Season\n",
       "3      4   Auril`s Month  Cold Season\n",
       "4      5   Auril`s Month  Cold Season\n",
       "..   ...             ...          ...\n",
       "395   21  Ogmhar`s Month  Wood Season\n",
       "396   22  Ogmhar`s Month  Wood Season\n",
       "397   23  Ogmhar`s Month  Wood Season\n",
       "398   24  Ogmhar`s Month  Wood Season\n",
       "399   25  Ogmhar`s Month  Wood Season\n",
       "\n",
       "[400 rows x 3 columns]"
      ]
     },
     "execution_count": 13,
     "metadata": {},
     "output_type": "execute_result"
    }
   ],
   "source": [
    "calendar.iloc[:,[0,2,3]]"
   ]
  },
  {
   "cell_type": "code",
   "execution_count": null,
   "id": "85de949c-2256-4036-8398-8a8aaa472e52",
   "metadata": {},
   "outputs": [],
   "source": []
  }
 ],
 "metadata": {
  "kernelspec": {
   "display_name": "Python 3 (ipykernel)",
   "language": "python",
   "name": "python3"
  },
  "language_info": {
   "codemirror_mode": {
    "name": "ipython",
    "version": 3
   },
   "file_extension": ".py",
   "mimetype": "text/x-python",
   "name": "python",
   "nbconvert_exporter": "python",
   "pygments_lexer": "ipython3",
   "version": "3.7.11"
  }
 },
 "nbformat": 4,
 "nbformat_minor": 5
}
