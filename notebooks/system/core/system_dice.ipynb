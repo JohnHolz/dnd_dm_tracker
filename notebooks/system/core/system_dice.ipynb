{
 "cells": [
  {
   "cell_type": "code",
   "execution_count": 14,
   "id": "7ff3a27e-7d54-40b6-aebb-b7c2307753cd",
   "metadata": {},
   "outputs": [],
   "source": [
    "from numpy.random import randint\n",
    "\n",
    "def dice(d):\n",
    "    ## @ create a dice roll with randint - minimum of 0 and max of d\n",
    "    return randint(1,d+1)\n",
    "\n",
    "def rand_dice(dice = 'd6'):\n",
    "    ## @ return an string to be evaluated with the calculus\n",
    "    if 'd' not in dice:\n",
    "        return dice\n",
    "    \n",
    "    ## @ split\n",
    "    vec = dice.split('d')\n",
    "    \n",
    "    if vec[0]=='':\n",
    "        vec[0]='1'\n",
    "    \n",
    "    ## @ string to be evaluated\n",
    "    eval_string = f'{vec[0]}'+'*'+f'dice({vec[1]})'\n",
    "    return eval_string\n",
    "\n",
    "def roll(roll):\n",
    "    ## @ roll dice function and return the value\n",
    "    ## @ just work with +, - not implemented\n",
    "    return sum(list(map( lambda y: eval(rand_dice(y)), roll.split('+'))))"
   ]
  },
  {
   "cell_type": "code",
   "execution_count": 15,
   "id": "94d4ccac-c7b4-4236-b7bc-a21cf9e2f524",
   "metadata": {},
   "outputs": [
    {
     "data": {
      "text/plain": [
       "[2, 6, 2, 55, 13]"
      ]
     },
     "execution_count": 15,
     "metadata": {},
     "output_type": "execute_result"
    }
   ],
   "source": [
    "t = ['1d6','1d6+4','d6','1d6+12d6+3','1d6+1d6+2']\n",
    "list(map(lambda x: roll(x), t))"
   ]
  },
  {
   "cell_type": "code",
   "execution_count": 16,
   "id": "df037d8e-7adc-4e79-862b-f3a2590dc7be",
   "metadata": {},
   "outputs": [
    {
     "data": {
      "text/plain": [
       "'1d6+4'"
      ]
     },
     "execution_count": 16,
     "metadata": {},
     "output_type": "execute_result"
    }
   ],
   "source": [
    "'1d6+4' "
   ]
  },
  {
   "cell_type": "code",
   "execution_count": 17,
   "id": "5c3dc321-a90d-4584-a4d1-dff75a1c0a0b",
   "metadata": {},
   "outputs": [
    {
     "data": {
      "text/plain": [
       "7"
      ]
     },
     "execution_count": 17,
     "metadata": {},
     "output_type": "execute_result"
    }
   ],
   "source": [
    "roll('1d6+4') - roll('1d4')"
   ]
  },
  {
   "cell_type": "code",
   "execution_count": null,
   "id": "8631d94e-0cac-41e8-8f2a-6f52f398ff0c",
   "metadata": {},
   "outputs": [],
   "source": []
  },
  {
   "cell_type": "code",
   "execution_count": null,
   "id": "d88b6b4c-2af4-4276-a2d3-872bb16866fc",
   "metadata": {},
   "outputs": [],
   "source": []
  }
 ],
 "metadata": {
  "kernelspec": {
   "display_name": "Python 3 (ipykernel)",
   "language": "python",
   "name": "python3"
  },
  "language_info": {
   "codemirror_mode": {
    "name": "ipython",
    "version": 3
   },
   "file_extension": ".py",
   "mimetype": "text/x-python",
   "name": "python",
   "nbconvert_exporter": "python",
   "pygments_lexer": "ipython3",
   "version": "3.7.11"
  }
 },
 "nbformat": 4,
 "nbformat_minor": 5
}
