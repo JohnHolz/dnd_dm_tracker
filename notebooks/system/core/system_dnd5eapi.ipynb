{
 "cells": [
  {
   "cell_type": "code",
   "execution_count": 1,
   "id": "423d8d80-526a-4053-8548-6020c18c6829",
   "metadata": {},
   "outputs": [],
   "source": [
    "import os\n",
    "os.chdir('../../../systems/core/')"
   ]
  },
  {
   "cell_type": "code",
   "execution_count": 2,
   "id": "322075da-b7dc-410a-9a5c-27ac5a345689",
   "metadata": {},
   "outputs": [],
   "source": [
    "import json\n",
    "import dnd5eapi as dnd\n",
    "import requests"
   ]
  },
  {
   "cell_type": "markdown",
   "id": "e346d990-c7b5-47b3-8b63-5e7722f2d761",
   "metadata": {
    "jp-MarkdownHeadingCollapsed": true,
    "tags": []
   },
   "source": [
    "---\n",
    "## Spell"
   ]
  },
  {
   "cell_type": "code",
   "execution_count": 3,
   "id": "4759dad9-5e1f-40c3-8b21-299ac58f5f98",
   "metadata": {
    "collapsed": true,
    "jupyter": {
     "outputs_hidden": true
    },
    "tags": []
   },
   "outputs": [
    {
     "data": {
      "text/plain": [
       "{'index': 'acid-arrow',\n",
       " 'name': 'Acid Arrow',\n",
       " 'desc': ['A shimmering green arrow streaks toward a target within range and bursts in a spray of acid. Make a ranged spell attack against the target. On a hit, the target takes 4d4 acid damage immediately and 2d4 acid damage at the end of its next turn. On a miss, the arrow splashes the target with acid for half as much of the initial damage and no damage at the end of its next turn.'],\n",
       " 'higher_level': ['When you cast this spell using a spell slot of 3rd level or higher, the damage (both initial and later) increases by 1d4 for each slot level above 2nd.'],\n",
       " 'range': '90 feet',\n",
       " 'components': ['V', 'S', 'M'],\n",
       " 'material': \"Powdered rhubarb leaf and an adder's stomach.\",\n",
       " 'ritual': False,\n",
       " 'duration': 'Instantaneous',\n",
       " 'concentration': False,\n",
       " 'casting_time': '1 action',\n",
       " 'level': 2,\n",
       " 'attack_type': 'ranged',\n",
       " 'damage': {'damage_type': {'index': 'acid',\n",
       "   'name': 'Acid',\n",
       "   'url': '/api/damage-types/acid'},\n",
       "  'damage_at_slot_level': {'2': '4d4',\n",
       "   '3': '5d4',\n",
       "   '4': '6d4',\n",
       "   '5': '7d4',\n",
       "   '6': '8d4',\n",
       "   '7': '9d4',\n",
       "   '8': '10d4',\n",
       "   '9': '11d4'}},\n",
       " 'school': {'index': 'evocation',\n",
       "  'name': 'Evocation',\n",
       "  'url': '/api/magic-schools/evocation'},\n",
       " 'classes': [{'index': 'wizard',\n",
       "   'name': 'Wizard',\n",
       "   'url': '/api/classes/wizard'}],\n",
       " 'subclasses': [{'index': 'lore',\n",
       "   'name': 'Lore',\n",
       "   'url': '/api/subclasses/lore'},\n",
       "  {'index': 'land', 'name': 'Land', 'url': '/api/subclasses/land'}],\n",
       " 'url': '/api/spells/acid-arrow'}"
      ]
     },
     "execution_count": 3,
     "metadata": {},
     "output_type": "execute_result"
    }
   ],
   "source": [
    "spells = dnd.get_spells('acid-arrow')\n",
    "json.loads(spells.content)"
   ]
  },
  {
   "cell_type": "code",
   "execution_count": 5,
   "id": "9c0f2921-e582-44f8-891b-4dc3e7314746",
   "metadata": {},
   "outputs": [
    {
     "data": {
      "text/plain": [
       "{'index': 'abjuration',\n",
       " 'name': 'Abjuration',\n",
       " 'desc': 'Abjuration spells are protective in nature, though some of them have aggressive uses. They create magical barriers, negate harmful effects, harm trespassers, or banish creatures to other planes of existence.',\n",
       " 'url': '/api/magic-schools/abjuration'}"
      ]
     },
     "execution_count": 5,
     "metadata": {},
     "output_type": "execute_result"
    }
   ],
   "source": [
    "abjuration = dnd.get_magic_schools('abjuration')\n",
    "json.loads(abjuration.content)"
   ]
  },
  {
   "cell_type": "markdown",
   "id": "56a20421-0cdf-4b5c-ba9a-8d85853d7128",
   "metadata": {
    "jp-MarkdownHeadingCollapsed": true,
    "tags": []
   },
   "source": [
    "---\n",
    "## Monsters"
   ]
  },
  {
   "cell_type": "code",
   "execution_count": 8,
   "id": "43cce420-1872-4437-9dc4-9c4e208b6d7d",
   "metadata": {
    "collapsed": true,
    "jupyter": {
     "outputs_hidden": true
    },
    "tags": []
   },
   "outputs": [
    {
     "data": {
      "text/plain": [
       "{'index': 'adult-black-dragon',\n",
       " 'name': 'Adult Black Dragon',\n",
       " 'size': 'Huge',\n",
       " 'type': 'dragon',\n",
       " 'subtype': None,\n",
       " 'alignment': 'chaotic evil',\n",
       " 'armor_class': 19,\n",
       " 'hit_points': 195,\n",
       " 'hit_dice': '17d12',\n",
       " 'speed': {'walk': '40 ft.', 'fly': '80 ft.', 'swim': '40 ft.'},\n",
       " 'strength': 23,\n",
       " 'dexterity': 14,\n",
       " 'constitution': 21,\n",
       " 'intelligence': 14,\n",
       " 'wisdom': 13,\n",
       " 'charisma': 17,\n",
       " 'proficiencies': [{'proficiency': {'index': 'saving-throw-dex',\n",
       "    'name': 'Saving Throw: DEX',\n",
       "    'url': '/api/proficiencies/saving-throw-dex'},\n",
       "   'value': 7},\n",
       "  {'proficiency': {'index': 'saving-throw-con',\n",
       "    'name': 'Saving Throw: CON',\n",
       "    'url': '/api/proficiencies/saving-throw-con'},\n",
       "   'value': 10},\n",
       "  {'proficiency': {'index': 'saving-throw-wis',\n",
       "    'name': 'Saving Throw: WIS',\n",
       "    'url': '/api/proficiencies/saving-throw-wis'},\n",
       "   'value': 6},\n",
       "  {'proficiency': {'index': 'saving-throw-cha',\n",
       "    'name': 'Saving Throw: CHA',\n",
       "    'url': '/api/proficiencies/saving-throw-cha'},\n",
       "   'value': 8},\n",
       "  {'proficiency': {'index': 'skill-perception',\n",
       "    'name': 'Skill: Perception',\n",
       "    'url': '/api/proficiencies/skill-perception'},\n",
       "   'value': 11},\n",
       "  {'proficiency': {'index': 'skill-stealth',\n",
       "    'name': 'Skill: Stealth',\n",
       "    'url': '/api/proficiencies/skill-stealth'},\n",
       "   'value': 7}],\n",
       " 'damage_vulnerabilities': [],\n",
       " 'damage_resistances': [],\n",
       " 'damage_immunities': ['acid'],\n",
       " 'condition_immunities': [],\n",
       " 'senses': {'blindsight': '60 ft.',\n",
       "  'darkvision': '120 ft.',\n",
       "  'passive_perception': 21},\n",
       " 'languages': 'Common, Draconic',\n",
       " 'challenge_rating': 14,\n",
       " 'xp': 11500,\n",
       " 'special_abilities': [{'name': 'Amphibious',\n",
       "   'desc': 'The dragon can breathe air and water.'},\n",
       "  {'name': 'Legendary Resistance',\n",
       "   'desc': 'If the dragon fails a saving throw, it can choose to succeed instead.',\n",
       "   'usage': {'type': 'per day', 'times': 3}}],\n",
       " 'actions': [{'name': 'Multiattack',\n",
       "   'desc': 'The dragon can use its Frightful Presence. It then makes three attacks: one with its bite and two with its claws.',\n",
       "   'options': {'choose': 1,\n",
       "    'from': [[{'name': 'Frightful Presence', 'count': 1, 'type': 'ability'},\n",
       "      {'name': 'Bite', 'count': 1, 'type': 'melee'},\n",
       "      {'name': 'Claw', 'count': 2, 'type': 'melee'}]]},\n",
       "   'damage': []},\n",
       "  {'name': 'Bite',\n",
       "   'desc': 'Melee Weapon Attack: +11 to hit, reach 10 ft., one target. Hit: 17 (2d10 + 6) piercing damage plus 4 (1d8) acid damage.',\n",
       "   'attack_bonus': 11,\n",
       "   'damage': [{'damage_type': {'index': 'piercing',\n",
       "      'name': 'Piercing',\n",
       "      'url': '/api/damage-types/piercing'},\n",
       "     'damage_dice': '2d10+6'},\n",
       "    {'damage_type': {'index': 'acid',\n",
       "      'name': 'Acid',\n",
       "      'url': '/api/damage-types/acid'},\n",
       "     'damage_dice': '1d8'}]},\n",
       "  {'name': 'Claw',\n",
       "   'desc': 'Melee Weapon Attack: +11 to hit, reach 5 ft., one target. Hit: 13 (2d6 + 6) slashing damage.',\n",
       "   'attack_bonus': 11,\n",
       "   'damage': [{'damage_type': {'index': 'slashing',\n",
       "      'name': 'Slashing',\n",
       "      'url': '/api/damage-types/slashing'},\n",
       "     'damage_dice': '2d6+6'}]},\n",
       "  {'name': 'Tail',\n",
       "   'desc': 'Melee Weapon Attack: +11 to hit, reach 15 ft., one target. Hit: 15 (2d8 + 6) bludgeoning damage.',\n",
       "   'attack_bonus': 11,\n",
       "   'damage': [{'damage_type': {'index': 'bludgeoning',\n",
       "      'name': 'Bludgeoning',\n",
       "      'url': '/api/damage-types/bludgeoning'},\n",
       "     'damage_dice': '2d8+6'}]},\n",
       "  {'name': 'Frightful Presence',\n",
       "   'desc': \"Each creature of the dragon's choice that is within 120 feet of the dragon and aware of it must succeed on a DC 16 Wisdom saving throw or become frightened for 1 minute. A creature can repeat the saving throw at the end of each of its turns, ending the effect on itself on a success. If a creature's saving throw is successful or the effect ends for it, the creature is immune to the dragon's Frightful Presence for the next 24 hours.\",\n",
       "   'dc': {'dc_type': {'index': 'wis',\n",
       "     'name': 'WIS',\n",
       "     'url': '/api/ability-scores/wis'},\n",
       "    'dc_value': 16,\n",
       "    'success_type': 'none'},\n",
       "   'damage': []},\n",
       "  {'name': 'Acid Breath',\n",
       "   'desc': 'The dragon exhales acid in a 60-foot line that is 5 feet wide. Each creature in that line must make a DC 18 Dexterity saving throw, taking 54 (12d8) acid damage on a failed save, or half as much damage on a successful one.',\n",
       "   'usage': {'type': 'recharge on roll', 'dice': '1d6', 'min_value': 5},\n",
       "   'dc': {'dc_type': {'index': 'dex',\n",
       "     'name': 'DEX',\n",
       "     'url': '/api/ability-scores/dex'},\n",
       "    'dc_value': 18,\n",
       "    'success_type': 'half'},\n",
       "   'damage': [{'damage_type': {'index': 'acid',\n",
       "      'name': 'Acid',\n",
       "      'url': '/api/damage-types/acid'},\n",
       "     'damage_dice': '12d8'}]}],\n",
       " 'legendary_actions': [{'name': 'Detect',\n",
       "   'desc': 'The dragon makes a Wisdom (Perception) check.'},\n",
       "  {'name': 'Tail Attack', 'desc': 'The dragon makes a tail attack.'},\n",
       "  {'name': 'Wing Attack (Costs 2 Actions)',\n",
       "   'desc': 'The dragon beats its wings. Each creature within 10 ft. of the dragon must succeed on a DC 19 Dexterity saving throw or take 13 (2d6 + 6) bludgeoning damage and be knocked prone. The dragon can then fly up to half its flying speed.',\n",
       "   'dc': {'dc_type': {'index': 'dex',\n",
       "     'name': 'DEX',\n",
       "     'url': '/api/ability-scores/dex'},\n",
       "    'dc_value': 19,\n",
       "    'success_type': 'none'},\n",
       "   'damage': [{'damage_type': {'index': 'bludgeoning',\n",
       "      'name': 'Bludgeoning',\n",
       "      'url': '/api/damage-types/bludgeoning'},\n",
       "     'damage_dice': '2d6+6'}]}],\n",
       " 'url': '/api/monsters/adult-black-dragon'}"
      ]
     },
     "execution_count": 8,
     "metadata": {},
     "output_type": "execute_result"
    }
   ],
   "source": [
    "monster = dnd.get_monsters('adult-black-dragon')\n",
    "json.loads(monster.content)"
   ]
  },
  {
   "cell_type": "code",
   "execution_count": 9,
   "id": "c45f9b0b-b846-4294-a160-87028da7c575",
   "metadata": {},
   "outputs": [
    {
     "data": {
      "text/plain": [
       "{'index': 'artificers-lore',\n",
       " 'races': [],\n",
       " 'subraces': [{'index': 'rock-gnome',\n",
       "   'name': 'Rock Gnome',\n",
       "   'url': '/api/subraces/rock-gnome'}],\n",
       " 'name': \"Artificer's Lore\",\n",
       " 'desc': ['Whenever you make an Intelligence (History) check related to magic items, alchemical objects, or technological devices, you can add twice your proficiency bonus, instead of any proficiency bonus you normally apply.'],\n",
       " 'proficiencies': [],\n",
       " 'url': '/api/traits/artificers-lore'}"
      ]
     },
     "execution_count": 9,
     "metadata": {},
     "output_type": "execute_result"
    }
   ],
   "source": [
    "trait = dnd.get_traits('artificers-lore')\n",
    "json.loads(trait.content)"
   ]
  },
  {
   "cell_type": "markdown",
   "id": "45da14fc-428b-49e4-8e53-483b8c43bf6f",
   "metadata": {
    "jp-MarkdownHeadingCollapsed": true,
    "tags": []
   },
   "source": [
    "---\n",
    "## Battle"
   ]
  },
  {
   "cell_type": "code",
   "execution_count": 12,
   "id": "05cbf0e7-0aa2-4a29-a67a-440d55a31e37",
   "metadata": {},
   "outputs": [],
   "source": [
    "condition = dnd.get_conditions('blinded')"
   ]
  },
  {
   "cell_type": "code",
   "execution_count": 13,
   "id": "b0cd96e8-06a0-481f-b963-63903a1bdedf",
   "metadata": {},
   "outputs": [
    {
     "data": {
      "text/plain": [
       "{'index': 'blinded',\n",
       " 'name': 'Blinded',\n",
       " 'desc': [\"- A blinded creature can't see and automatically fails any ability check that requires sight.\",\n",
       "  \"- Attack rolls against the creature have advantage, and the creature's attack rolls have disadvantage.\"],\n",
       " 'url': '/api/conditions/blinded'}"
      ]
     },
     "execution_count": 13,
     "metadata": {},
     "output_type": "execute_result"
    }
   ],
   "source": [
    "json.loads(condition.content)"
   ]
  },
  {
   "cell_type": "code",
   "execution_count": 15,
   "id": "4470b0a4-eaaf-474b-9e89-522bdd700edb",
   "metadata": {},
   "outputs": [
    {
     "data": {
      "text/plain": [
       "{'index': 'acid',\n",
       " 'name': 'Acid',\n",
       " 'desc': [\"The corrosive spray of a black dragon's breath and the dissolving enzymes secreted by a black pudding deal acid damage.\"],\n",
       " 'url': '/api/damage-types/acid'}"
      ]
     },
     "execution_count": 15,
     "metadata": {},
     "output_type": "execute_result"
    }
   ],
   "source": [
    "damage_type = dnd.get_damage_types('acid')\n",
    "damage_type = damage_type.content\n",
    "json.loads(damage_type)"
   ]
  },
  {
   "cell_type": "markdown",
   "id": "53e703b7-c32e-474d-ba53-3c0c587b491c",
   "metadata": {
    "jp-MarkdownHeadingCollapsed": true,
    "tags": []
   },
   "source": [
    "---\n",
    "## Magic Items"
   ]
  },
  {
   "cell_type": "code",
   "execution_count": 16,
   "id": "1774a6ea-f154-4759-bd7c-3efb76898754",
   "metadata": {},
   "outputs": [
    {
     "data": {
      "text/plain": [
       "{'index': 'adamantine-armor',\n",
       " 'name': 'Adamantine Armor',\n",
       " 'equipment_category': {'index': 'armor',\n",
       "  'name': 'Armor',\n",
       "  'url': '/api/equipment-categories/armor'},\n",
       " 'desc': ['Armor (medium or heavy, but not hide), uncommon',\n",
       "  \"This suit of armor is reinforced with adamantine, one of the hardest substances in existence. While you're wearing it, any critical hit against you becomes a normal hit.\"],\n",
       " 'url': '/api/magic-items/adamantine-armor'}"
      ]
     },
     "execution_count": 16,
     "metadata": {},
     "output_type": "execute_result"
    }
   ],
   "source": [
    "x = dnd.get_magic_items('adamantine-armor')\n",
    "x = x.content\n",
    "json.loads(x)"
   ]
  },
  {
   "cell_type": "markdown",
   "id": "4743d9cc-bb01-45f5-835d-1ef846f95e94",
   "metadata": {
    "jp-MarkdownHeadingCollapsed": true,
    "tags": []
   },
   "source": [
    "---\n",
    "## Items"
   ]
  },
  {
   "cell_type": "code",
   "execution_count": 17,
   "id": "02d9b008-611d-4f60-b60d-9706b8acacb6",
   "metadata": {
    "collapsed": true,
    "jupyter": {
     "outputs_hidden": true
    },
    "tags": []
   },
   "outputs": [
    {
     "data": {
      "text/plain": [
       "{'index': 'adventuring-gear',\n",
       " 'name': 'Adventuring Gear',\n",
       " 'equipment': [{'index': 'abacus',\n",
       "   'name': 'Abacus',\n",
       "   'url': '/api/equipment/abacus'},\n",
       "  {'index': 'acid-vial',\n",
       "   'name': 'Acid (vial)',\n",
       "   'url': '/api/equipment/acid-vial'},\n",
       "  {'index': 'alchemists-fire-flask',\n",
       "   'name': \"Alchemist's fire (flask)\",\n",
       "   'url': '/api/equipment/alchemists-fire-flask'},\n",
       "  {'index': 'arrow', 'name': 'Arrow', 'url': '/api/equipment/arrow'},\n",
       "  {'index': 'blowgun-needle',\n",
       "   'name': 'Blowgun needle',\n",
       "   'url': '/api/equipment/blowgun-needle'},\n",
       "  {'index': 'crossbow-bolt',\n",
       "   'name': 'Crossbow bolt',\n",
       "   'url': '/api/equipment/crossbow-bolt'},\n",
       "  {'index': 'sling-bullet',\n",
       "   'name': 'Sling bullet',\n",
       "   'url': '/api/equipment/sling-bullet'},\n",
       "  {'index': 'alms-box', 'name': 'Alms box', 'url': '/api/equipment/alms-box'},\n",
       "  {'index': 'amulet', 'name': 'Amulet', 'url': '/api/equipment/amulet'},\n",
       "  {'index': 'antitoxin-vial',\n",
       "   'name': 'Antitoxin (vial)',\n",
       "   'url': '/api/equipment/antitoxin-vial'},\n",
       "  {'index': 'backpack', 'name': 'Backpack', 'url': '/api/equipment/backpack'},\n",
       "  {'index': 'ball-bearings-bag-of-1000',\n",
       "   'name': 'Ball bearings (bag of 1,000)',\n",
       "   'url': '/api/equipment/ball-bearings-bag-of-1000'},\n",
       "  {'index': 'barrel', 'name': 'Barrel', 'url': '/api/equipment/barrel'},\n",
       "  {'index': 'basket', 'name': 'Basket', 'url': '/api/equipment/basket'},\n",
       "  {'index': 'bedroll', 'name': 'Bedroll', 'url': '/api/equipment/bedroll'},\n",
       "  {'index': 'bell', 'name': 'Bell', 'url': '/api/equipment/bell'},\n",
       "  {'index': 'blanket', 'name': 'Blanket', 'url': '/api/equipment/blanket'},\n",
       "  {'index': 'block-and-tackle',\n",
       "   'name': 'Block and tackle',\n",
       "   'url': '/api/equipment/block-and-tackle'},\n",
       "  {'index': 'block-of-incense',\n",
       "   'name': 'Block of incense',\n",
       "   'url': '/api/equipment/block-of-incense'},\n",
       "  {'index': 'book', 'name': 'Book', 'url': '/api/equipment/book'},\n",
       "  {'index': 'bottle-glass',\n",
       "   'name': 'Bottle, glass',\n",
       "   'url': '/api/equipment/bottle-glass'},\n",
       "  {'index': 'bucket', 'name': 'Bucket', 'url': '/api/equipment/bucket'},\n",
       "  {'index': 'caltrops', 'name': 'Caltrops', 'url': '/api/equipment/caltrops'},\n",
       "  {'index': 'candle', 'name': 'Candle', 'url': '/api/equipment/candle'},\n",
       "  {'index': 'case-crossbow-bolt',\n",
       "   'name': 'Case, crossbow bolt',\n",
       "   'url': '/api/equipment/case-crossbow-bolt'},\n",
       "  {'index': 'case-map-or-scroll',\n",
       "   'name': 'Case, map or scroll',\n",
       "   'url': '/api/equipment/case-map-or-scroll'},\n",
       "  {'index': 'censer', 'name': 'Censer', 'url': '/api/equipment/censer'},\n",
       "  {'index': 'chain-10-feet',\n",
       "   'name': 'Chain (10 feet)',\n",
       "   'url': '/api/equipment/chain-10-feet'},\n",
       "  {'index': 'chalk-1-piece',\n",
       "   'name': 'Chalk (1 piece)',\n",
       "   'url': '/api/equipment/chalk-1-piece'},\n",
       "  {'index': 'chest', 'name': 'Chest', 'url': '/api/equipment/chest'},\n",
       "  {'index': 'clothes-common',\n",
       "   'name': 'Clothes, common',\n",
       "   'url': '/api/equipment/clothes-common'},\n",
       "  {'index': 'clothes-costume',\n",
       "   'name': 'Clothes, costume',\n",
       "   'url': '/api/equipment/clothes-costume'},\n",
       "  {'index': 'clothes-fine',\n",
       "   'name': 'Clothes, fine',\n",
       "   'url': '/api/equipment/clothes-fine'},\n",
       "  {'index': 'clothes-travelers',\n",
       "   'name': \"Clothes, traveler's\",\n",
       "   'url': '/api/equipment/clothes-travelers'},\n",
       "  {'index': 'component-pouch',\n",
       "   'name': 'Component pouch',\n",
       "   'url': '/api/equipment/component-pouch'},\n",
       "  {'index': 'crowbar', 'name': 'Crowbar', 'url': '/api/equipment/crowbar'},\n",
       "  {'index': 'emblem', 'name': 'Emblem', 'url': '/api/equipment/emblem'},\n",
       "  {'index': 'fishing-tackle',\n",
       "   'name': 'Fishing tackle',\n",
       "   'url': '/api/equipment/fishing-tackle'},\n",
       "  {'index': 'flask-or-tankard',\n",
       "   'name': 'Flask or tankard',\n",
       "   'url': '/api/equipment/flask-or-tankard'},\n",
       "  {'index': 'grappling-hook',\n",
       "   'name': 'Grappling hook',\n",
       "   'url': '/api/equipment/grappling-hook'},\n",
       "  {'index': 'hammer', 'name': 'Hammer', 'url': '/api/equipment/hammer'},\n",
       "  {'index': 'hammer-sledge',\n",
       "   'name': 'Hammer, sledge',\n",
       "   'url': '/api/equipment/hammer-sledge'},\n",
       "  {'index': 'holy-water-flask',\n",
       "   'name': 'Holy water (flask)',\n",
       "   'url': '/api/equipment/holy-water-flask'},\n",
       "  {'index': 'hourglass',\n",
       "   'name': 'Hourglass',\n",
       "   'url': '/api/equipment/hourglass'},\n",
       "  {'index': 'hunting-trap',\n",
       "   'name': 'Hunting trap',\n",
       "   'url': '/api/equipment/hunting-trap'},\n",
       "  {'index': 'ink-1-ounce-bottle',\n",
       "   'name': 'Ink (1 ounce bottle)',\n",
       "   'url': '/api/equipment/ink-1-ounce-bottle'},\n",
       "  {'index': 'ink-pen', 'name': 'Ink pen', 'url': '/api/equipment/ink-pen'},\n",
       "  {'index': 'jug-or-pitcher',\n",
       "   'name': 'Jug or pitcher',\n",
       "   'url': '/api/equipment/jug-or-pitcher'},\n",
       "  {'index': 'climbers-kit',\n",
       "   'name': \"Climber's Kit\",\n",
       "   'url': '/api/equipment/climbers-kit'},\n",
       "  {'index': 'disguise-kit',\n",
       "   'name': 'Disguise Kit',\n",
       "   'url': '/api/equipment/disguise-kit'},\n",
       "  {'index': 'forgery-kit',\n",
       "   'name': 'Forgery Kit',\n",
       "   'url': '/api/equipment/forgery-kit'},\n",
       "  {'index': 'herbalism-kit',\n",
       "   'name': 'Herbalism Kit',\n",
       "   'url': '/api/equipment/herbalism-kit'},\n",
       "  {'index': 'healers-kit',\n",
       "   'name': \"Healer's Kit\",\n",
       "   'url': '/api/equipment/healers-kit'},\n",
       "  {'index': 'mess-kit', 'name': 'Mess Kit', 'url': '/api/equipment/mess-kit'},\n",
       "  {'index': 'poisoners-kit',\n",
       "   'name': \"Poisoner's Kit\",\n",
       "   'url': '/api/equipment/poisoners-kit'},\n",
       "  {'index': 'ladder-10-foot',\n",
       "   'name': 'Ladder (10-foot)',\n",
       "   'url': '/api/equipment/ladder-10-foot'},\n",
       "  {'index': 'lamp', 'name': 'Lamp', 'url': '/api/equipment/lamp'},\n",
       "  {'index': 'lantern-bullseye',\n",
       "   'name': 'Lantern, bullseye',\n",
       "   'url': '/api/equipment/lantern-bullseye'},\n",
       "  {'index': 'lantern-hooded',\n",
       "   'name': 'Lantern, hooded',\n",
       "   'url': '/api/equipment/lantern-hooded'},\n",
       "  {'index': 'little-bag-of-sand',\n",
       "   'name': 'Little bag of sand',\n",
       "   'url': '/api/equipment/little-bag-of-sand'},\n",
       "  {'index': 'lock', 'name': 'Lock', 'url': '/api/equipment/lock'},\n",
       "  {'index': 'magnifying-glass',\n",
       "   'name': 'Magnifying glass',\n",
       "   'url': '/api/equipment/magnifying-glass'},\n",
       "  {'index': 'manacles', 'name': 'Manacles', 'url': '/api/equipment/manacles'},\n",
       "  {'index': 'mirror-steel',\n",
       "   'name': 'Mirror, steel',\n",
       "   'url': '/api/equipment/mirror-steel'},\n",
       "  {'index': 'oil-flask',\n",
       "   'name': 'Oil (flask)',\n",
       "   'url': '/api/equipment/oil-flask'},\n",
       "  {'index': 'paper-one-sheet',\n",
       "   'name': 'Paper (one sheet)',\n",
       "   'url': '/api/equipment/paper-one-sheet'},\n",
       "  {'index': 'parchment-one-sheet',\n",
       "   'name': 'Parchment (one sheet)',\n",
       "   'url': '/api/equipment/parchment-one-sheet'},\n",
       "  {'index': 'perfume-vial',\n",
       "   'name': 'Perfume (vial)',\n",
       "   'url': '/api/equipment/perfume-vial'},\n",
       "  {'index': 'pick-miners',\n",
       "   'name': \"Pick, miner's\",\n",
       "   'url': '/api/equipment/pick-miners'},\n",
       "  {'index': 'piton', 'name': 'Piton', 'url': '/api/equipment/piton'},\n",
       "  {'index': 'poison-basic-vial',\n",
       "   'name': 'Poison, basic (vial)',\n",
       "   'url': '/api/equipment/poison-basic-vial'},\n",
       "  {'index': 'pole-10-foot',\n",
       "   'name': 'Pole (10-foot)',\n",
       "   'url': '/api/equipment/pole-10-foot'},\n",
       "  {'index': 'pot-iron', 'name': 'Pot, iron', 'url': '/api/equipment/pot-iron'},\n",
       "  {'index': 'pouch', 'name': 'Pouch', 'url': '/api/equipment/pouch'},\n",
       "  {'index': 'quiver', 'name': 'Quiver', 'url': '/api/equipment/quiver'},\n",
       "  {'index': 'ram-portable',\n",
       "   'name': 'Ram, portable',\n",
       "   'url': '/api/equipment/ram-portable'},\n",
       "  {'index': 'rations-1-day',\n",
       "   'name': 'Rations (1 day)',\n",
       "   'url': '/api/equipment/rations-1-day'},\n",
       "  {'index': 'reliquary',\n",
       "   'name': 'Reliquary',\n",
       "   'url': '/api/equipment/reliquary'},\n",
       "  {'index': 'robes', 'name': 'Robes', 'url': '/api/equipment/robes'},\n",
       "  {'index': 'rope-hempen-50-feet',\n",
       "   'name': 'Rope, hempen (50 feet)',\n",
       "   'url': '/api/equipment/rope-hempen-50-feet'},\n",
       "  {'index': 'rope-silk-50-feet',\n",
       "   'name': 'Rope, silk (50 feet)',\n",
       "   'url': '/api/equipment/rope-silk-50-feet'},\n",
       "  {'index': 'sack', 'name': 'Sack', 'url': '/api/equipment/sack'},\n",
       "  {'index': 'scale-merchants',\n",
       "   'name': \"Scale, merchant's\",\n",
       "   'url': '/api/equipment/scale-merchants'},\n",
       "  {'index': 'sealing-wax',\n",
       "   'name': 'Sealing wax',\n",
       "   'url': '/api/equipment/sealing-wax'},\n",
       "  {'index': 'shovel', 'name': 'Shovel', 'url': '/api/equipment/shovel'},\n",
       "  {'index': 'signal-whistle',\n",
       "   'name': 'Signal whistle',\n",
       "   'url': '/api/equipment/signal-whistle'},\n",
       "  {'index': 'signet-ring',\n",
       "   'name': 'Signet ring',\n",
       "   'url': '/api/equipment/signet-ring'},\n",
       "  {'index': 'small-knife',\n",
       "   'name': 'Small knife',\n",
       "   'url': '/api/equipment/small-knife'},\n",
       "  {'index': 'soap', 'name': 'Soap', 'url': '/api/equipment/soap'},\n",
       "  {'index': 'spellbook',\n",
       "   'name': 'Spellbook',\n",
       "   'url': '/api/equipment/spellbook'},\n",
       "  {'index': 'spike-iron',\n",
       "   'name': 'Spike, iron',\n",
       "   'url': '/api/equipment/spike-iron'},\n",
       "  {'index': 'spyglass', 'name': 'Spyglass', 'url': '/api/equipment/spyglass'},\n",
       "  {'index': 'string-10-feet',\n",
       "   'name': 'String (10 feet)',\n",
       "   'url': '/api/equipment/string-10-feet'},\n",
       "  {'index': 'tent-two-person',\n",
       "   'name': 'Tent, two-person',\n",
       "   'url': '/api/equipment/tent-two-person'},\n",
       "  {'index': 'tinderbox',\n",
       "   'name': 'Tinderbox',\n",
       "   'url': '/api/equipment/tinderbox'},\n",
       "  {'index': 'torch', 'name': 'Torch', 'url': '/api/equipment/torch'},\n",
       "  {'index': 'vestments',\n",
       "   'name': 'Vestments',\n",
       "   'url': '/api/equipment/vestments'},\n",
       "  {'index': 'vial', 'name': 'Vial', 'url': '/api/equipment/vial'},\n",
       "  {'index': 'waterskin',\n",
       "   'name': 'Waterskin',\n",
       "   'url': '/api/equipment/waterskin'},\n",
       "  {'index': 'whetstone',\n",
       "   'name': 'Whetstone',\n",
       "   'url': '/api/equipment/whetstone'},\n",
       "  {'index': 'burglars-pack',\n",
       "   'name': \"Burglar's Pack\",\n",
       "   'url': '/api/equipment/burglars-pack'},\n",
       "  {'index': 'diplomats-pack',\n",
       "   'name': \"Diplomat's Pack\",\n",
       "   'url': '/api/equipment/diplomats-pack'},\n",
       "  {'index': 'dungeoneers-pack',\n",
       "   'name': \"Dungeoneer's Pack\",\n",
       "   'url': '/api/equipment/dungeoneers-pack'},\n",
       "  {'index': 'entertainers-pack',\n",
       "   'name': \"Entertainer's Pack\",\n",
       "   'url': '/api/equipment/entertainers-pack'},\n",
       "  {'index': 'explorers-pack',\n",
       "   'name': \"Explorer's Pack\",\n",
       "   'url': '/api/equipment/explorers-pack'},\n",
       "  {'index': 'priests-pack',\n",
       "   'name': \"Priest's Pack\",\n",
       "   'url': '/api/equipment/priests-pack'},\n",
       "  {'index': 'scholars-pack',\n",
       "   'name': \"Scholar's Pack\",\n",
       "   'url': '/api/equipment/scholars-pack'},\n",
       "  {'index': 'crystal', 'name': 'Crystal', 'url': '/api/equipment/crystal'},\n",
       "  {'index': 'orb', 'name': 'Orb', 'url': '/api/equipment/orb'},\n",
       "  {'index': 'rod', 'name': 'Rod', 'url': '/api/equipment/rod'},\n",
       "  {'index': 'staff', 'name': 'Staff', 'url': '/api/equipment/staff'},\n",
       "  {'index': 'wand', 'name': 'Wand', 'url': '/api/equipment/wand'},\n",
       "  {'index': 'sprig-of-mistletoe',\n",
       "   'name': 'Sprig of mistletoe',\n",
       "   'url': '/api/equipment/sprig-of-mistletoe'},\n",
       "  {'index': 'totem', 'name': 'Totem', 'url': '/api/equipment/totem'},\n",
       "  {'index': 'wooden-staff',\n",
       "   'name': 'Wooden staff',\n",
       "   'url': '/api/equipment/wooden-staff'},\n",
       "  {'index': 'yew-wand', 'name': 'Yew wand', 'url': '/api/equipment/yew-wand'}],\n",
       " 'url': '/api/equipment-categories/adventuring-gear'}"
      ]
     },
     "execution_count": 17,
     "metadata": {},
     "output_type": "execute_result"
    }
   ],
   "source": [
    "x = dnd.get_equipment_categories('adventuring-gear')\n",
    "json.loads(x.content)"
   ]
  },
  {
   "cell_type": "code",
   "execution_count": 18,
   "id": "d07b3221-d8dd-4b34-b462-a55936b3c14a",
   "metadata": {},
   "outputs": [
    {
     "data": {
      "text/plain": [
       "{'index': 'abacus',\n",
       " 'name': 'Abacus',\n",
       " 'equipment_category': {'index': 'adventuring-gear',\n",
       "  'name': 'Adventuring Gear',\n",
       "  'url': '/api/equipment-categories/adventuring-gear'},\n",
       " 'gear_category': {'index': 'standard-gear',\n",
       "  'name': 'Standard Gear',\n",
       "  'url': '/api/equipment-categories/standard-gear'},\n",
       " 'cost': {'quantity': 2, 'unit': 'gp'},\n",
       " 'weight': 2,\n",
       " 'url': '/api/equipment/abacus'}"
      ]
     },
     "execution_count": 18,
     "metadata": {},
     "output_type": "execute_result"
    }
   ],
   "source": [
    "x = dnd.get_equipments('abacus')\n",
    "json.loads(x.content)"
   ]
  },
  {
   "cell_type": "code",
   "execution_count": 19,
   "id": "e32cff5e-f475-47b3-859b-053f1ffb3b84",
   "metadata": {},
   "outputs": [
    {
     "data": {
      "text/plain": [
       "{'index': 'ammunition',\n",
       " 'name': 'Ammunition',\n",
       " 'desc': ['You can use a weapon that has the ammunition property to make a ranged attack only if you have ammunition to fire from the weapon. Each time you attack with the weapon, you expend one piece of ammunition. Drawing the ammunition from a quiver, case, or other container is part of the attack (you need a free hand to load a one-handed weapon).',\n",
       "  'At the end of the battle, you can recover half your expended ammunition by taking a minute to search the battlefield. If you use a weapon that has the ammunition property to make a melee attack, you treat the weapon as an improvised weapon (see \"Improvised Weapons\" later in the section). A sling must be loaded to deal any damage when used in this way.'],\n",
       " 'url': '/api/weapon-properties/ammunition'}"
      ]
     },
     "execution_count": 19,
     "metadata": {},
     "output_type": "execute_result"
    }
   ],
   "source": [
    "x = dnd.get_weapon_properties('ammunition')\n",
    "json.loads(x.content)"
   ]
  },
  {
   "cell_type": "markdown",
   "id": "8eb2ea05-9c41-45ca-8738-7330a08da8a5",
   "metadata": {},
   "source": [
    "---\n",
    "## Char"
   ]
  },
  {
   "cell_type": "code",
   "execution_count": 20,
   "id": "8b0e088b-f3f5-47f1-9864-75803951fb13",
   "metadata": {
    "collapsed": true,
    "jupyter": {
     "outputs_hidden": true
    },
    "tags": []
   },
   "outputs": [
    {
     "data": {
      "text/plain": [
       "{'index': 'cha',\n",
       " 'name': 'CHA',\n",
       " 'full_name': 'Charisma',\n",
       " 'desc': ['Charisma measures your ability to interact effectively with others. It includes such factors as confidence and eloquence, and it can represent a charming or commanding personality.',\n",
       "  'A Charisma check might arise when you try to influence or entertain others, when you try to make an impression or tell a convincing lie, or when you are navigating a tricky social situation. The Deception, Intimidation, Performance, and Persuasion skills reflect aptitude in certain kinds of Charisma checks.'],\n",
       " 'skills': [{'name': 'Deception',\n",
       "   'index': 'deception',\n",
       "   'url': '/api/skills/deception'},\n",
       "  {'name': 'Intimidation',\n",
       "   'index': 'intimidation',\n",
       "   'url': '/api/skills/intimidation'},\n",
       "  {'name': 'Performance',\n",
       "   'index': 'performance',\n",
       "   'url': '/api/skills/performance'},\n",
       "  {'name': 'Persuasion',\n",
       "   'index': 'persuasion',\n",
       "   'url': '/api/skills/persuasion'}],\n",
       " 'url': '/api/ability-scores/cha'}"
      ]
     },
     "execution_count": 20,
     "metadata": {},
     "output_type": "execute_result"
    }
   ],
   "source": [
    "json.loads(dnd.get_ability_scores('cha').content)"
   ]
  },
  {
   "cell_type": "code",
   "execution_count": 21,
   "id": "a6451c21-4914-46ad-add7-cd7653478d7c",
   "metadata": {
    "collapsed": true,
    "jupyter": {
     "outputs_hidden": true
    },
    "tags": []
   },
   "outputs": [
    {
     "data": {
      "text/plain": [
       "{'index': 'chaotic-evil',\n",
       " 'name': 'Chaotic Evil',\n",
       " 'abbreviation': 'CE',\n",
       " 'desc': 'Chaotic evil (CE) creatures act with arbitrary violence, spurred by their greed, hatred, or bloodlust. Demons, red dragons, and orcs are chaotic evil.',\n",
       " 'url': 'api/alignments/chaotic-evil'}"
      ]
     },
     "execution_count": 21,
     "metadata": {},
     "output_type": "execute_result"
    }
   ],
   "source": [
    "x = dnd.get_alignments('chaotic-evil').content\n",
    "json.loads(x)"
   ]
  },
  {
   "cell_type": "code",
   "execution_count": 22,
   "id": "f9648bc0-a39d-4a94-8189-c198229f07ec",
   "metadata": {
    "collapsed": true,
    "jupyter": {
     "outputs_hidden": true
    },
    "tags": []
   },
   "outputs": [
    {
     "data": {
      "text/plain": [
       "{'index': 'acolyte',\n",
       " 'name': 'Acolyte',\n",
       " 'starting_proficiencies': [{'index': 'skill-insight',\n",
       "   'name': 'Skill: Insight',\n",
       "   'url': '/api/proficiencies/skill-insight'},\n",
       "  {'index': 'skill-religion',\n",
       "   'name': 'Skill: Religion',\n",
       "   'url': '/api/proficiencies/skill-religion'}],\n",
       " 'language_options': {'choose': 2,\n",
       "  'type': 'languages',\n",
       "  'from': [{'index': 'common',\n",
       "    'name': 'Common',\n",
       "    'url': '/api/languages/common'},\n",
       "   {'index': 'dwarvish', 'name': 'Dwarvish', 'url': '/api/languages/dwarvish'},\n",
       "   {'index': 'elvish', 'name': 'Elvish', 'url': '/api/languages/elvish'},\n",
       "   {'index': 'giant', 'name': 'Giant', 'url': '/api/languages/giant'},\n",
       "   {'index': 'gnomish', 'name': 'Gnomish', 'url': '/api/languages/gnomish'},\n",
       "   {'index': 'goblin', 'name': 'Goblin', 'url': '/api/languages/goblin'},\n",
       "   {'index': 'halfling', 'name': 'Halfling', 'url': '/api/languages/halfling'},\n",
       "   {'index': 'orc', 'name': 'Orc', 'url': '/api/languages/orc'},\n",
       "   {'index': 'abyssal', 'name': 'Abyssal', 'url': '/api/languages/abyssal'},\n",
       "   {'index': 'celestial',\n",
       "    'name': 'Celestial',\n",
       "    'url': '/api/languages/celestial'},\n",
       "   {'index': 'draconic', 'name': 'Draconic', 'url': '/api/languages/draconic'},\n",
       "   {'index': 'deep-speech',\n",
       "    'name': 'Deep Speech',\n",
       "    'url': '/api/languages/deep-speech'},\n",
       "   {'index': 'infernal', 'name': 'Infernal', 'url': '/api/languages/infernal'},\n",
       "   {'index': 'primordial',\n",
       "    'name': 'Primordial',\n",
       "    'url': '/api/languages/primordial'},\n",
       "   {'index': 'sylvan', 'name': 'Sylvan', 'url': '/api/languages/sylvan'},\n",
       "   {'index': 'undercommon',\n",
       "    'name': 'Undercommon',\n",
       "    'url': '/api/languages/undercommon'}]},\n",
       " 'starting_equipment': [{'equipment': {'index': 'clothes-common',\n",
       "    'name': 'Clothes, common',\n",
       "    'url': '/api/equipment/clothes-common'},\n",
       "   'quantity': 1},\n",
       "  {'equipment': {'index': 'pouch',\n",
       "    'name': 'Pouch',\n",
       "    'url': '/api/equipment/pouch'},\n",
       "   'quantity': 1}],\n",
       " 'starting_equipment_options': [{'choose': 1,\n",
       "   'type': 'equipment',\n",
       "   'from': [{'equipment_category': {'index': 'holy-symbols',\n",
       "      'name': 'Holy Symbols',\n",
       "      'url': '/api/equipment-categories/holy-symbols'}}]}],\n",
       " 'feature': {'name': 'Shelter of the Faithful',\n",
       "  'desc': ['As an acolyte, you command the respect of those who share your faith, and you can perform the religious ceremonies of your deity. You and your adventuring companions can expect to receive free healing and care at a temple, shrine, or other established presence of your faith, though you must provide any material components needed for spells. Those who share your religion will support you (but only you) at a modest lifestyle.',\n",
       "   'You might also have ties to a specific temple dedicated to your chosen deity or pantheon, and you have a residence there. This could be the temple where you used to serve, if you remain on good terms with it, or a temple where you have found a new home. While near your temple, you can call upon the priests for assistance, provided the assistance you ask for is not hazardous and you remain in good standing with your temple.']},\n",
       " 'personality_traits': {'choose': 2,\n",
       "  'type': 'personality_traits',\n",
       "  'from': [\"I idolize a particular hero of my faith, and constantly refer to that person's deeds and example.\",\n",
       "   'I can find common ground between the fiercest enemies, empathizing with them and always working toward peace.',\n",
       "   'I see omens in every event and action. The gods try to speak to us, we just need to listen.',\n",
       "   'Nothing can shake my optimistic attitude.',\n",
       "   'I quote (or misquote) sacred texts and proverbs in almost every situation.',\n",
       "   'I am tolerant (or intolerant) of other faiths and respect (or condemn) the worship of other gods.',\n",
       "   \"I've enjoyed fine food, drink, and high society among my temple's elite. Rough living grates on me.\",\n",
       "   \"I've spent so long in the temple that I have little practical experience dealing with people in the outside world.\"]},\n",
       " 'ideals': {'choose': 1,\n",
       "  'type': 'ideals',\n",
       "  'from': [{'desc': 'Tradition. The ancient traditions of worship and sacrifice must be preserved and upheld.',\n",
       "    'alignments': [{'index': 'lawful-good',\n",
       "      'name': 'Lawful Good',\n",
       "      'url': 'api/alignments/lawful-good'},\n",
       "     {'index': 'lawful-neutral',\n",
       "      'name': 'Lawful Neutral',\n",
       "      'url': 'api/alignments/lawful-neutral'},\n",
       "     {'index': 'lawful-evil',\n",
       "      'name': 'Lawful Evil',\n",
       "      'url': 'api/alignments/lawful-evil'}]},\n",
       "   {'desc': 'Charity. I always try to help those in need, no matter what the personal cost.',\n",
       "    'alignments': [{'index': 'lawful-good',\n",
       "      'name': 'Lawful Good',\n",
       "      'url': 'api/alignments/lawful-good'},\n",
       "     {'index': 'neutral-good',\n",
       "      'name': 'Neutral Good',\n",
       "      'url': 'api/alignments/neutral-good'},\n",
       "     {'index': 'chaotic-good',\n",
       "      'name': 'Chaotic Good',\n",
       "      'url': 'api/alignments/chaotic-good'}]},\n",
       "   {'desc': 'Change. We must help bring about the changes the gods are constantly working in the world.',\n",
       "    'alignments': [{'index': 'chaotic-good',\n",
       "      'name': 'Chaotic Good',\n",
       "      'url': 'api/alignments/chaotic-good'},\n",
       "     {'index': 'chaotic-neutral',\n",
       "      'name': 'Chaotic Neutral',\n",
       "      'url': 'api/alignments/chaotic-neutral'},\n",
       "     {'index': 'chaotic-evil',\n",
       "      'name': 'Chaotic Evil',\n",
       "      'url': 'api/alignments/chaotic-evil'}]},\n",
       "   {'desc': \"Power. I hope to one day rise to the top of my faith's religious hierarchy.\",\n",
       "    'alignments': [{'index': 'lawful-good',\n",
       "      'name': 'Lawful Good',\n",
       "      'url': 'api/alignments/lawful-good'},\n",
       "     {'index': 'lawful-neutral',\n",
       "      'name': 'Lawful Neutral',\n",
       "      'url': 'api/alignments/lawful-neutral'},\n",
       "     {'index': 'lawful-evil',\n",
       "      'name': 'Lawful Evil',\n",
       "      'url': 'api/alignments/lawful-evil'}]},\n",
       "   {'desc': 'Faith. I trust that my deity will guide my actions. I have faith that if I work hard, things will go well.',\n",
       "    'alignments': [{'index': 'lawful-good',\n",
       "      'name': 'Lawful Good',\n",
       "      'url': 'api/alignments/lawful-good'},\n",
       "     {'index': 'lawful-neutral',\n",
       "      'name': 'Lawful Neutral',\n",
       "      'url': 'api/alignments/lawful-neutral'},\n",
       "     {'index': 'lawful-evil',\n",
       "      'name': 'Lawful Evil',\n",
       "      'url': 'api/alignments/lawful-evil'}]},\n",
       "   {'desc': \"Aspiration. I seek to prove myself worthy of my god's favor by matching my actions against his or her teachings.\",\n",
       "    'alignments': [{'index': 'lawful-good',\n",
       "      'name': 'Lawful Good',\n",
       "      'url': 'api/alignments/lawful-good'},\n",
       "     {'index': 'neutral-good',\n",
       "      'name': 'Neutral Good',\n",
       "      'url': 'api/alignments/neutral-good'},\n",
       "     {'index': 'chaotic-good',\n",
       "      'name': 'Chaotic Good',\n",
       "      'url': 'api/alignments/chaotic-good'},\n",
       "     {'index': 'lawful-neutral',\n",
       "      'name': 'Lawful Neutral',\n",
       "      'url': 'api/alignments/lawful-neutral'},\n",
       "     {'index': 'neutral', 'name': 'Neutral', 'url': 'api/alignments/neutral'},\n",
       "     {'index': 'chaotic-neutral',\n",
       "      'name': 'Chaotic Neutral',\n",
       "      'url': 'api/alignments/chaotic-neutral'},\n",
       "     {'index': 'lawful-evil',\n",
       "      'name': 'Lawful Evil',\n",
       "      'url': 'api/alignments/lawful-evil'},\n",
       "     {'index': 'neutral-evil',\n",
       "      'name': 'Neutral Evil',\n",
       "      'url': 'api/alignments/neutral-evil'},\n",
       "     {'index': 'chaotic-evil',\n",
       "      'name': 'Chaotic Evil',\n",
       "      'url': 'api/alignments/chaotic-evil'}]}]},\n",
       " 'bonds': {'choose': 1,\n",
       "  'type': 'bonds',\n",
       "  'from': ['I would die to recover an ancient relic of my faith that was lost long ago.',\n",
       "   'I will someday get revenge on the corrupt temple hierarchy who branded me a heretic.',\n",
       "   'I owe my life to the priest who took me in when my parents died.',\n",
       "   'Everything I do is for the common people.',\n",
       "   'I will do anything to protect the temple where I served.',\n",
       "   'I seek to preserve a sacred text that my enemies consider heretical and seek to destroy.']},\n",
       " 'flaws': {'choose': 1,\n",
       "  'type': 'flaws',\n",
       "  'from': ['I judge others harshly, and myself even more severely.',\n",
       "   \"I put too much trust in those who wield power within my temple's hierarchy.\",\n",
       "   'My piety sometimes leads me to blindly trust those that profess faith in my god.',\n",
       "   'I am inflexible in my thinking.',\n",
       "   'I am suspicious of strangers and expect the worst of them.',\n",
       "   'Once I pick a goal, I become obsessed with it to the detriment of everything else in my life.']},\n",
       " 'url': '/api/backgrounds/acolyte'}"
      ]
     },
     "execution_count": 22,
     "metadata": {},
     "output_type": "execute_result"
    }
   ],
   "source": [
    "x = dnd.get_backgrounds('acolyte').content\n",
    "json.loads(x)"
   ]
  },
  {
   "cell_type": "code",
   "execution_count": 23,
   "id": "d46830b7-538e-43f5-bb19-5bddadc72709",
   "metadata": {
    "collapsed": true,
    "jupyter": {
     "outputs_hidden": true
    },
    "tags": []
   },
   "outputs": [
    {
     "data": {
      "text/plain": [
       "{'index': 'human',\n",
       " 'name': 'Human',\n",
       " 'speed': 30,\n",
       " 'ability_bonuses': [{'ability_score': {'index': 'str',\n",
       "    'name': 'STR',\n",
       "    'url': '/api/ability-scores/str'},\n",
       "   'bonus': 1},\n",
       "  {'ability_score': {'index': 'dex',\n",
       "    'name': 'DEX',\n",
       "    'url': '/api/ability-scores/dex'},\n",
       "   'bonus': 1},\n",
       "  {'ability_score': {'index': 'con',\n",
       "    'name': 'CON',\n",
       "    'url': '/api/ability-scores/con'},\n",
       "   'bonus': 1},\n",
       "  {'ability_score': {'index': 'int',\n",
       "    'name': 'INT',\n",
       "    'url': '/api/ability-scores/int'},\n",
       "   'bonus': 1},\n",
       "  {'ability_score': {'index': 'wis',\n",
       "    'name': 'WIS',\n",
       "    'url': '/api/ability-scores/wis'},\n",
       "   'bonus': 1},\n",
       "  {'ability_score': {'index': 'cha',\n",
       "    'name': 'CHA',\n",
       "    'url': '/api/ability-scores/cha'},\n",
       "   'bonus': 1}],\n",
       " 'age': 'Humans reach adulthood in their late teens and live less than a century.',\n",
       " 'alignment': 'Humans tend toward no particular alignment. The best and the worst are found among them.',\n",
       " 'size': 'Medium',\n",
       " 'size_description': 'Humans vary widely in height and build, from barely 5 feet to well over 6 feet tall. Regardless of your position in that range, your size is Medium.',\n",
       " 'starting_proficiencies': [],\n",
       " 'languages': [{'index': 'common',\n",
       "   'name': 'Common',\n",
       "   'url': '/api/languages/common'}],\n",
       " 'language_options': {'choose': 1,\n",
       "  'type': 'languages',\n",
       "  'from': [{'index': 'dwarvish',\n",
       "    'name': 'Dwarvish',\n",
       "    'url': '/api/languages/dwarvish'},\n",
       "   {'index': 'elvish', 'name': 'Elvish', 'url': '/api/languages/elvish'},\n",
       "   {'index': 'giant', 'name': 'Giant', 'url': '/api/languages/giant'},\n",
       "   {'index': 'gnomish', 'name': 'Gnomish', 'url': '/api/languages/gnomish'},\n",
       "   {'index': 'goblin', 'name': 'Goblin', 'url': '/api/languages/goblin'},\n",
       "   {'index': 'halfling', 'name': 'Halfling', 'url': '/api/languages/halfling'},\n",
       "   {'index': 'orc', 'name': 'Orc', 'url': '/api/languages/orc'},\n",
       "   {'index': 'abyssal', 'name': 'Abyssal', 'url': '/api/languages/abyssal'},\n",
       "   {'index': 'celestial',\n",
       "    'name': 'Celestial',\n",
       "    'url': '/api/languages/celestial'},\n",
       "   {'index': 'draconic', 'name': 'Draconic', 'url': '/api/languages/draconic'},\n",
       "   {'index': 'deep-speech',\n",
       "    'name': 'Deep Speech',\n",
       "    'url': '/api/languages/deep-speech'},\n",
       "   {'index': 'infernal', 'name': 'Infernal', 'url': '/api/languages/infernal'},\n",
       "   {'index': 'primordial',\n",
       "    'name': 'Primordial',\n",
       "    'url': '/api/languages/primordial'},\n",
       "   {'index': 'sylvan', 'name': 'Sylvan', 'url': '/api/languages/sylvan'},\n",
       "   {'index': 'undercommon',\n",
       "    'name': 'Undercommon',\n",
       "    'url': '/api/languages/undercommon'}]},\n",
       " 'language_desc': 'You can speak, read, and write Common and one extra language of your choice. Humans typically learn the languages of other peoples they deal with, including obscure dialects. They are fond of sprinkling their speech with words borrowed from other tongues: Orc curses, Elvish musical expressions, Dwarvish military phrases, and so on.',\n",
       " 'traits': [],\n",
       " 'subraces': [],\n",
       " 'url': '/api/races/human'}"
      ]
     },
     "execution_count": 23,
     "metadata": {},
     "output_type": "execute_result"
    }
   ],
   "source": [
    "x = dnd.get_races('human').content\n",
    "json.loads(x)"
   ]
  },
  {
   "cell_type": "code",
   "execution_count": 25,
   "id": "2b288fbe-7019-4f65-bbab-22825b070ec8",
   "metadata": {
    "collapsed": true,
    "jupyter": {
     "outputs_hidden": true
    },
    "tags": []
   },
   "outputs": [
    {
     "data": {
      "text/plain": [
       "{'index': 'high-elf',\n",
       " 'name': 'High Elf',\n",
       " 'race': {'index': 'elf', 'name': 'Elf', 'url': '/api/races/elf'},\n",
       " 'desc': 'As a high elf, you have a keen mind and a mastery of at least the basics of magic. In many fantasy gaming worlds, there are two kinds of high elves. One type is haughty and reclusive, believing themselves to be superior to non-elves and even other elves. The other type is more common and more friendly, and often encountered among humans and other races.',\n",
       " 'ability_bonuses': [{'ability_score': {'index': 'int',\n",
       "    'name': 'INT',\n",
       "    'url': '/api/ability-scores/int'},\n",
       "   'bonus': 1}],\n",
       " 'starting_proficiencies': [{'index': 'longswords',\n",
       "   'name': 'Longswords',\n",
       "   'url': '/api/proficiencies/longswords'},\n",
       "  {'index': 'shortswords',\n",
       "   'name': 'Shortswords',\n",
       "   'url': '/api/proficiencies/shortswords'},\n",
       "  {'index': 'shortbows',\n",
       "   'name': 'Shortbows',\n",
       "   'url': '/api/proficiencies/shortbows'},\n",
       "  {'index': 'longbows',\n",
       "   'name': 'Longbows',\n",
       "   'url': '/api/proficiencies/longbows'}],\n",
       " 'languages': [],\n",
       " 'language_options': {'choose': 1,\n",
       "  'from': [{'index': 'dwarvish',\n",
       "    'name': 'Dwarvish',\n",
       "    'url': '/api/languages/dwarvish'},\n",
       "   {'index': 'giant', 'name': 'Giant', 'url': '/api/languages/giant'},\n",
       "   {'index': 'gnomish', 'name': 'Gnomish', 'url': '/api/languages/gnomish'},\n",
       "   {'index': 'goblin', 'name': 'Goblin', 'url': '/api/languages/goblin'},\n",
       "   {'index': 'halfling', 'name': 'Halfling', 'url': '/api/languages/halfling'},\n",
       "   {'index': 'orc', 'name': 'Orc', 'url': '/api/languages/orc'},\n",
       "   {'index': 'abyssal', 'name': 'Abyssal', 'url': '/api/languages/abyssal'},\n",
       "   {'index': 'celestial',\n",
       "    'name': 'Celestial',\n",
       "    'url': '/api/languages/celestial'},\n",
       "   {'index': 'draconic', 'name': 'Draconic', 'url': '/api/languages/draconic'},\n",
       "   {'index': 'deep-speech',\n",
       "    'name': 'Deep Speech',\n",
       "    'url': '/api/languages/deep-speech'},\n",
       "   {'index': 'infernal', 'name': 'Infernal', 'url': '/api/languages/infernal'},\n",
       "   {'index': 'primordial',\n",
       "    'name': 'Primordial',\n",
       "    'url': '/api/languages/primordial'},\n",
       "   {'index': 'sylvan', 'name': 'Sylvan', 'url': '/api/languages/sylvan'},\n",
       "   {'index': 'undercommon',\n",
       "    'name': 'Undercommon',\n",
       "    'url': '/api/languages/undercommon'}],\n",
       "  'type': 'language'},\n",
       " 'racial_traits': [{'index': 'elf-weapon-training',\n",
       "   'name': 'Elf Weapon Training',\n",
       "   'url': '/api/traits/elf-weapon-training'},\n",
       "  {'index': 'high-elf-cantrip',\n",
       "   'name': 'High Elf Cantrip',\n",
       "   'url': '/api/traits/high-elf-cantrip'},\n",
       "  {'index': 'extra-language',\n",
       "   'name': 'Extra Language',\n",
       "   'url': '/api/traits/extra-language'}],\n",
       " 'url': '/api/subraces/high-elf'}"
      ]
     },
     "execution_count": 25,
     "metadata": {},
     "output_type": "execute_result"
    }
   ],
   "source": [
    "x = dnd.get_subraces('high-elf').content\n",
    "json.loads(x)"
   ]
  },
  {
   "cell_type": "code",
   "execution_count": 27,
   "id": "33940e50-0541-4097-8e7c-f14bea2003cc",
   "metadata": {
    "collapsed": true,
    "jupyter": {
     "outputs_hidden": true
    },
    "tags": []
   },
   "outputs": [
    {
     "data": {
      "text/plain": [
       "{'index': 'barbarian',\n",
       " 'name': 'Barbarian',\n",
       " 'hit_die': 12,\n",
       " 'proficiency_choices': [{'choose': 2,\n",
       "   'type': 'proficiencies',\n",
       "   'from': [{'index': 'skill-animal-handling',\n",
       "     'name': 'Skill: Animal Handling',\n",
       "     'url': '/api/proficiencies/skill-animal-handling'},\n",
       "    {'index': 'skill-athletics',\n",
       "     'name': 'Skill: Athletics',\n",
       "     'url': '/api/proficiencies/skill-athletics'},\n",
       "    {'index': 'skill-intimidation',\n",
       "     'name': 'Skill: Intimidation',\n",
       "     'url': '/api/proficiencies/skill-intimidation'},\n",
       "    {'index': 'skill-nature',\n",
       "     'name': 'Skill: Nature',\n",
       "     'url': '/api/proficiencies/skill-nature'},\n",
       "    {'index': 'skill-perception',\n",
       "     'name': 'Skill: Perception',\n",
       "     'url': '/api/proficiencies/skill-perception'},\n",
       "    {'index': 'skill-survival',\n",
       "     'name': 'Skill: Survival',\n",
       "     'url': '/api/proficiencies/skill-survival'}]}],\n",
       " 'proficiencies': [{'index': 'light-armor',\n",
       "   'name': 'Light Armor',\n",
       "   'url': '/api/proficiencies/light-armor'},\n",
       "  {'index': 'medium-armor',\n",
       "   'name': 'Medium Armor',\n",
       "   'url': '/api/proficiencies/medium-armor'},\n",
       "  {'index': 'shields', 'name': 'Shields', 'url': '/api/proficiencies/shields'},\n",
       "  {'index': 'simple-weapons',\n",
       "   'name': 'Simple Weapons',\n",
       "   'url': '/api/proficiencies/simple-weapons'},\n",
       "  {'index': 'martial-weapons',\n",
       "   'name': 'Martial Weapons',\n",
       "   'url': '/api/proficiencies/martial-weapons'}],\n",
       " 'saving_throws': [{'index': 'str',\n",
       "   'name': 'STR',\n",
       "   'url': '/api/ability-scores/str'},\n",
       "  {'index': 'con', 'name': 'CON', 'url': '/api/ability-scores/con'}],\n",
       " 'starting_equipment': [{'equipment': {'index': 'explorers-pack',\n",
       "    'name': \"Explorer's Pack\",\n",
       "    'url': '/api/equipment/explorers-pack'},\n",
       "   'quantity': 1},\n",
       "  {'equipment': {'index': 'javelin',\n",
       "    'name': 'Javelin',\n",
       "    'url': '/api/equipment/javelin'},\n",
       "   'quantity': 4}],\n",
       " 'starting_equipment_options': [{'choose': 1,\n",
       "   'type': 'equipment',\n",
       "   'from': [{'equipment': {'index': 'greataxe',\n",
       "      'name': 'Greataxe',\n",
       "      'url': '/api/equipment/greataxe'},\n",
       "     'quantity': 1},\n",
       "    {'equipment_option': {'choose': 1,\n",
       "      'type': 'equipment',\n",
       "      'from': {'equipment_category': {'index': 'martial-melee-weapons',\n",
       "        'name': 'Martial Melee Weapons',\n",
       "        'url': '/api/equipment-categories/martial-melee-weapons'}}}}]},\n",
       "  {'choose': 1,\n",
       "   'type': 'equipment',\n",
       "   'from': [{'equipment': {'index': 'handaxe',\n",
       "      'name': 'Handaxe',\n",
       "      'url': '/api/equipment/handaxe'},\n",
       "     'quantity': 2},\n",
       "    {'equipment_option': {'choose': 1,\n",
       "      'type': 'equipment',\n",
       "      'from': {'equipment_category': {'index': 'simple-weapons',\n",
       "        'name': 'Simple Weapons',\n",
       "        'url': '/api/equipment-categories/simple-weapons'}}}}]}],\n",
       " 'class_levels': '/api/classes/barbarian/levels',\n",
       " 'multi_classing': {'prerequisites': [{'ability_score': {'index': 'str',\n",
       "     'name': 'STR',\n",
       "     'url': '/api/ability-scores/str'},\n",
       "    'minimum_score': 13}],\n",
       "  'proficiencies': [{'index': 'shields',\n",
       "    'name': 'Shields',\n",
       "    'url': '/api/proficiencies/shields'},\n",
       "   {'index': 'simple-weapons',\n",
       "    'name': 'Simple Weapons',\n",
       "    'url': '/api/proficiencies/simple-weapons'},\n",
       "   {'index': 'martial-weapons',\n",
       "    'name': 'Martial Weapons',\n",
       "    'url': '/api/proficiencies/martial-weapons'}]},\n",
       " 'subclasses': [{'index': 'berserker',\n",
       "   'name': 'Berserker',\n",
       "   'url': '/api/subclasses/berserker'}],\n",
       " 'url': '/api/classes/barbarian'}"
      ]
     },
     "execution_count": 27,
     "metadata": {},
     "output_type": "execute_result"
    }
   ],
   "source": [
    "x = dnd.get_classes('barbarian').content\n",
    "json.loads(x)"
   ]
  },
  {
   "cell_type": "code",
   "execution_count": 29,
   "id": "b5545b51-455e-4b00-8daf-7cae58f36e46",
   "metadata": {
    "collapsed": true,
    "jupyter": {
     "outputs_hidden": true
    },
    "tags": []
   },
   "outputs": [
    {
     "data": {
      "text/plain": [
       "{'index': 'berserker',\n",
       " 'class': {'index': 'barbarian',\n",
       "  'name': 'Barbarian',\n",
       "  'url': '/api/classes/barbarian'},\n",
       " 'name': 'Berserker',\n",
       " 'subclass_flavor': 'Primal Path',\n",
       " 'desc': [\"For some barbarians, rage is a means to an end--that end being violence. The Path of the Berserker is a path of untrammeled fury, slick with blood. As you enter the berserker's rage, you thrill in the chaos of battle, heedless of your own health or well-being.\"],\n",
       " 'subclass_levels': '/api/subclasses/berserker/levels',\n",
       " 'url': '/api/subclasses/berserker'}"
      ]
     },
     "execution_count": 29,
     "metadata": {},
     "output_type": "execute_result"
    }
   ],
   "source": [
    "x = dnd.get_subclasses('berserker').content\n",
    "json.loads(x)"
   ]
  },
  {
   "cell_type": "code",
   "execution_count": 31,
   "id": "5b5547f0-60f8-4052-abf2-ac67df3a2c9b",
   "metadata": {
    "collapsed": true,
    "jupyter": {
     "outputs_hidden": true
    },
    "tags": []
   },
   "outputs": [
    {
     "data": {
      "text/plain": [
       "{'index': 'abyssal',\n",
       " 'name': 'Abyssal',\n",
       " 'type': 'Exotic',\n",
       " 'typical_speakers': ['Demons'],\n",
       " 'script': 'Infernal',\n",
       " 'url': '/api/languages/abyssal'}"
      ]
     },
     "execution_count": 31,
     "metadata": {},
     "output_type": "execute_result"
    }
   ],
   "source": [
    "x = dnd.get_languages('abyssal').content\n",
    "json.loads(x)"
   ]
  },
  {
   "cell_type": "code",
   "execution_count": 33,
   "id": "da0855f5-38fa-4cef-b960-3ab160378cee",
   "metadata": {
    "collapsed": true,
    "jupyter": {
     "outputs_hidden": true
    },
    "tags": []
   },
   "outputs": [
    {
     "data": {
      "text/plain": [
       "{'index': 'acrobatics',\n",
       " 'name': 'Acrobatics',\n",
       " 'desc': [\"Your Dexterity (Acrobatics) check covers your attempt to stay on your feet in a tricky situation, such as when you're trying to run across a sheet of ice, balance on a tightrope, or stay upright on a rocking ship's deck. The GM might also call for a Dexterity (Acrobatics) check to see if you can perform acrobatic stunts, including dives, rolls, somersaults, and flips.\"],\n",
       " 'ability_score': {'index': 'dex',\n",
       "  'name': 'DEX',\n",
       "  'url': '/api/ability-scores/dex'},\n",
       " 'url': '/api/skills/acrobatics'}"
      ]
     },
     "execution_count": 33,
     "metadata": {},
     "output_type": "execute_result"
    }
   ],
   "source": [
    "x = dnd.get_skills('acrobatics').content\n",
    "json.loads(x)"
   ]
  },
  {
   "cell_type": "code",
   "execution_count": 35,
   "id": "afcbc40f-d645-4b59-9c96-8962d821f891",
   "metadata": {
    "collapsed": true,
    "jupyter": {
     "outputs_hidden": true
    },
    "tags": []
   },
   "outputs": [
    {
     "data": {
      "text/plain": [
       "{'index': 'additional-fighting-style',\n",
       " 'class': {'index': 'fighter',\n",
       "  'name': 'Fighter',\n",
       "  'url': '/api/classes/fighter'},\n",
       " 'subclass': {'index': 'champion',\n",
       "  'name': 'Champion',\n",
       "  'url': '/api/subclasses/champion'},\n",
       " 'name': 'Additional Fighting Style',\n",
       " 'level': 10,\n",
       " 'prerequisites': [],\n",
       " 'desc': ['At 10th level, you can choose a second option from the Fighting Style class feature.'],\n",
       " 'feature_specific': {'subfeature_options': {'choose': 1,\n",
       "   'type': 'feature',\n",
       "   'from': [{'index': 'fighter-fighting-style-archery',\n",
       "     'name': 'Fighting Style: Archery',\n",
       "     'url': '/api/features/fighter-fighting-style-archery'},\n",
       "    {'index': 'fighter-fighting-style-defense',\n",
       "     'name': 'Fighting Style: Defense',\n",
       "     'url': '/api/features/fighter-fighting-style-defense'},\n",
       "    {'index': 'fighter-fighting-style-dueling',\n",
       "     'name': 'Fighting Style: Dueling',\n",
       "     'url': '/api/features/fighter-fighting-style-dueling'},\n",
       "    {'index': 'fighter-fighting-style-great-weapon-fighting',\n",
       "     'name': 'Fighting Style: Great Weapon Fighting',\n",
       "     'url': '/api/features/fighter-fighting-style-great-weapon-fighting'},\n",
       "    {'index': 'fighter-fighting-style-protection',\n",
       "     'name': 'Fighting Style: Protection',\n",
       "     'url': '/api/features/fighter-fighting-style-protection'},\n",
       "    {'index': 'fighter-fighting-style-two-weapon-fighting',\n",
       "     'name': 'Fighting Style: Two-Weapon Fighting',\n",
       "     'url': '/api/features/fighter-fighting-style-two-weapon-fighting'}]}},\n",
       " 'url': '/api/features/additional-fighting-style'}"
      ]
     },
     "execution_count": 35,
     "metadata": {},
     "output_type": "execute_result"
    }
   ],
   "source": [
    "x = dnd.get_features('additional-fighting-style').content\n",
    "json.loads(x)"
   ]
  },
  {
   "cell_type": "code",
   "execution_count": 37,
   "id": "fed595b7-1769-41c4-ae4d-c6ec564300a3",
   "metadata": {
    "collapsed": true,
    "jupyter": {
     "outputs_hidden": true
    },
    "tags": []
   },
   "outputs": [
    {
     "data": {
      "text/plain": [
       "{'index': 'alchemists-supplies',\n",
       " 'type': \"Artisan's Tools\",\n",
       " 'name': \"Alchemist's Supplies\",\n",
       " 'classes': [],\n",
       " 'races': [],\n",
       " 'url': '/api/proficiencies/alchemists-supplies',\n",
       " 'reference': {'index': 'alchemists-supplies',\n",
       "  'name': \"Alchemist's Supplies\",\n",
       "  'url': '/api/equipment/alchemists-supplies'},\n",
       " 'references': [{'index': 'alchemists-supplies',\n",
       "   'name': \"Alchemist's Supplies\",\n",
       "   'type': 'equipment',\n",
       "   'url': '/api/equipment/alchemists-supplies'}]}"
      ]
     },
     "execution_count": 37,
     "metadata": {},
     "output_type": "execute_result"
    }
   ],
   "source": [
    "x = dnd.get_proficiencies('alchemists-supplies').content\n",
    "json.loads(x)"
   ]
  },
  {
   "cell_type": "code",
   "execution_count": 40,
   "id": "c1709d06-7186-42b5-9117-6fdab216d5b2",
   "metadata": {},
   "outputs": [
    {
     "data": {
      "text/plain": [
       "{'index': 'grappler',\n",
       " 'name': 'Grappler',\n",
       " 'prerequisites': [{'ability_score': {'index': 'str',\n",
       "    'name': 'STR',\n",
       "    'url': '/api/ability-scores/str'},\n",
       "   'minimum_score': 13}],\n",
       " 'desc': ['You’ve developed the Skills necessary to hold your own in close--quarters Grappling. You gain the following benefits:',\n",
       "  '- You have advantage on Attack Rolls against a creature you are Grappling.',\n",
       "  '- You can use your action to try to pin a creature Grappled by you. To do so, make another grapple check. If you succeed, you and the creature are both Restrained until the grapple ends.'],\n",
       " 'url': '/api/feats/grappler'}"
      ]
     },
     "execution_count": 40,
     "metadata": {},
     "output_type": "execute_result"
    }
   ],
   "source": [
    "x = dnd.get_feats('grappler').content\n",
    "json.loads(x)"
   ]
  },
  {
   "cell_type": "markdown",
   "id": "3c2041e1-da75-41b0-b261-3374536e0d37",
   "metadata": {},
   "source": [
    "## Rules"
   ]
  },
  {
   "cell_type": "code",
   "execution_count": 41,
   "id": "d7e54f7e-9614-42f1-8fef-8ff799452c9f",
   "metadata": {},
   "outputs": [
    {
     "data": {
      "text/plain": [
       "{'count': 30,\n",
       " 'results': [{'name': 'Ability Checks',\n",
       "   'index': 'ability-checks',\n",
       "   'url': '/api/rule-sections/ability-checks'},\n",
       "  {'name': 'Ability Scores and Modifiers',\n",
       "   'index': 'ability-scores-and-modifiers',\n",
       "   'url': '/api/rule-sections/ability-scores-and-modifiers'},\n",
       "  {'name': 'Actions in Combat',\n",
       "   'index': 'actions-in-combat',\n",
       "   'url': '/api/rule-sections/actions-in-combat'},\n",
       "  {'name': 'Advantage and Disadvantage',\n",
       "   'index': 'advantage-and-disadvantage',\n",
       "   'url': '/api/rule-sections/advantage-and-disadvantage'},\n",
       "  {'name': 'Between Adventures',\n",
       "   'index': 'between-adventures',\n",
       "   'url': '/api/rule-sections/between-adventures'},\n",
       "  {'name': 'Casting a Spell',\n",
       "   'index': 'casting-a-spell',\n",
       "   'url': '/api/rule-sections/casting-a-spell'},\n",
       "  {'name': 'Cover', 'index': 'cover', 'url': '/api/rule-sections/cover'},\n",
       "  {'name': 'Damage and Healing',\n",
       "   'index': 'damage-and-healing',\n",
       "   'url': '/api/rule-sections/damage-and-healing'},\n",
       "  {'name': 'Diseases',\n",
       "   'index': 'diseases',\n",
       "   'url': '/api/rule-sections/diseases'},\n",
       "  {'name': 'Fantasy-Historical Pantheons',\n",
       "   'index': 'fantasy-historical-pantheons',\n",
       "   'url': '/api/rule-sections/fantasy-historical-pantheons'},\n",
       "  {'name': 'Madness', 'index': 'madness', 'url': '/api/rule-sections/madness'},\n",
       "  {'name': 'Making an Attack',\n",
       "   'index': 'making-an-attack',\n",
       "   'url': '/api/rule-sections/making-an-attack'},\n",
       "  {'name': 'Mounted Combat',\n",
       "   'index': 'mounted-combat',\n",
       "   'url': '/api/rule-sections/mounted-combat'},\n",
       "  {'name': 'Movement',\n",
       "   'index': 'movement',\n",
       "   'url': '/api/rule-sections/movement'},\n",
       "  {'name': 'Movement and Position',\n",
       "   'index': 'movement-and-position',\n",
       "   'url': '/api/rule-sections/movement-and-position'},\n",
       "  {'name': 'Objects', 'index': 'objects', 'url': '/api/rule-sections/objects'},\n",
       "  {'name': 'Poisons', 'index': 'poisons', 'url': '/api/rule-sections/poisons'},\n",
       "  {'name': 'Proficiency Bonus',\n",
       "   'index': 'proficiency-bonus',\n",
       "   'url': '/api/rule-sections/proficiency-bonus'},\n",
       "  {'name': 'Resting', 'index': 'resting', 'url': '/api/rule-sections/resting'},\n",
       "  {'name': 'Saving Throws',\n",
       "   'index': 'saving-throws',\n",
       "   'url': '/api/rule-sections/saving-throws'},\n",
       "  {'name': 'Sentient Magic Items',\n",
       "   'index': 'sentient-magic-items',\n",
       "   'url': '/api/rule-sections/sentient-magic-items'},\n",
       "  {'name': 'Standard Exchange Rates',\n",
       "   'index': 'standard-exchange-rates',\n",
       "   'url': '/api/rule-sections/standard-exchange-rates'},\n",
       "  {'name': 'The Environment',\n",
       "   'index': 'the-environment',\n",
       "   'url': '/api/rule-sections/the-environment'},\n",
       "  {'name': 'The Order of Combat',\n",
       "   'index': 'the-order-of-combat',\n",
       "   'url': '/api/rule-sections/the-order-of-combat'},\n",
       "  {'name': 'The Planes of Existence',\n",
       "   'index': 'the-planes-of-existence',\n",
       "   'url': '/api/rule-sections/the-planes-of-existence'},\n",
       "  {'name': 'Time', 'index': 'time', 'url': '/api/rule-sections/time'},\n",
       "  {'name': 'Traps', 'index': 'traps', 'url': '/api/rule-sections/traps'},\n",
       "  {'name': 'Underwater Combat',\n",
       "   'index': 'underwater-combat',\n",
       "   'url': '/api/rule-sections/underwater-combat'},\n",
       "  {'name': 'Using Each Ability',\n",
       "   'index': 'using-each-ability',\n",
       "   'url': '/api/rule-sections/using-each-ability'},\n",
       "  {'name': 'What Is a Spell?',\n",
       "   'index': 'what-is-a-spell',\n",
       "   'url': '/api/rule-sections/what-is-a-spell'}]}"
      ]
     },
     "execution_count": 41,
     "metadata": {},
     "output_type": "execute_result"
    }
   ],
   "source": [
    "x = dnd.get_rule_sections().content\n",
    "json.loads(x)"
   ]
  },
  {
   "cell_type": "code",
   "execution_count": null,
   "id": "9c86575a-144f-4ab9-8384-c691eb1f76d0",
   "metadata": {},
   "outputs": [],
   "source": []
  }
 ],
 "metadata": {
  "kernelspec": {
   "display_name": "Python 3 (ipykernel)",
   "language": "python",
   "name": "python3"
  },
  "language_info": {
   "codemirror_mode": {
    "name": "ipython",
    "version": 3
   },
   "file_extension": ".py",
   "mimetype": "text/x-python",
   "name": "python",
   "nbconvert_exporter": "python",
   "pygments_lexer": "ipython3",
   "version": "3.7.11"
  }
 },
 "nbformat": 4,
 "nbformat_minor": 5
}
