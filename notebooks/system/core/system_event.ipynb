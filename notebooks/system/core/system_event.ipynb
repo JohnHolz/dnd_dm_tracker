{
 "cells": [
  {
   "cell_type": "code",
   "execution_count": 1,
   "id": "29a99aa3-4dd1-4540-8df3-f42c29d3ebf4",
   "metadata": {},
   "outputs": [],
   "source": [
    "import os\n",
    "os.chdir('../../../systems/')"
   ]
  },
  {
   "cell_type": "code",
   "execution_count": 17,
   "id": "5b93b4be-cf30-4987-b9ab-d4e782564585",
   "metadata": {},
   "outputs": [],
   "source": [
    "from world.places.places import Selgaunt\n",
    "from world.time import DateTime\n",
    "from characters.party import Party, Vutar, Benio, Bushi, Aussyrk\n",
    "party_char_list = Party\n",
    "line = '\\n+----------------------------------+\\n'\n",
    "from jh_utils.utils.utils import to_print_dict\n",
    "\n",
    "class Event():\n",
    "    def __init__(self, time, place, description='', party=True, npcs=[], chars=[]):\n",
    "        self.time = time\n",
    "        self.place = place\n",
    "        self.npcs = npcs\n",
    "        self.mobs = {}\n",
    "        self.info = {\n",
    "            'description':description\n",
    "        }\n",
    "        self.full_party = party\n",
    "        if party:\n",
    "            self.chars = party_char_list\n",
    "            self.full_party = party\n",
    "        else:\n",
    "            self.chars = chars\n",
    "    \n",
    "    ## TODO add npc\n",
    "    ## TODO add mobs\n",
    "    ## TODO more description types\n",
    "    ## TODO add description\n",
    "    \n",
    "    def __repr__(self):\n",
    "        ## npcs\n",
    "        npcs = '' if self.npcs==[] else f'\\n        npcs:{self.npcs}\\n'\n",
    "        ## mobs\n",
    "        mobs = '' if self.mobs=={} else f'\\n        {self.mobs}\\n'\n",
    "        ## full party\n",
    "        party_show = f'Full Party' if self.full_party else f'{self.chars}'\n",
    "\n",
    "        ret = f\"\"\"{line}{self.time}\n",
    "        → {self.place}\n",
    "        → {party_show}{npcs}{mobs}{to_print_dict(self.info)}{line}\n",
    "        \"\"\"\n",
    "        return ret\n"
   ]
  },
  {
   "cell_type": "code",
   "execution_count": 15,
   "id": "5a994630-d0ca-448d-9a7d-88a29cb012eb",
   "metadata": {},
   "outputs": [],
   "source": [
    "x = Event(DateTime(120,year=1330),Selgaunt,'A Party chega a Selgaunt depois de uma exaustiva viagem',npcs=['Aelar'])"
   ]
  },
  {
   "cell_type": "code",
   "execution_count": 16,
   "id": "c39a5886-cee7-4c50-a071-838926366b66",
   "metadata": {},
   "outputs": [
    {
     "data": {
      "text/plain": [
       "\n",
       "+----------------------------------+\n",
       "00:00 day 21 Rillifane`s Month (Flowers Season) 1330 te.\n",
       "        → Selgaunt, a Cidade Branca, Capital Militar\n",
       "        → Full Party\n",
       "        npcs:['Aelar']\n",
       "\n",
       " description: A Party chega a Selgaunt depois de uma exaustiva viagem\n",
       "+----------------------------------+\n",
       "\n",
       "        "
      ]
     },
     "execution_count": 16,
     "metadata": {},
     "output_type": "execute_result"
    }
   ],
   "source": [
    "x"
   ]
  },
  {
   "cell_type": "code",
   "execution_count": 21,
   "id": "2e8da3bf-c41e-4587-ab27-f764f0ca0d8a",
   "metadata": {},
   "outputs": [],
   "source": [
    "ls = ['teste','teste1','teste2']"
   ]
  },
  {
   "cell_type": "code",
   "execution_count": 22,
   "id": "6531937c-ecbb-4d24-8ad3-fe509a031eae",
   "metadata": {},
   "outputs": [],
   "source": [
    "def to_print_list(ls):\n",
    "    ret = ''\n",
    "    for i in ls:\n",
    "        ret=ret+f'{i},'\n",
    "    return ret[:-1]"
   ]
  },
  {
   "cell_type": "code",
   "execution_count": 13,
   "id": "e8bbefa0-69e5-497d-b023-f0fc1ea686d3",
   "metadata": {},
   "outputs": [
    {
     "name": "stdout",
     "output_type": "stream",
     "text": [
      "teste,teste1,teste2\n"
     ]
    }
   ],
   "source": [
    "print(to_print_list(ls))"
   ]
  },
  {
   "cell_type": "code",
   "execution_count": null,
   "id": "aa37b703-a93e-46ec-92de-9fc5779ce58a",
   "metadata": {},
   "outputs": [],
   "source": []
  }
 ],
 "metadata": {
  "kernelspec": {
   "display_name": "Python 3 (ipykernel)",
   "language": "python",
   "name": "python3"
  },
  "language_info": {
   "codemirror_mode": {
    "name": "ipython",
    "version": 3
   },
   "file_extension": ".py",
   "mimetype": "text/x-python",
   "name": "python",
   "nbconvert_exporter": "python",
   "pygments_lexer": "ipython3",
   "version": "3.7.11"
  }
 },
 "nbformat": 4,
 "nbformat_minor": 5
}
