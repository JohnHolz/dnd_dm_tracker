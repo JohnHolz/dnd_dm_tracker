{
 "cells": [
  {
   "cell_type": "code",
   "execution_count": 1,
   "id": "29a99aa3-4dd1-4540-8df3-f42c29d3ebf4",
   "metadata": {},
   "outputs": [],
   "source": [
    "import os\n",
    "os.chdir('../../../systems/core/')"
   ]
  },
  {
   "cell_type": "code",
   "execution_count": 2,
   "id": "d0af95f7-d510-4329-a04c-398b9a657a61",
   "metadata": {},
   "outputs": [],
   "source": [
    "import json\n",
    "from event import Event\n",
    "import requests\n",
    "from world_time import DateTime\n",
    "from world import party\n",
    "from world.places import Selgaunt"
   ]
  },
  {
   "cell_type": "code",
   "execution_count": 3,
   "id": "5a994630-d0ca-448d-9a7d-88a29cb012eb",
   "metadata": {},
   "outputs": [],
   "source": [
    "x = Event(DateTime(120,year=1330),Selgaunt,'A Party chega a Selgaunt depois de uma exaustiva viagem',npcs=['Aelar'])"
   ]
  },
  {
   "cell_type": "code",
   "execution_count": 4,
   "id": "c39a5886-cee7-4c50-a071-838926366b66",
   "metadata": {},
   "outputs": [
    {
     "data": {
      "text/plain": [
       "00:00 day 21 Rillifane`s Month (Flowers Season) 1330 te.\n",
       "        → Selgaunt, a Cidade Branca, Capital Militar\n",
       "        → Full Party\n",
       "        npcs:['Aelar']\n",
       "    description: A Party chega a Selgaunt depois de uma exaustiva viagem"
      ]
     },
     "execution_count": 4,
     "metadata": {},
     "output_type": "execute_result"
    }
   ],
   "source": [
    "x"
   ]
  },
  {
   "cell_type": "code",
   "execution_count": null,
   "id": "aa37b703-a93e-46ec-92de-9fc5779ce58a",
   "metadata": {},
   "outputs": [],
   "source": []
  }
 ],
 "metadata": {
  "kernelspec": {
   "display_name": "Python 3 (ipykernel)",
   "language": "python",
   "name": "python3"
  },
  "language_info": {
   "codemirror_mode": {
    "name": "ipython",
    "version": 3
   },
   "file_extension": ".py",
   "mimetype": "text/x-python",
   "name": "python",
   "nbconvert_exporter": "python",
   "pygments_lexer": "ipython3",
   "version": "3.7.11"
  }
 },
 "nbformat": 4,
 "nbformat_minor": 5
}
