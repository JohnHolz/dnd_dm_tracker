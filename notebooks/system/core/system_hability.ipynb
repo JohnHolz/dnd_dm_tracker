{
 "cells": [
  {
   "cell_type": "code",
   "execution_count": 10,
   "id": "7d69afe5-57c1-4519-ba08-7c5d3e092b71",
   "metadata": {},
   "outputs": [],
   "source": [
    "line = '\\n+---------------------------------------------------+\\n'\n",
    "class Hability():\n",
    "    def __init__(self, name, hability_cost, effect, value = '',description=''):\n",
    "        self.name = name\n",
    "        self.cost = hability_cost\n",
    "        self.effect = effect\n",
    "        self.roll = value\n",
    "        self.description = description\n",
    "\n",
    "    def __repr__(self) -> str:\n",
    "        ret = f\"\"\"{line}{self.name}\n",
    "    cost:           {self.cost}\n",
    "    roll:           {self.roll}\n",
    "    effect:         {self.effect}\n",
    "    description:    {self.description}{line}\"\"\"\n",
    "        return ret"
   ]
  },
  {
   "cell_type": "code",
   "execution_count": 11,
   "id": "d99dd30e-1930-4c70-8c88-f80da2450a5c",
   "metadata": {},
   "outputs": [
    {
     "data": {
      "text/plain": [
       "\n",
       "+---------------------------------------------------+\n",
       "Heironeous Power\n",
       "    cost:           once a week\n",
       "    roll:           15%hp + 2d10\n",
       "    effect:         heals all allies inside the room or 10 meters radius in open area\n",
       "    description:    cast a strong light from the shield\n",
       "+---------------------------------------------------+"
      ]
     },
     "execution_count": 11,
     "metadata": {},
     "output_type": "execute_result"
    }
   ],
   "source": [
    "Hability('Heironeous Power',\n",
    "             'once a week',\n",
    "             'heals all allies inside the room or 10 meters radius in open area',\n",
    "             '15%hp + 2d10',\n",
    "             'cast a strong light from the shield')"
   ]
  },
  {
   "cell_type": "code",
   "execution_count": 12,
   "id": "244b4e91-2608-495e-a64a-2230d6035203",
   "metadata": {},
   "outputs": [
    {
     "data": {
      "text/plain": [
       "\n",
       "+---------------------------------------------------+\n",
       "Lightning Metal\n",
       "    cost:           Once the Equipment is charged and interacts with an enemy\n",
       "    roll:           2d10+5\n",
       "    effect:         eletrocute enemy\n",
       "    description:    When the sword\n",
       "+---------------------------------------------------+"
      ]
     },
     "execution_count": 12,
     "metadata": {},
     "output_type": "execute_result"
    }
   ],
   "source": [
    "Hability('Lightning Metal',\n",
    "             'Once the Equipment is charged and interacts with an enemy',\n",
    "             'eletrocute enemy',\n",
    "             '2d10+5',\n",
    "             'When the sword')"
   ]
  },
  {
   "cell_type": "code",
   "execution_count": null,
   "id": "ae5e22df-649d-4c55-8d14-dc42fc497eec",
   "metadata": {},
   "outputs": [],
   "source": []
  }
 ],
 "metadata": {
  "kernelspec": {
   "display_name": "Python 3 (ipykernel)",
   "language": "python",
   "name": "python3"
  },
  "language_info": {
   "codemirror_mode": {
    "name": "ipython",
    "version": 3
   },
   "file_extension": ".py",
   "mimetype": "text/x-python",
   "name": "python",
   "nbconvert_exporter": "python",
   "pygments_lexer": "ipython3",
   "version": "3.7.11"
  }
 },
 "nbformat": 4,
 "nbformat_minor": 5
}
