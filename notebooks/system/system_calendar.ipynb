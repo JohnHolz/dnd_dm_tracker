{
 "cells": [
  {
   "cell_type": "code",
   "execution_count": 1,
   "id": "368ed8fd-2ca7-4201-b493-d9fde1f68cd5",
   "metadata": {},
   "outputs": [],
   "source": [
    "from jh_utils.utils.utils import print_dict"
   ]
  },
  {
   "cell_type": "code",
   "execution_count": 64,
   "id": "38d66c72-9acd-4f2a-b8fa-284115a76636",
   "metadata": {},
   "outputs": [],
   "source": [
    "class Calendar():\n",
    "    def __init__(self, year, day):\n",
    "        self.year = year\n",
    "        self.day = day\n",
    "        self.hour = Hour(0,0)\n",
    "        self.month_number = 1+int(self.day/25)\n",
    "        months = {'1': 'Auril`s Month',\n",
    "          '2': 'Celestia`s Month',\n",
    "          '3': 'Leira`s Month',\n",
    "          '4': 'Corellon`s Month',\n",
    "          '5': 'Rillifane`s Month',\n",
    "          '6': 'Sehanine Moonbow`s Month',\n",
    "          '7': 'Malar`s Month',\n",
    "          '8': 'Lilira`s Month',\n",
    "          '9': 'Pelor`s Month',\n",
    "          '10': 'Tiamat`s Month',\n",
    "          '11': 'Bahamut`s Month',\n",
    "          '12': 'Heironeous`s Month',\n",
    "          '13': 'Tempus`s Month',\n",
    "          '14': 'Kord`s Month',\n",
    "          '15': 'Talos`s Month',\n",
    "          '16': 'Ogmhar`s Month'}\n",
    "        seasons = {'1': 'Cold Season',\n",
    "          '2': 'Flowers Season',\n",
    "          '3': 'Sun Season',\n",
    "          '4': 'Wood Season'}\n",
    "        self.month = months[f'{self.month_number}']\n",
    "        self.season = seasons[f'{1+int(self.day/100)}']\n",
    "    \n",
    "    def __repr__(self):\n",
    "        ret = f\"\"\"{self.year}y {self.day}/{self.month[:3]} {self.hour}\"\"\"\n",
    "        return ret\n",
    "    \n",
    "    def foward(self, value):\n",
    "           pass\n",
    "        \n",
    "        \n",
    "#     def backward(self):"
   ]
  },
  {
   "cell_type": "code",
   "execution_count": 65,
   "id": "2ac8ae63-5db4-4607-bc3f-388e1651ced3",
   "metadata": {},
   "outputs": [],
   "source": [
    "x = Calendar(3200,30)"
   ]
  },
  {
   "cell_type": "code",
   "execution_count": 66,
   "id": "67fae539-a524-4b8e-8bf9-9a4cdca89561",
   "metadata": {},
   "outputs": [
    {
     "data": {
      "text/plain": [
       "3200y 30/Cel 0:0"
      ]
     },
     "execution_count": 66,
     "metadata": {},
     "output_type": "execute_result"
    }
   ],
   "source": [
    "x"
   ]
  },
  {
   "cell_type": "code",
   "execution_count": null,
   "id": "177e80d5-eddd-4e73-90ba-4e29415e8777",
   "metadata": {},
   "outputs": [],
   "source": []
  }
 ],
 "metadata": {
  "kernelspec": {
   "display_name": "Python 3 (ipykernel)",
   "language": "python",
   "name": "python3"
  },
  "language_info": {
   "codemirror_mode": {
    "name": "ipython",
    "version": 3
   },
   "file_extension": ".py",
   "mimetype": "text/x-python",
   "name": "python",
   "nbconvert_exporter": "python",
   "pygments_lexer": "ipython3",
   "version": "3.7.11"
  }
 },
 "nbformat": 4,
 "nbformat_minor": 5
}
