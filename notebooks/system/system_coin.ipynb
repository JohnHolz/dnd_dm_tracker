{
 "cells": [
  {
   "cell_type": "code",
   "execution_count": 30,
   "id": "1d9fa08d-64dd-4fc5-ab87-684bd90589b3",
   "metadata": {},
   "outputs": [],
   "source": [
    "class Money():\n",
    "    def __init__(self, cp=0, sp=0, ep=0, gp=31, pp=0):\n",
    "        self.cp = cp\n",
    "        self.sp = sp\n",
    "        self.ep = ep\n",
    "        self.gp = gp\n",
    "        self.pp = pp\n",
    "\n",
    "    def __repr__(self):\n",
    "        ret = f\"\"\"\n",
    "        cp: {self.cp}\n",
    "        sp: {self.sp}\n",
    "        ep: {self.ep}\n",
    "        gp: {self.gp}\n",
    "        pp: {self.pp}\n",
    "        \"\"\"\n",
    "        return ret\n",
    "\n",
    "    def __add__(self, other):\n",
    "        ret = [self.cp + other.cp,\n",
    "               self.sp + other.sp,\n",
    "               self.ep + other.ep,\n",
    "               self.gp + other.gp,\n",
    "               self.pp + other.pp]\n",
    "        return ret\n",
    "                 \n",
    "    def __len__(self):\n",
    "        return self.cp/100+self.sp/10+self.ep/2+self.gp+self.pp*10\n",
    "\n",
    "    def update_money(self, value, coin='gp'):\n",
    "        exec(f'self.{coin} = self.{coin}+{value}')"
   ]
  },
  {
   "cell_type": "code",
   "execution_count": 31,
   "id": "31a93be6-11f6-4056-a6a5-ac9915361336",
   "metadata": {},
   "outputs": [
    {
     "data": {
      "text/plain": [
       "[0, 0, 6, 4, 8]"
      ]
     },
     "execution_count": 31,
     "metadata": {},
     "output_type": "execute_result"
    }
   ],
   "source": [
    "Money(0,0,3,0,4) + Money(0,0,3,4,4)"
   ]
  },
  {
   "cell_type": "code",
   "execution_count": 33,
   "id": "2bf29bc8-68fa-4e3e-8dd8-37e5af8d4e6a",
   "metadata": {},
   "outputs": [],
   "source": [
    "transformation_matrix = {\n",
    "    'cp': [1    , 1/10, 1/50 , 1/100 , 1/1000],\n",
    "    'sp': [10   , 1   , 1/5  ,  1/10 ,  1/100],\n",
    "    'ep': [50   , 5   , 1    ,   1/2 ,   1/20],\n",
    "    'gp': [100  , 10  , 2    ,     1 ,   1/10],\n",
    "    'pp': [1000 , 100 , 20   ,    10 ,      1]\n",
    "}\n",
    "\n",
    "coin_index = {\n",
    "    'cp': 0,\n",
    "    'sp': 1,\n",
    "    'ep': 2,\n",
    "    'gp': 3,\n",
    "    'pp': 4\n",
    "}\n"
   ]
  },
  {
   "cell_type": "code",
   "execution_count": 32,
   "id": "05a64011-1330-4f98-af8d-ded07b1ea701",
   "metadata": {},
   "outputs": [],
   "source": [
    "def exchange_coin(value, coin_from='sp', coin_to='gp'):\n",
    "    return transformation_matrix[coin_from][coin_index[coin_to]]*value"
   ]
  },
  {
   "cell_type": "code",
   "execution_count": 35,
   "id": "738607d1-bfdf-4b60-9151-fa90ffca7d23",
   "metadata": {},
   "outputs": [
    {
     "data": {
      "text/plain": [
       "1.0"
      ]
     },
     "execution_count": 35,
     "metadata": {},
     "output_type": "execute_result"
    }
   ],
   "source": [
    "exchange_coin(10,'gp','pp')"
   ]
  },
  {
   "cell_type": "code",
   "execution_count": null,
   "id": "02f59ba2-1236-49c1-8ce1-e4b83ba98283",
   "metadata": {},
   "outputs": [],
   "source": []
  }
 ],
 "metadata": {
  "kernelspec": {
   "display_name": "Python 3 (ipykernel)",
   "language": "python",
   "name": "python3"
  },
  "language_info": {
   "codemirror_mode": {
    "name": "ipython",
    "version": 3
   },
   "file_extension": ".py",
   "mimetype": "text/x-python",
   "name": "python",
   "nbconvert_exporter": "python",
   "pygments_lexer": "ipython3",
   "version": "3.7.11"
  }
 },
 "nbformat": 4,
 "nbformat_minor": 5
}
