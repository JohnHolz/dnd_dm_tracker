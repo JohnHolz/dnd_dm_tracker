{
 "cells": [
  {
   "cell_type": "code",
   "execution_count": 8,
   "id": "7ff3a27e-7d54-40b6-aebb-b7c2307753cd",
   "metadata": {},
   "outputs": [],
   "source": [
    "from numpy.random import randint\n",
    "\n",
    "def dice(d):\n",
    "    ## ! create a dice roll with randint - minimum of 0 and max of d\n",
    "    return randint(1,d+1)\n",
    "\n",
    "def rand_dice(dice = 'd6'):\n",
    "    ## ! return an string to be evaluated with the calculus\n",
    "    if 'd' not in dice:\n",
    "        return dice\n",
    "    \n",
    "    ## split\n",
    "    vec = dice.split('d')\n",
    "    \n",
    "    if vec[0]=='':\n",
    "        vec[0]='1'\n",
    "    \n",
    "    ## @ string to be evaluated\n",
    "    eval_string = f'{vec[0]}'+'*'+f'dice({vec[1]})'\n",
    "    return eval_string\n",
    "\n",
    "def roll(ŕoll='2d6+4'):\n",
    "    ## !TODO fazer recursivo\n",
    "    ## ! roll dice function and return the value\n",
    "    ## ! just work with +, - not implemented\n",
    "    return sum(list(map( lambda y: eval(rand_dice(y)), ŕoll.split('+'))))"
   ]
  },
  {
   "cell_type": "code",
   "execution_count": 9,
   "id": "94d4ccac-c7b4-4236-b7bc-a21cf9e2f524",
   "metadata": {},
   "outputs": [
    {
     "data": {
      "text/plain": [
       "[5, 9, 1, 66, 11]"
      ]
     },
     "execution_count": 9,
     "metadata": {},
     "output_type": "execute_result"
    }
   ],
   "source": [
    "t = ['1d6','1d6+4','d6','1d6+12d6+3','1d6+1d6+2']\n",
    "list(map(lambda x: roll(x), t))"
   ]
  },
  {
   "cell_type": "code",
   "execution_count": 10,
   "id": "5c3dc321-a90d-4584-a4d1-dff75a1c0a0b",
   "metadata": {},
   "outputs": [
    {
     "data": {
      "text/plain": [
       "6"
      ]
     },
     "execution_count": 10,
     "metadata": {},
     "output_type": "execute_result"
    }
   ],
   "source": [
    "roll('1d6+4') - roll('1d4')"
   ]
  },
  {
   "cell_type": "code",
   "execution_count": null,
   "id": "246dd7d4-0230-42ae-9a88-c257d2ea8dc8",
   "metadata": {},
   "outputs": [],
   "source": []
  }
 ],
 "metadata": {
  "kernelspec": {
   "display_name": "Python 3 (ipykernel)",
   "language": "python",
   "name": "python3"
  },
  "language_info": {
   "codemirror_mode": {
    "name": "ipython",
    "version": 3
   },
   "file_extension": ".py",
   "mimetype": "text/x-python",
   "name": "python",
   "nbconvert_exporter": "python",
   "pygments_lexer": "ipython3",
   "version": "3.7.11"
  }
 },
 "nbformat": 4,
 "nbformat_minor": 5
}
