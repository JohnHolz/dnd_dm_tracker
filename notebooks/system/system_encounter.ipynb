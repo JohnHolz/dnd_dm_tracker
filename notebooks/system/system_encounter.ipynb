{
 "cells": [
  {
   "cell_type": "code",
   "execution_count": 9,
   "id": "6c096038-9087-440a-a287-88f1958edaab",
   "metadata": {},
   "outputs": [],
   "source": [
    "import sys\n",
    "sys.path.append('../../systems/')\n",
    "from encounter.encounters import Encounter"
   ]
  },
  {
   "cell_type": "code",
   "execution_count": 10,
   "id": "354beda4-db8f-4f76-962e-281dd7433c72",
   "metadata": {},
   "outputs": [],
   "source": [
    "x = Encounter('Find Raulothim`s Lair','Party finds Raulothim`s Lair')"
   ]
  },
  {
   "cell_type": "code",
   "execution_count": 11,
   "id": "8cb985eb-3513-4ed4-9aad-fd7ed69a9cf7",
   "metadata": {},
   "outputs": [
    {
     "data": {
      "text/plain": [
       "Find Raulothim`s Lair"
      ]
     },
     "execution_count": 11,
     "metadata": {},
     "output_type": "execute_result"
    }
   ],
   "source": [
    "x"
   ]
  },
  {
   "cell_type": "code",
   "execution_count": 12,
   "id": "57f30738-4a15-4c57-9f7c-acb0c598f69e",
   "metadata": {},
   "outputs": [],
   "source": [
    "x.add_location('Raulothim Inner Plane')"
   ]
  },
  {
   "cell_type": "code",
   "execution_count": 13,
   "id": "71e0d8e4-7d45-4dcd-97fc-65e539fa7be3",
   "metadata": {},
   "outputs": [],
   "source": [
    "x.add_npc('Raulothim', 'Ele vai mandar o gigante de volta pra casa')"
   ]
  },
  {
   "cell_type": "code",
   "execution_count": 14,
   "id": "2fbb6d9a-8156-47d7-93f7-1899cb4577ed",
   "metadata": {},
   "outputs": [
    {
     "data": {
      "text/plain": [
       "{'Raulothim': 'Ele vai mandar o gigante de volta pra casa'}"
      ]
     },
     "execution_count": 14,
     "metadata": {},
     "output_type": "execute_result"
    }
   ],
   "source": [
    "x.npcs"
   ]
  },
  {
   "cell_type": "code",
   "execution_count": 15,
   "id": "a769f988-1295-45dc-b021-5387a6c64ab6",
   "metadata": {},
   "outputs": [
    {
     "data": {
      "text/plain": [
       "Find Raulothim`s Lair"
      ]
     },
     "execution_count": 15,
     "metadata": {},
     "output_type": "execute_result"
    }
   ],
   "source": [
    "x"
   ]
  },
  {
   "cell_type": "code",
   "execution_count": null,
   "id": "2196f763-ba06-4158-a62c-937bc206df4e",
   "metadata": {},
   "outputs": [],
   "source": []
  }
 ],
 "metadata": {
  "kernelspec": {
   "display_name": "Python 3 (ipykernel)",
   "language": "python",
   "name": "python3"
  },
  "language_info": {
   "codemirror_mode": {
    "name": "ipython",
    "version": 3
   },
   "file_extension": ".py",
   "mimetype": "text/x-python",
   "name": "python",
   "nbconvert_exporter": "python",
   "pygments_lexer": "ipython3",
   "version": "3.7.11"
  }
 },
 "nbformat": 4,
 "nbformat_minor": 5
}
