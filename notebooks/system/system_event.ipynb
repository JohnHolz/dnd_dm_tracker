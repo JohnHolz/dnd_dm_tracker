{
 "cells": [
  {
   "cell_type": "code",
   "execution_count": 1,
   "id": "29a99aa3-4dd1-4540-8df3-f42c29d3ebf4",
   "metadata": {},
   "outputs": [],
   "source": [
    "import os\n",
    "os.chdir('../../systems/')"
   ]
  },
  {
   "cell_type": "code",
   "execution_count": 45,
   "id": "38e98666-176c-451a-9d81-9fa99400019b",
   "metadata": {},
   "outputs": [],
   "source": [
    "from char.char import Vutar, Benio, Bushi, Aussyrk\n",
    "from world.places.places import Selgaunt\n",
    "from world.time import DateTime\n",
    "line = '\\n+----------------------------------+\\n'"
   ]
  },
  {
   "cell_type": "code",
   "execution_count": 46,
   "id": "4d9cbd11-9f79-49b2-877f-1d7e1d9f1e8f",
   "metadata": {},
   "outputs": [],
   "source": [
    "from numpy.random import randint\n"
   ]
  },
  {
   "cell_type": "code",
   "execution_count": 47,
   "id": "5b93b4be-cf30-4987-b9ab-d4e782564585",
   "metadata": {},
   "outputs": [],
   "source": [
    "party_char_list = [Vutar, Benio, Bushi, Aussyrk]\n",
    "\n",
    "class Event():\n",
    "    def __init__(self, time, place, description='', party=True, npcs=[], chars=[]):\n",
    "        self.time = time\n",
    "        self.place = place\n",
    "        self.npcs = npcs\n",
    "        self.mobs = {}\n",
    "        self.info = {\n",
    "            'description':description\n",
    "        }\n",
    "        self.full_party = party\n",
    "        if party:\n",
    "            self.chars = party_char_list\n",
    "            self.full_party = party\n",
    "        else:\n",
    "            self.chars = chars\n",
    "    \n",
    "    ## TODO add npc\n",
    "    ## TODO add mobs\n",
    "    ## TODO more description types\n",
    "    ## TODO add description\n",
    "    \n",
    "    def __repr__(self):\n",
    "        ## npcs\n",
    "        if self.npcs==[]: \n",
    "            npcs = ''\n",
    "        else:\n",
    "            npcs=f'\\n        npcs:{self.npcs}\\n'\n",
    "        ## mobs\n",
    "        if self.mobs=={}: \n",
    "            mobs = ''\n",
    "        else:\n",
    "            mobs=f'\\n        {self.mobs}\\n'\n",
    "        ## full party\n",
    "        if self.full_party:\n",
    "            party_show = f'Full Party'\n",
    "        else:\n",
    "            party_show = f'{self.chars}'\n",
    "\n",
    "        ret = f\"\"\"Event:{self.time}\n",
    "        {line}\n",
    "        where:  {self.place}\n",
    "        chars: {party_show} {npcs} {mobs}\n",
    "        {self.info}\n",
    "        {line}\n",
    "        \"\"\"\n",
    "        return ret\n",
    "    "
   ]
  },
  {
   "cell_type": "code",
   "execution_count": 48,
   "id": "5a994630-d0ca-448d-9a7d-88a29cb012eb",
   "metadata": {},
   "outputs": [],
   "source": [
    "x = Event(DateTime(120,year=1330),Selgaunt,'A Party chega a Selgaunt depois de uma exaustiva viagem',npcs=['Aelar'])"
   ]
  },
  {
   "cell_type": "code",
   "execution_count": 49,
   "id": "c39a5886-cee7-4c50-a071-838926366b66",
   "metadata": {},
   "outputs": [
    {
     "data": {
      "text/plain": [
       "Event:00:00 day 21 Rillifane`s Month (Flowers Season) 1330 te.\n",
       "        \n",
       "+----------------------------------+\n",
       "\n",
       "        where:  Selgaunt\n",
       "            a Cidade Branca, Capital Militar\n",
       "            city\n",
       "        chars: Full Party \n",
       "        npcs:['Aelar']\n",
       " \n",
       "        {'description': 'A Party chega a Selgaunt depois de uma exaustiva viagem'}\n",
       "        \n",
       "+----------------------------------+\n",
       "\n",
       "        "
      ]
     },
     "execution_count": 49,
     "metadata": {},
     "output_type": "execute_result"
    }
   ],
   "source": [
    "x"
   ]
  },
  {
   "cell_type": "code",
   "execution_count": null,
   "id": "2e8da3bf-c41e-4587-ab27-f764f0ca0d8a",
   "metadata": {},
   "outputs": [],
   "source": []
  }
 ],
 "metadata": {
  "kernelspec": {
   "display_name": "Python 3 (ipykernel)",
   "language": "python",
   "name": "python3"
  },
  "language_info": {
   "codemirror_mode": {
    "name": "ipython",
    "version": 3
   },
   "file_extension": ".py",
   "mimetype": "text/x-python",
   "name": "python",
   "nbconvert_exporter": "python",
   "pygments_lexer": "ipython3",
   "version": "3.7.11"
  }
 },
 "nbformat": 4,
 "nbformat_minor": 5
}
