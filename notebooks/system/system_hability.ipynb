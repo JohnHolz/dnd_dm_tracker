{
 "cells": [
  {
   "cell_type": "code",
   "execution_count": 1,
   "id": "7d69afe5-57c1-4519-ba08-7c5d3e092b71",
   "metadata": {},
   "outputs": [],
   "source": [
    "class Hability():\n",
    "    def __init__(self, name, hability_cost, effect, value = '',description=''):\n",
    "        self.name = name\n",
    "        self.cost = hability_cost\n",
    "        self.effect = effect\n",
    "        self.roll = value\n",
    "        self.description = description\n",
    "\n",
    "    def __repr__(self) -> str:\n",
    "        ret = f\"\"\"\n",
    "        {self.name}\n",
    "            cost:           {self.cost}\n",
    "            effect:         {self.effect}\n",
    "            roll:           {self.roll}\n",
    "            description:    {self.description}\n",
    "        \"\"\"\n",
    "        return ret"
   ]
  },
  {
   "cell_type": "code",
   "execution_count": 2,
   "id": "d99dd30e-1930-4c70-8c88-f80da2450a5c",
   "metadata": {},
   "outputs": [],
   "source": [
    "x = Hability('Heironeous Power',\n",
    "             'once a week',\n",
    "             'heals all allies inside the room or 10 meters radius in open area',\n",
    "             '15%hp + 2d10',\n",
    "             'cast a strong light from the shield')"
   ]
  },
  {
   "cell_type": "code",
   "execution_count": 3,
   "id": "465b3d25-33a3-4b2a-b46c-1bc7bed2e650",
   "metadata": {},
   "outputs": [
    {
     "data": {
      "text/plain": [
       "\n",
       "        Heironeous Power\n",
       "            cost:           once a week\n",
       "            effect:         heals all allies inside the room or 10 meters radius in open area\n",
       "            roll:           15%hp + 2d10\n",
       "            description:    cast a strong light from the shield\n",
       "        "
      ]
     },
     "execution_count": 3,
     "metadata": {},
     "output_type": "execute_result"
    }
   ],
   "source": [
    "x"
   ]
  },
  {
   "cell_type": "code",
   "execution_count": null,
   "id": "244b4e91-2608-495e-a64a-2230d6035203",
   "metadata": {},
   "outputs": [],
   "source": []
  }
 ],
 "metadata": {
  "kernelspec": {
   "display_name": "Python 3 (ipykernel)",
   "language": "python",
   "name": "python3"
  },
  "language_info": {
   "codemirror_mode": {
    "name": "ipython",
    "version": 3
   },
   "file_extension": ".py",
   "mimetype": "text/x-python",
   "name": "python",
   "nbconvert_exporter": "python",
   "pygments_lexer": "ipython3",
   "version": "3.7.11"
  }
 },
 "nbformat": 4,
 "nbformat_minor": 5
}
