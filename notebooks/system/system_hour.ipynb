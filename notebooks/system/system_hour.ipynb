{
 "cells": [
  {
   "cell_type": "code",
   "execution_count": 146,
   "id": "1b29e4ca-99ac-4f8f-8ff5-5ca8710ceb78",
   "metadata": {},
   "outputs": [],
   "source": [
    "class Hour():\n",
    "    def __init__(self, hour = 0, minute = 0):\n",
    "        self.hour = hour\n",
    "        self.minute = minute\n",
    "\n",
    "    def __repr__(self):\n",
    "        zero_hour = ''\n",
    "        zero_min = ''\n",
    "        if self.hour < 10:\n",
    "            zero_hour = '0'\n",
    "        if self.minute < 10:\n",
    "            zero_min = '0'\n",
    "        return f'{zero_hour}{self.hour}:{zero_min}{self.minute}'\n",
    "    \n",
    "    def foward(self, value, update = 'hour'):\n",
    "        if update == 'hour':\n",
    "            self.hour = (self.hour+value)%24\n",
    "        if update == 'minute':\n",
    "            new_minute = self.minute+value\n",
    "            if new_minute>70:\n",
    "                self.hour += 1\n",
    "            self.minute = new_minute%70"
   ]
  },
  {
   "cell_type": "code",
   "execution_count": 147,
   "id": "c306931d-0a2a-4bd7-967f-05aef5d25995",
   "metadata": {},
   "outputs": [],
   "source": [
    "h = Hour(0,0)"
   ]
  },
  {
   "cell_type": "code",
   "execution_count": 221,
   "id": "686ac3ac-4cb5-4487-b35c-4fac92330b2c",
   "metadata": {},
   "outputs": [
    {
     "data": {
      "text/plain": [
       "09:05"
      ]
     },
     "execution_count": 221,
     "metadata": {},
     "output_type": "execute_result"
    }
   ],
   "source": [
    "h.foward(15,'minute')\n",
    "h"
   ]
  },
  {
   "cell_type": "code",
   "execution_count": 105,
   "id": "1c559458-d90d-4bc6-bc95-3cb994e59498",
   "metadata": {},
   "outputs": [
    {
     "data": {
      "text/plain": [
       "1"
      ]
     },
     "execution_count": 105,
     "metadata": {},
     "output_type": "execute_result"
    }
   ],
   "source": [
    "h.hour"
   ]
  },
  {
   "cell_type": "code",
   "execution_count": null,
   "id": "4632105f-62b0-400f-9cb4-af305739a0f3",
   "metadata": {},
   "outputs": [],
   "source": []
  },
  {
   "cell_type": "code",
   "execution_count": null,
   "id": "215dbf88-3384-4ab4-a47d-3ade546c6e98",
   "metadata": {},
   "outputs": [],
   "source": []
  }
 ],
 "metadata": {
  "kernelspec": {
   "display_name": "Python 3 (ipykernel)",
   "language": "python",
   "name": "python3"
  },
  "language_info": {
   "codemirror_mode": {
    "name": "ipython",
    "version": 3
   },
   "file_extension": ".py",
   "mimetype": "text/x-python",
   "name": "python",
   "nbconvert_exporter": "python",
   "pygments_lexer": "ipython3",
   "version": "3.7.11"
  }
 },
 "nbformat": 4,
 "nbformat_minor": 5
}
