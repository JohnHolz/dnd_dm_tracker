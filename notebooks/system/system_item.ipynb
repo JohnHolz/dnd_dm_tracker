{
 "cells": [
  {
   "cell_type": "code",
   "execution_count": 1,
   "id": "609cafeb-284d-40ca-bb78-0a5e21778760",
   "metadata": {},
   "outputs": [],
   "source": [
    "from jh_utils.utils.utils import to_print_dict\n",
    "import sys\n",
    "sys.path.append('../../systems/')"
   ]
  },
  {
   "cell_type": "code",
   "execution_count": 2,
   "id": "12fc5064-0c94-4ec1-a4d9-1517e1b19c62",
   "metadata": {},
   "outputs": [],
   "source": [
    "from core.hability import Hability"
   ]
  },
  {
   "cell_type": "code",
   "execution_count": 3,
   "id": "6a576d52-7e6e-4e73-8794-afa38730d13f",
   "metadata": {},
   "outputs": [],
   "source": [
    "hei_power = Hability('Heironeous Power',\n",
    "             'once a week',\n",
    "             'heals all allies inside the room or 10 meters radius in open area',\n",
    "             '15%hp + 2d10',\n",
    "             'cast a strong light from the shield')"
   ]
  },
  {
   "cell_type": "code",
   "execution_count": 10,
   "id": "38d66c72-9acd-4f2a-b8fa-284115a76636",
   "metadata": {},
   "outputs": [],
   "source": [
    "line = '\\n+-------------------------------+\\n'\n",
    "class Item():\n",
    "    def __init__(self, \n",
    "                 name, \n",
    "                 description='', item_type = '',\n",
    "                 magical=False, unique = False, owner=None):\n",
    "        self.name = name\n",
    "        self.description = description\n",
    "\n",
    "        ## core info\n",
    "        self.unique = unique\n",
    "        self.item_type = ''\n",
    "        self.tags = []\n",
    "        \n",
    "        self.owner = owner\n",
    "        self.status = {}\n",
    "        self.other_info = {}\n",
    "        self.magical = magical\n",
    "        if magical:\n",
    "            self.magical = {\n",
    "                'special_habilities':{},\n",
    "                'hidden_habilities':{}\n",
    "            }\n",
    "\n",
    "\n",
    "    def __repr__(self):\n",
    "        if self.magical:\n",
    "            magical_repr = f\"\"\"\\nmagical:{to_print_dict(self.magical)}\\n\"\"\"\n",
    "        ret = f\"\"\"{self.name}\n",
    "            unique:  {self.unique}\n",
    "            type:    {self.item_type}\n",
    "            \n",
    "            status: {to_print_dict(self.status)} {magical_repr}\n",
    "            \n",
    "            description\n",
    "            {self.description}\n",
    "            \"\"\"\n",
    "        return ret\n",
    "        \n",
    "    ## description\n",
    "    def add_description(self, string:str):\n",
    "        self.description = self.description + line + f'\\n {string}'\n",
    "    \n",
    "    ##! type/tags\n",
    "    def add_tag(self, new_tag):\n",
    "        self.tags = self.tags + [new_tag] \n",
    "\n",
    "    ##! owner\n",
    "    def set_owner(self, owner):\n",
    "        self.owner = owner\n",
    "    \n",
    "    ##! Status\n",
    "    def add_status(self, status_name, value):\n",
    "        self.status[status_name] = value\n",
    "\n",
    "    ##! other info\n",
    "    def add_info(self, key, value):\n",
    "        self.other_info[key] = value\n",
    "        \n",
    "    ##! Special\n",
    "    def add_special_hability(self, hability):\n",
    "        self.magical['special_habilities'][hability.name] = hability\n",
    "\n",
    "    def add_hidden_hability(self, hability, block):\n",
    "        self.magical['hidden_habilities'][hability.name]={'hability':hability, 'block':block}"
   ]
  },
  {
   "cell_type": "code",
   "execution_count": 11,
   "id": "1c42cde5-c52e-4775-b9c4-4d36a0e26451",
   "metadata": {},
   "outputs": [],
   "source": [
    "description = 'Beaultiful heavy shield made from Iron, silver and copper'\n",
    "item = Item('Heironeous Shield',description, unique=True, magical=True)\n",
    "item.item_type = 'shield'\n",
    "item.add_status('ac',2)\n",
    "item.add_hidden_hability(hei_power,2)"
   ]
  },
  {
   "cell_type": "code",
   "execution_count": 12,
   "id": "a993ea6f-3ff9-4767-8ef1-8c5f50dd1e2b",
   "metadata": {},
   "outputs": [
    {
     "data": {
      "text/plain": [
       "Heironeous Shield\n",
       "            unique:  True\n",
       "            type:    shield\n",
       "            \n",
       "            status: \n",
       " ac: 2 \n",
       "magical:\n",
       " special_habilities: {}\n",
       " hidden_habilities: {'Heironeous Power': {'hability': \n",
       "        Heironeous Power\n",
       "            cost:           once a week\n",
       "            effect:         heals all allies inside the room or 10 meters radius in open area\n",
       "            roll:           15%hp + 2d10\n",
       "            description:    cast a strong light from the shield\n",
       "        , 'block': 2}}\n",
       "\n",
       "            \n",
       "            description\n",
       "            Beaultiful heavy shield made from Iron, silver and copper\n",
       "            "
      ]
     },
     "execution_count": 12,
     "metadata": {},
     "output_type": "execute_result"
    }
   ],
   "source": [
    "item"
   ]
  },
  {
   "cell_type": "code",
   "execution_count": null,
   "id": "4cb295d5-b280-4ae2-84e1-82c39cceeec4",
   "metadata": {},
   "outputs": [],
   "source": []
  }
 ],
 "metadata": {
  "kernelspec": {
   "display_name": "Python 3 (ipykernel)",
   "language": "python",
   "name": "python3"
  },
  "language_info": {
   "codemirror_mode": {
    "name": "ipython",
    "version": 3
   },
   "file_extension": ".py",
   "mimetype": "text/x-python",
   "name": "python",
   "nbconvert_exporter": "python",
   "pygments_lexer": "ipython3",
   "version": "3.7.11"
  }
 },
 "nbformat": 4,
 "nbformat_minor": 5
}
