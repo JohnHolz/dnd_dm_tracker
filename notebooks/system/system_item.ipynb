{
 "cells": [
  {
   "cell_type": "code",
   "execution_count": 2,
   "id": "609cafeb-284d-40ca-bb78-0a5e21778760",
   "metadata": {},
   "outputs": [],
   "source": [
    "import sys\n",
    "sys.path.append('../../systems/')"
   ]
  },
  {
   "cell_type": "code",
   "execution_count": 3,
   "id": "12fc5064-0c94-4ec1-a4d9-1517e1b19c62",
   "metadata": {},
   "outputs": [],
   "source": [
    "from core.hability import Hability"
   ]
  },
  {
   "cell_type": "code",
   "execution_count": 4,
   "id": "6a576d52-7e6e-4e73-8794-afa38730d13f",
   "metadata": {},
   "outputs": [],
   "source": [
    "hei_power = Hability('Heironeous Power',\n",
    "             'once a week',\n",
    "             'heals all allies inside the room or 10 meters radius in open area',\n",
    "             '15%hp + 2d10',\n",
    "             'cast a strong light from the shield')\n",
    "mag_def = Hability('Mag_def',\n",
    "             'once a week',\n",
    "             'heals all allies inside the room or 10 meters radius in open area',\n",
    "             '15%hp + 2d10',\n",
    "             'cast a strong light from the shield')"
   ]
  },
  {
   "cell_type": "code",
   "execution_count": 26,
   "id": "38d66c72-9acd-4f2a-b8fa-284115a76636",
   "metadata": {},
   "outputs": [],
   "source": [
    "from jh_utils.utils.utils import to_print_dict, to_print_list\n",
    "from jh_utils.utils.mensages import get_line, line\n",
    "line = '\\n+-------------------------------+\\n'\n",
    "class Item():\n",
    "    def __init__(self, \n",
    "                 name, \n",
    "                 subtitle='', item_type = '',\n",
    "                 magical=False, unique = False, owner=None):\n",
    "        self.name = name\n",
    "        self.subtitle = subtitle\n",
    "        self.description = description\n",
    "\n",
    "        ## core info\n",
    "        self.unique = unique\n",
    "        self.item_type = ''\n",
    "        self.tags = []\n",
    "        \n",
    "        self.owner = owner\n",
    "        self.status = {}\n",
    "        self.other_info = {}\n",
    "        self.magical = magical\n",
    "        if magical:\n",
    "            self.special = {\n",
    "                'special_habilities':{},\n",
    "                'hidden_habilities':{}\n",
    "            }\n",
    "\n",
    "    def __repr__(self):\n",
    "        unique = 'Unique' if self.unique else 'Non-unique'\n",
    "        magical = 'Magical' if self.magical else 'Non-Magical'\n",
    "        ret = f'{self.name} : {magical} {unique}'\n",
    "        return ret\n",
    "\n",
    "    def summary(self):\n",
    "        unique = 'Unique' if self.unique else 'Non-unique'\n",
    "        magical = 'Magical' if self.magical else 'Non-Magical'\n",
    "        special = f'\\nSpecial:{to_print_list(list(self.special[\"special_habilities\"].keys()))}'\n",
    "        hidden = f'\\nHidden:{self.to_print_hidden()}'\n",
    "        ret = f\"\"\"{self.name}\n",
    "            type: {self.item_type}\n",
    "            {magical} {unique}\n",
    "            status:{to_print_dict(self.status)}{special}{hidden}\"\"\"\n",
    "        return ret\n",
    "        \n",
    "    ## description\n",
    "    def add_description(self, string:str):\n",
    "        self.description = self.description + line + f'\\n {string}'\n",
    "    \n",
    "    ##! type/tags\n",
    "    def add_tag(self, new_tag):\n",
    "        self.tags = self.tags + [new_tag] \n",
    "\n",
    "    ##! owner\n",
    "    def set_owner(self, owner):\n",
    "        self.owner = owner\n",
    "    \n",
    "    ##! Status\n",
    "    def add_status(self, status_name, value):\n",
    "        self.status[status_name] = value\n",
    "\n",
    "    ##! other info\n",
    "    def add_info(self, key, value):\n",
    "        self.other_info[key] = value\n",
    "\n",
    "    ##! add tag\n",
    "    def add_tag(self, new_tag):\n",
    "        self.tags = self.tags + [new_tag]\n",
    "\n",
    "    ##! get events\n",
    "    def get_events():\n",
    "        pass\n",
    "\n",
    "    def to_print_hidden(self):\n",
    "        ret = ''\n",
    "        hidden_habilities = self.special['hidden_habilities']\n",
    "        for i in hidden_habilities.keys():\n",
    "            ret = ret + f'{i} → block: {hidden_habilities[i][\"block\"]} \\n       '\n",
    "        return ret\n",
    "    \n",
    "    ##! Special\n",
    "    def add_special_hability(self, hability):\n",
    "        self.special['special_habilities'][hability.name] = hability\n",
    "\n",
    "    def add_hidden_hability(self, hability, block):\n",
    "        self.special['hidden_habilities'][hability.name]={'hability':hability, 'block':block}"
   ]
  },
  {
   "cell_type": "code",
   "execution_count": 27,
   "id": "1c42cde5-c52e-4775-b9c4-4d36a0e26451",
   "metadata": {},
   "outputs": [],
   "source": [
    "description = 'Beaultiful heavy shield made from Iron, silver and copper'\n",
    "item = Item('Heironeous Shield',description, unique=True, magical=True)\n",
    "item.item_type = 'shield'\n",
    "item.add_status('ac',2)\n",
    "item.add_status('hit','1d6')\n",
    "item.add_special_hability(hei_power)\n",
    "item.add_hidden_hability(hei_power,'need to get lvl 9')\n",
    "item.add_hidden_hability(mag_def,'need to get lvl 6')"
   ]
  },
  {
   "cell_type": "code",
   "execution_count": 28,
   "id": "2ba8091b-09e6-40fc-af0c-ef9a6c300530",
   "metadata": {},
   "outputs": [
    {
     "name": "stdout",
     "output_type": "stream",
     "text": [
      "Heironeous Shield\n",
      "            type: shield\n",
      "            Magical Unique\n",
      "            status:    ac: 2\n",
      "    hit: 1d6\n",
      "\n",
      "Special:Heironeous Power\n",
      "Hidden:Heironeous Power → block: need to get lvl 9 \n",
      "       Mag_def → block: need to get lvl 6 \n",
      "       \n"
     ]
    }
   ],
   "source": [
    "print(item.summary())"
   ]
  },
  {
   "cell_type": "code",
   "execution_count": 30,
   "id": "1a4b042a-468e-45f4-a7e6-d9c908e617c0",
   "metadata": {},
   "outputs": [
    {
     "data": {
      "text/plain": [
       "Heironeous Shield : Magical Unique"
      ]
     },
     "execution_count": 30,
     "metadata": {},
     "output_type": "execute_result"
    }
   ],
   "source": [
    "item"
   ]
  },
  {
   "cell_type": "code",
   "execution_count": 33,
   "id": "aa8688d6-b7ca-42a2-9bec-cc9708a110af",
   "metadata": {},
   "outputs": [
    {
     "data": {
      "text/plain": [
       "{'Heironeous Power': {'hability': \n",
       "  +---------------------------------------------------+\n",
       "  Heironeous Power\n",
       "      cost:           once a week\n",
       "      roll:           15%hp + 2d10\n",
       "      effect:         heals all allies inside the room or 10 meters radius in open area\n",
       "      description:    cast a strong light from the shield\n",
       "  +---------------------------------------------------+,\n",
       "  'block': 'need to get lvl 9'},\n",
       " 'Mag_def': {'hability': \n",
       "  +---------------------------------------------------+\n",
       "  Mag_def\n",
       "      cost:           once a week\n",
       "      roll:           15%hp + 2d10\n",
       "      effect:         heals all allies inside the room or 10 meters radius in open area\n",
       "      description:    cast a strong light from the shield\n",
       "  +---------------------------------------------------+,\n",
       "  'block': 'need to get lvl 6'}}"
      ]
     },
     "execution_count": 33,
     "metadata": {},
     "output_type": "execute_result"
    }
   ],
   "source": [
    "item.special['hidden_habilities']"
   ]
  }
 ],
 "metadata": {
  "kernelspec": {
   "display_name": "Python 3 (ipykernel)",
   "language": "python",
   "name": "python3"
  },
  "language_info": {
   "codemirror_mode": {
    "name": "ipython",
    "version": 3
   },
   "file_extension": ".py",
   "mimetype": "text/x-python",
   "name": "python",
   "nbconvert_exporter": "python",
   "pygments_lexer": "ipython3",
   "version": "3.7.11"
  }
 },
 "nbformat": 4,
 "nbformat_minor": 5
}
