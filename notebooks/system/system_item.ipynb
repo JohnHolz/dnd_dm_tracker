{
 "cells": [
  {
   "cell_type": "code",
   "execution_count": 113,
   "id": "609cafeb-284d-40ca-bb78-0a5e21778760",
   "metadata": {},
   "outputs": [],
   "source": [
    "from jh_utils.utils.utils import print_dict"
   ]
  },
  {
   "cell_type": "code",
   "execution_count": 108,
   "id": "38d66c72-9acd-4f2a-b8fa-284115a76636",
   "metadata": {},
   "outputs": [],
   "source": [
    "class Item():\n",
    "    def __init__(self, name, description='', magical=False, owner=None, unique = False):\n",
    "        self.name = name\n",
    "        self.owner = owner\n",
    "        self.description = description\n",
    "        self.unique = unique\n",
    "        self.item_type = []\n",
    "        self.status = {}\n",
    "        self.other_info = {}\n",
    "        \n",
    "        if unique!=True:\n",
    "            self.n_in_world = 0\n",
    "\n",
    "        if magical:\n",
    "            self.magical = {\n",
    "                'special_habilities':{},\n",
    "                'hidden_habilities':{}\n",
    "            }\n",
    "\n",
    "\n",
    "    def __repr__(self):        \n",
    "        ret = f\"\"\"\n",
    "            unique:  {self.unique}\n",
    "            type:    {self.item_type}\n",
    "            \n",
    "            status: {print_dict(self.status)}\n",
    "            description\n",
    "            {self.description}\n",
    "            \"\"\"\n",
    "        retu = f\"\"\"\n",
    "        {self.name}\n",
    "        \"\"\"+ret\n",
    "        return retu\n",
    "    \n",
    "    \n",
    "    \n",
    "    ##!##############\n",
    "    ##! type/tags\n",
    "    ##!############## \n",
    "    def add_item_type(self, item_type):\n",
    "        self.item_type = self.item_type + [item_type] \n",
    "\n",
    "    ##!##############\n",
    "    ##! owner\n",
    "    ##!############## \n",
    "    def set_owner(self, owner):\n",
    "        self.owner = owner\n",
    "    \n",
    "    ##!##############\n",
    "    ##! Status\n",
    "    ##!##############    \n",
    "    def add_status(self, status_name, value):\n",
    "        self.status[status_name] = value\n",
    "\n",
    "    ##!##############\n",
    "    ##! Special\n",
    "    ##!##############\n",
    "    def add_special_hability(self, name, effect):\n",
    "        self.special_habilities = self.special_habilities+{name:effect}\n",
    "\n",
    "    def add_hidden_hability(self, name, effect):\n",
    "        self.hidden_habilities = self.hidden_habilities+{name:effect}"
   ]
  },
  {
   "cell_type": "code",
   "execution_count": 111,
   "id": "1c42cde5-c52e-4775-b9c4-4d36a0e26451",
   "metadata": {},
   "outputs": [],
   "source": [
    "item = Item('Heironeous Shield',description, unique=True)\n",
    "item.add_item_type('shield')\n",
    "item.add_status('ac',2)\n",
    "item.add_hidden_hability('Heironeous Power',2)\n",
    "description = 'Beaultiful heavy shield made from Iron, silver and copper'"
   ]
  },
  {
   "cell_type": "code",
   "execution_count": 112,
   "id": "a993ea6f-3ff9-4767-8ef1-8c5f50dd1e2b",
   "metadata": {},
   "outputs": [
    {
     "data": {
      "text/plain": [
       "\n",
       "        Heironeous Shield\n",
       "        \n",
       "            unique:  True\n",
       "            type:    ['shield']\n",
       "            \n",
       "            status: \n",
       "                ac: 2\n",
       "            description\n",
       "            Beaultiful heavy shield made from Iron, silver and copper\n",
       "            "
      ]
     },
     "execution_count": 112,
     "metadata": {},
     "output_type": "execute_result"
    }
   ],
   "source": [
    "item"
   ]
  },
  {
   "cell_type": "code",
   "execution_count": null,
   "id": "4cb295d5-b280-4ae2-84e1-82c39cceeec4",
   "metadata": {},
   "outputs": [],
   "source": []
  }
 ],
 "metadata": {
  "kernelspec": {
   "display_name": "Python 3 (ipykernel)",
   "language": "python",
   "name": "python3"
  },
  "language_info": {
   "codemirror_mode": {
    "name": "ipython",
    "version": 3
   },
   "file_extension": ".py",
   "mimetype": "text/x-python",
   "name": "python",
   "nbconvert_exporter": "python",
   "pygments_lexer": "ipython3",
   "version": "3.7.11"
  }
 },
 "nbformat": 4,
 "nbformat_minor": 5
}
