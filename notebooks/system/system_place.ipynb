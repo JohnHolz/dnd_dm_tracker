{
 "cells": [
  {
   "cell_type": "code",
   "execution_count": 193,
   "id": "54d71122-7c37-4b2f-bd75-151c0fe19178",
   "metadata": {
    "tags": []
   },
   "outputs": [],
   "source": [
    "religius_place = {\n",
    "    'deiti': '',\n",
    "    'itens': '',\n",
    "}\n",
    "\n",
    "military_place = {\n",
    "    'itens': '',\n",
    "}\n",
    "\n",
    "urban_place = {'Social': '',\n",
    "               'Political': '',\n",
    "               'Economical': '',\n",
    "               'Religious': '',\n",
    "               'Military': '',\n",
    "               'Magical': '', }\n",
    "\n",
    "campaing_place = {\n",
    "    'npcs': [],\n",
    "}\n",
    "\n",
    "place_types = {\n",
    "    # @ urban/human places\n",
    "    'city': urban_place.copy(),\n",
    "    'village': urban_place.copy(),\n",
    "    # @ random campaing place\n",
    "    'farm-village': '',\n",
    "    'temple': religius_place.copy(),\n",
    "    'fort': military_place.copy(),\n",
    "    'monument': military_place.copy(),\n",
    "    # @ random places\n",
    "    'dungeon': '',\n",
    "    'cave': '',\n",
    "}\n"
   ]
  },
  {
   "cell_type": "markdown",
   "id": "a55bc255-bfd3-4c83-9c38-2e51f702f9a1",
   "metadata": {
    "tags": []
   },
   "source": [
    "# Urban"
   ]
  },
  {
   "cell_type": "code",
   "execution_count": 200,
   "id": "21e3f49e-b1ab-42fd-bc2c-9757a62e3b82",
   "metadata": {},
   "outputs": [],
   "source": [
    "line = '\\n+-------------------+\\n'\n",
    "class Urban():\n",
    "    def __init__(self, name, subtitle, urban_type='village', description=''):\n",
    "        self.name = name\n",
    "        self.subtitle = subtitle\n",
    "        self.urban_type = urban_type\n",
    "        # intern places\n",
    "        self.places = {} ## TODO function to list all places that have this as major place\n",
    "        self.events = {} ## TODO function to list all events envolving this major place\n",
    "        self.other = {}\n",
    "        # npcs\n",
    "        self.npcs = {\n",
    "            'npcs_from_places': [],## TODO function to list places\n",
    "            'npcs':[],\n",
    "            'other_npcs': []\n",
    "        }\n",
    "        # past events\n",
    "        self.past = {\n",
    "            'foundation': '',\n",
    "            'lore': ''\n",
    "        }\n",
    "        # basic urban info\n",
    "        self.urban_info = {\n",
    "            'description': description,\n",
    "            'social': '',\n",
    "            'political': '',\n",
    "            'economy': '',\n",
    "            'religious': '',\n",
    "            'military': '',\n",
    "            'magical': '',\n",
    "        }\n",
    "\n",
    "    def __repr__(self):\n",
    "        ret = f\"\"\"\n",
    "        {self.name}\n",
    "            {self.subtitle}\n",
    "            {self.urban_type}\n",
    "        \"\"\"\n",
    "        return ret\n",
    "\n",
    "    # update description and spermm\n",
    "    def add_info(self, where: str = 'description', string: str = ''):\n",
    "        self.urban_info[where] = self.urban_info[where]+line+string    \n",
    "\n",
    "    def add_past(self, where: str = 'lore', string: str = ''):\n",
    "        self.past[where] = self.past[where]+line+string\n",
    "\n",
    "    def add_place(self,place):\n",
    "        self.places[place.name] = place\n",
    "    # def add_event(self, event):\n",
    "    #     self.events[event.name] = event\n",
    "    def add_info(self, key:str, string:str):\n",
    "        self.other[key] = string"
   ]
  },
  {
   "cell_type": "code",
   "execution_count": 201,
   "id": "aa17071d-32fe-4d8f-89e8-fafad1a794bc",
   "metadata": {},
   "outputs": [],
   "source": [
    "selgaunt = Urban('Selgaunt','a Cidade Branca, Capital Militar','city')"
   ]
  },
  {
   "cell_type": "code",
   "execution_count": 202,
   "id": "1e1dfa87-d479-48d5-b789-8d6881690fc6",
   "metadata": {
    "tags": []
   },
   "outputs": [],
   "source": [
    "description = \"\"\"    - Cidade praticamente toda em pedra, arquitetura aredondada com pilares largos. \n",
    "            - A agua banha toda a cidade por corregos de agua limpa passando entre montes. \n",
    "            - A cidade é bem arborizada, com arvores frutiferas por todo lado\n",
    "            - A noite a cidade é iluminada por torchas espalhadas por toda a cidade, por torres farol magicas e pela lua, povos da cidade falam que é bençao divina de Sehanine, deusa da lua\n",
    "            - A cidade é bem militarizada\n",
    "            - Muros exteros e dos portos são muito grandes, impressionam as pessoas\n",
    "            - Não existe preconceito, a cidade tem todas as raças passando indo e voltando por conta de ser entrada pro continente\n",
    "            - Cidade tem muitos templos, shrines e estatua de deuses bons\"\"\""
   ]
  },
  {
   "cell_type": "code",
   "execution_count": 203,
   "id": "73a8af29-1fac-4649-9217-3a0d28d141b8",
   "metadata": {},
   "outputs": [],
   "source": [
    "selgaunt.add_info('description',description)"
   ]
  },
  {
   "cell_type": "code",
   "execution_count": 204,
   "id": "85425dca-342b-40ea-b1dd-57f5866e44f4",
   "metadata": {},
   "outputs": [
    {
     "data": {
      "text/plain": [
       "\n",
       "        Selgaunt\n",
       "            a Cidade Branca, Capital Militar\n",
       "            city\n",
       "        "
      ]
     },
     "execution_count": 204,
     "metadata": {},
     "output_type": "execute_result"
    }
   ],
   "source": [
    "selgaunt"
   ]
  },
  {
   "cell_type": "markdown",
   "id": "ba36abaf-0ef1-4528-8b73-32792c3e4c2d",
   "metadata": {},
   "source": [
    "---\n",
    "# Place"
   ]
  },
  {
   "cell_type": "code",
   "execution_count": 209,
   "id": "e986256d-8f51-4bbb-a45b-bb00c397abd4",
   "metadata": {},
   "outputs": [],
   "source": [
    "line = '\\n+-------------------+\\n'\n",
    "class Place():\n",
    "    def __init__(self, name, where, what, lore = ''):\n",
    "        self.name = name\n",
    "        self.where = where\n",
    "        self.what = what\n",
    "        self.npcs = {\n",
    "            'core_npcs': [],\n",
    "            'npcs':[],\n",
    "            'other_npcs': []\n",
    "        }\n",
    "        self.rooms = {}\n",
    "        self.events = {}\n",
    "        self.other = {}\n",
    "        self.description = {\n",
    "            'lore': lore,\n",
    "            'description':''}\n",
    "\n",
    "    def __repr__(self):\n",
    "        ret = f\"\"\"\n",
    "        {self.name}\n",
    "            where:   {self.where}\n",
    "            what:    {self.what}\n",
    "        \"\"\"\n",
    "        return ret\n",
    "    \n",
    "    ## add npcs\n",
    "    def add_npc(self, new_npc, npc_type='npcs'):\n",
    "        if type(npc)==str:\n",
    "            new_npc = [new_npc]\n",
    "        self.npcs[npc_type]=self.npcs[npc_type]+new_npc\n",
    "    \n",
    "    ## add room\n",
    "    def add_room(self, room):\n",
    "        self.rooms[room.name] = room\n",
    "    ## add event\n",
    "    def add_event(self, event):\n",
    "        self.events[event.name] = event\n",
    "    ## add random info\n",
    "    def add_info(self, key, value):\n",
    "        self.other[key]=value\n",
    "        \n",
    "    ## add description\n",
    "    def add_lore(self, string:str):\n",
    "        self.description['lore']=self.description['lore']+line+f\"\"\"\\n {string}\"\"\"\n",
    "    def add_description(self, string:str):\n",
    "        self.description['description']=self.description['description']+line+f\"\"\"\\n {string}\"\"\"\n",
    "\n",
    "\n",
    "        \n",
    "class Room():\n",
    "    def __init__(self, name, where, description = ''):\n",
    "        self.name = name\n",
    "        self.where = where\n",
    "        self.description = description\n",
    "\n",
    "        self.other = {}\n",
    "        self.mobs = {}\n",
    "        self.hidden = {} ## hidden info\n",
    "\n",
    "        self.itens = []\n",
    "            \n",
    "    def __repr__(self):\n",
    "        ret = f\"\"\"\n",
    "        {self.name}\n",
    "            where:       {self.where}\n",
    "            description: {self.description}\n",
    "        \"\"\"\n",
    "        return ret\n",
    "\n",
    "    ## first updatable\n",
    "    def add_description(self,string:str):\n",
    "        self.description = f\"\"\"{self.description}\n",
    "        {string}\"\"\"\n",
    "\n",
    "    ##  add to dictionaries\n",
    "    def add_mob(self, mob_name, mob_count = 1):\n",
    "        self.mobs[mob_name] = mob_count\n",
    "    \n",
    "    def add_info(self, key, value):\n",
    "        self.other[key]=value\n",
    "\n",
    "    def add_hidden(self, what_is_hidden, description):\n",
    "        self.hidden[what_is_hidden]=description\n",
    "    \n",
    "    def add_itens(self, new_itens):\n",
    "        if type(new_itens)==str:\n",
    "            new_itens = [new_itens]\n",
    "        self.itens = self.itens + new_itens"
   ]
  },
  {
   "cell_type": "code",
   "execution_count": 210,
   "id": "8da16cd9-45c5-4c53-9651-c2e2e247b09d",
   "metadata": {},
   "outputs": [],
   "source": [
    "temple = Place('Templo de Kord e Yondalla','selgaunt','Temple')"
   ]
  },
  {
   "cell_type": "code",
   "execution_count": 211,
   "id": "1b925d20-35b4-494b-8079-fd6f8d7d146a",
   "metadata": {},
   "outputs": [],
   "source": [
    "desciption = '''Descriçao: Entrando no templo o que mais chama atençao é o teto desnivelado apontando para o sol, de um lado estatua Kord e do outro por Yondalla com seu escudo\n",
    "- O teto tem um furo em cima que num certo horario reflete no escudo e aponta para o canto do templo, para abrir é preciso...\n",
    "- Dungeon com lago subterraneo, matando a Hydra ganha o escudo de Yondalla'''\n",
    "\n",
    "chapel_dome = Room('Cupula do templo', 'Alto do monte do lado de fora de Selgaunt',desciption)\n"
   ]
  },
  {
   "cell_type": "code",
   "execution_count": 212,
   "id": "1768cc28-9d37-43b8-972f-c7675a751087",
   "metadata": {},
   "outputs": [],
   "source": [
    "temple.add_room(chapel_dome)"
   ]
  },
  {
   "cell_type": "code",
   "execution_count": 213,
   "id": "99a0b368-ef5c-450d-93ef-74c3c9b2449b",
   "metadata": {},
   "outputs": [
    {
     "data": {
      "text/plain": [
       "{'Cupula do templo': \n",
       "         Cupula do templo\n",
       "             where:       Alto do monte do lado de fora de Selgaunt\n",
       "             description: Descriçao: Entrando no templo o que mais chama atençao é o teto desnivelado apontando para o sol, de um lado estatua Kord e do outro por Yondalla com seu escudo\n",
       " - O teto tem um furo em cima que num certo horario reflete no escudo e aponta para o canto do templo, para abrir é preciso...\n",
       " - Dungeon com lago subterraneo, matando a Hydra ganha o escudo de Yondalla\n",
       "         }"
      ]
     },
     "execution_count": 213,
     "metadata": {},
     "output_type": "execute_result"
    }
   ],
   "source": [
    "temple.rooms"
   ]
  }
 ],
 "metadata": {
  "kernelspec": {
   "display_name": "Python 3 (ipykernel)",
   "language": "python",
   "name": "python3"
  },
  "language_info": {
   "codemirror_mode": {
    "name": "ipython",
    "version": 3
   },
   "file_extension": ".py",
   "mimetype": "text/x-python",
   "name": "python",
   "nbconvert_exporter": "python",
   "pygments_lexer": "ipython3",
   "version": "3.7.11"
  }
 },
 "nbformat": 4,
 "nbformat_minor": 5
}
