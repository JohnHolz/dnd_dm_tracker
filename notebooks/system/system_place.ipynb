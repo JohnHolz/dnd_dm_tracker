{
 "cells": [
  {
   "cell_type": "code",
   "execution_count": 1,
   "id": "6c096038-9087-440a-a287-88f1958edaab",
   "metadata": {},
   "outputs": [],
   "source": [
    "import sys\n",
    "sys.path.append('../../systems/places/')"
   ]
  },
  {
   "cell_type": "code",
   "execution_count": 5,
   "id": "e690b605-c415-419e-b0a5-27690e7328ec",
   "metadata": {},
   "outputs": [],
   "source": [
    "from places import Room, Place, Urban"
   ]
  },
  {
   "cell_type": "markdown",
   "id": "a55bc255-bfd3-4c83-9c38-2e51f702f9a1",
   "metadata": {
    "tags": []
   },
   "source": [
    "# Urban"
   ]
  },
  {
   "cell_type": "code",
   "execution_count": 6,
   "id": "1e1dfa87-d479-48d5-b789-8d6881690fc6",
   "metadata": {
    "tags": []
   },
   "outputs": [],
   "source": [
    "selgaunt = Urban('Selgaunt','a Cidade Branca, Capital Militar','city')\n",
    "description = \"\"\"    - Cidade praticamente toda em pedra, arquitetura aredondada com pilares largos. \n",
    "            - A agua banha toda a cidade por corregos de agua limpa passando entre montes. \n",
    "            - A cidade é bem arborizada, com arvores frutiferas por todo lado\n",
    "            - A noite a cidade é iluminada por torchas espalhadas por toda a cidade, por torres farol magicas e pela lua, povos da cidade falam que é bençao divina de Sehanine, deusa da lua\n",
    "            - A cidade é bem militarizada\n",
    "            - Muros exteros e dos portos são muito grandes, impressionam as pessoas\n",
    "            - Não existe preconceito, a cidade tem todas as raças passando indo e voltando por conta de ser entrada pro continente\n",
    "            - Cidade tem muitos templos, shrines e estatua de deuses bons\"\"\"\n",
    "selgaunt.add_info('description',description)"
   ]
  },
  {
   "cell_type": "code",
   "execution_count": 7,
   "id": "85425dca-342b-40ea-b1dd-57f5866e44f4",
   "metadata": {},
   "outputs": [
    {
     "data": {
      "text/plain": [
       "Selgaunt, a Cidade Branca, Capital Militar"
      ]
     },
     "execution_count": 7,
     "metadata": {},
     "output_type": "execute_result"
    }
   ],
   "source": [
    "selgaunt"
   ]
  },
  {
   "cell_type": "markdown",
   "id": "ba36abaf-0ef1-4528-8b73-32792c3e4c2d",
   "metadata": {},
   "source": [
    "---\n",
    "# Place"
   ]
  },
  {
   "cell_type": "code",
   "execution_count": 18,
   "id": "8da16cd9-45c5-4c53-9651-c2e2e247b09d",
   "metadata": {},
   "outputs": [],
   "source": [
    "temple = Place('Templo de Kord e Yondalla', selgaunt,'Temple')"
   ]
  },
  {
   "cell_type": "code",
   "execution_count": 19,
   "id": "1b925d20-35b4-494b-8079-fd6f8d7d146a",
   "metadata": {},
   "outputs": [],
   "source": [
    "desciption = '''Descriçao: Entrando no templo o que mais chama atençao é o teto desnivelado apontando para o sol, de um lado estatua Kord e do outro por Yondalla com seu escudo\n",
    "- O teto tem um furo em cima que num certo horario reflete no escudo e aponta para o canto do templo, para abrir é preciso...\n",
    "- Dungeon com lago subterraneo, matando a Hydra ganha o escudo de Yondalla'''\n",
    "\n",
    "chapel_dome = Room('Cupula do templo', 'Alto do monte do lado de fora de Selgaunt',desciption)\n",
    "dungeon = Room('Lago submerso', 'Dungeon embaixo do templo ','tem um arbolete')"
   ]
  },
  {
   "cell_type": "code",
   "execution_count": 20,
   "id": "1768cc28-9d37-43b8-972f-c7675a751087",
   "metadata": {},
   "outputs": [],
   "source": [
    "temple.add_room(chapel_dome)\n",
    "temple.add_room(dungeon)"
   ]
  },
  {
   "cell_type": "code",
   "execution_count": 21,
   "id": "631db1ac-b7dd-4577-99cf-fd857c683593",
   "metadata": {},
   "outputs": [
    {
     "data": {
      "text/plain": [
       "Templo de Kord e Yondalla, Temple - Selgaunt, a Cidade Branca, Capital Militar"
      ]
     },
     "execution_count": 21,
     "metadata": {},
     "output_type": "execute_result"
    }
   ],
   "source": [
    "temple"
   ]
  },
  {
   "cell_type": "code",
   "execution_count": 22,
   "id": "99a0b368-ef5c-450d-93ef-74c3c9b2449b",
   "metadata": {},
   "outputs": [
    {
     "data": {
      "text/plain": [
       "[Cupula do templo from Alto do monte do lado de fora de Selgaunt,\n",
       " Lago submerso from Dungeon embaixo do templo ]"
      ]
     },
     "execution_count": 22,
     "metadata": {},
     "output_type": "execute_result"
    }
   ],
   "source": [
    "temple.rooms"
   ]
  },
  {
   "cell_type": "code",
   "execution_count": null,
   "id": "354beda4-db8f-4f76-962e-281dd7433c72",
   "metadata": {},
   "outputs": [],
   "source": []
  }
 ],
 "metadata": {
  "kernelspec": {
   "display_name": "Python 3 (ipykernel)",
   "language": "python",
   "name": "python3"
  },
  "language_info": {
   "codemirror_mode": {
    "name": "ipython",
    "version": 3
   },
   "file_extension": ".py",
   "mimetype": "text/x-python",
   "name": "python",
   "nbconvert_exporter": "python",
   "pygments_lexer": "ipython3",
   "version": "3.7.11"
  }
 },
 "nbformat": 4,
 "nbformat_minor": 5
}
