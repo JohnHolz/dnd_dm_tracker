{
 "cells": [
  {
   "cell_type": "code",
   "execution_count": null,
   "id": "18309d9d-1596-4e48-8dd3-2c881dada754",
   "metadata": {},
   "outputs": [],
   "source": [
    "class SPERMM():\n",
    "    \n",
    "    urban_place = {'Social': '',\n",
    "               'Political': '',\n",
    "               'Economical': '',\n",
    "               'Religious': '',\n",
    "               'Military': '',\n",
    "               'Magical': '', }"
   ]
  },
  {
   "cell_type": "code",
   "execution_count": 3,
   "id": "91e7c040-f2d1-4e41-9731-fc1409843fbf",
   "metadata": {},
   "outputs": [],
   "source": [
    "religius_place = {\n",
    "    'deiti': '',\n",
    "    'itens': '',\n",
    "}\n",
    "\n",
    "military_place = {\n",
    "    'itens': '',\n",
    "}\n",
    "\n",
    "\n",
    "\n",
    "campaing_place = {\n",
    "    'npcs':[],\n",
    "}\n",
    "\n",
    "place_types = {\n",
    "        ## @ urban/human places\n",
    "         'city': urban_place.copy(),\n",
    "         'village': urban_place.copy(),\n",
    "        ## @ random campaing place\n",
    "         'farm-village':'',\n",
    "         'temple': religius_place.copy(),\n",
    "         'fort': military_place.copy(),\n",
    "         'monument': military_place.copy(),\n",
    "        ## @ random places        \n",
    "         'dungeon':'',\n",
    "         'cave':'',\n",
    "}"
   ]
  },
  {
   "cell_type": "code",
   "execution_count": 5,
   "id": "38d66c72-9acd-4f2a-b8fa-284115a76636",
   "metadata": {},
   "outputs": [],
   "source": [
    "class Place():\n",
    "    def __init__(self, name, place_type, lore=''):\n",
    "        self.name = name\n",
    "        self.place_type = place_type\n",
    "        self.lore = lore\n",
    "        self.type_info = place_types[place_type]\n",
    "\n",
    "    def __repr__(self):\n",
    "        ret = f\"\"\"\n",
    "        date: {self.time}\n",
    "        where: {self.location}\n",
    "        npcs: {self.npcs}\n",
    "        chars: {self.chars}\n",
    "        {self.info}\"\"\"\n",
    "        return ret"
   ]
  },
  {
   "cell_type": "code",
   "execution_count": 6,
   "id": "da608710-50b3-4b0b-a2fe-3669dd18aa7b",
   "metadata": {},
   "outputs": [
    {
     "ename": "TypeError",
     "evalue": "__init__() missing 2 required positional arguments: 'name' and 'place_type'",
     "output_type": "error",
     "traceback": [
      "\u001b[0;31m---------------------------------------------------------------------------\u001b[0m",
      "\u001b[0;31mTypeError\u001b[0m                                 Traceback (most recent call last)",
      "\u001b[0;32m/tmp/ipykernel_692245/3827622031.py\u001b[0m in \u001b[0;36m<module>\u001b[0;34m\u001b[0m\n\u001b[0;32m----> 1\u001b[0;31m \u001b[0mx\u001b[0m \u001b[0;34m=\u001b[0m \u001b[0mPlace\u001b[0m\u001b[0;34m(\u001b[0m\u001b[0;34m)\u001b[0m\u001b[0;34m\u001b[0m\u001b[0;34m\u001b[0m\u001b[0m\n\u001b[0m",
      "\u001b[0;31mTypeError\u001b[0m: __init__() missing 2 required positional arguments: 'name' and 'place_type'"
     ]
    }
   ],
   "source": [
    "x = Place()"
   ]
  },
  {
   "cell_type": "code",
   "execution_count": null,
   "id": "aa17071d-32fe-4d8f-89e8-fafad1a794bc",
   "metadata": {},
   "outputs": [],
   "source": []
  }
 ],
 "metadata": {
  "kernelspec": {
   "display_name": "Python 3 (ipykernel)",
   "language": "python",
   "name": "python3"
  },
  "language_info": {
   "codemirror_mode": {
    "name": "ipython",
    "version": 3
   },
   "file_extension": ".py",
   "mimetype": "text/x-python",
   "name": "python",
   "nbconvert_exporter": "python",
   "pygments_lexer": "ipython3",
   "version": "3.7.11"
  }
 },
 "nbformat": 4,
 "nbformat_minor": 5
}
