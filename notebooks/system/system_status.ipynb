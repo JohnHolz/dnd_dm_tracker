{
 "cells": [
  {
   "cell_type": "code",
   "execution_count": 7,
   "id": "e39e5b70-eaeb-499a-bba5-1ebf5beddbe4",
   "metadata": {},
   "outputs": [],
   "source": [
    "class Status():\n",
    "    def __init__(self, strength, dexterity, constitution, inteligence, wisdom, charisma) -> None:\n",
    "        self.strength = strength\n",
    "        self.dexterity = dexterity\n",
    "        self.constitution = constitution\n",
    "        self.inteligence = inteligence\n",
    "        self.wisdom = wisdom\n",
    "        self.charisma = charisma\n",
    "        self.str_mod = round((self.strength - 10)/2)\n",
    "        self.dex_mod = round((self.dexterity - 10)/2)\n",
    "        self.con_mod = round((self.constitution - 10)/2)\n",
    "        self.int_mod = round((self.inteligence - 10)/2)\n",
    "        self.wis_mod = round((self.wisdom - 10)/2)\n",
    "        self.cha_mod = round((self.charisma - 10)/2)\n",
    "\n",
    "    def __repr__(self) -> str:\n",
    "        ret = f\"\"\"\n",
    "        str: +{self.str_mod}({self.strength})\n",
    "        dex: +{self.dex_mod}({self.dexterity})\n",
    "        con: +{self.con_mod}({self.constitution})\n",
    "        int: +{self.int_mod}({self.inteligence})\n",
    "        wis: +{self.wis_mod}({self.wisdom})\n",
    "        cha: +{self.cha_mod}({self.charisma})\n",
    "        \"\"\"\n",
    "        return ret"
   ]
  },
  {
   "cell_type": "code",
   "execution_count": 8,
   "id": "703dd4b1-f549-4f80-8e19-64e5a6572971",
   "metadata": {},
   "outputs": [
    {
     "data": {
      "text/plain": [
       "\n",
       "        str: +5(20)\n",
       "        dex: +4(18)\n",
       "        con: +0(10)\n",
       "        int: +1(12)\n",
       "        wis: +2(15)\n",
       "        cha: +2(13)\n",
       "        "
      ]
     },
     "execution_count": 8,
     "metadata": {},
     "output_type": "execute_result"
    }
   ],
   "source": [
    "Status(20,18,10,12,15,13)"
   ]
  },
  {
   "cell_type": "code",
   "execution_count": null,
   "id": "4a9b38cb-b462-45cf-8c0f-68664240c224",
   "metadata": {},
   "outputs": [],
   "source": []
  }
 ],
 "metadata": {
  "kernelspec": {
   "display_name": "Python 3 (ipykernel)",
   "language": "python",
   "name": "python3"
  },
  "language_info": {
   "codemirror_mode": {
    "name": "ipython",
    "version": 3
   },
   "file_extension": ".py",
   "mimetype": "text/x-python",
   "name": "python",
   "nbconvert_exporter": "python",
   "pygments_lexer": "ipython3",
   "version": "3.7.11"
  }
 },
 "nbformat": 4,
 "nbformat_minor": 5
}
