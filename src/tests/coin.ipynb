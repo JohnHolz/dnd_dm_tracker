{
 "cells": [
  {
   "cell_type": "code",
   "execution_count": 1,
   "id": "6cd74d26-6702-4aec-825b-596085b4e7fc",
   "metadata": {},
   "outputs": [],
   "source": [
    "import os\n",
    "os.chdir('../../../systems/core/')"
   ]
  },
  {
   "cell_type": "code",
   "execution_count": 2,
   "id": "05ec6ee8-8ee9-45db-a289-144f06d36d21",
   "metadata": {},
   "outputs": [],
   "source": [
    "from coin import Money, transformation_matrix, coin_index, exchange_coin"
   ]
  },
  {
   "cell_type": "code",
   "execution_count": 3,
   "id": "4b9f6c04-ed4f-4724-9aa6-10128790b82e",
   "metadata": {},
   "outputs": [
    {
     "data": {
      "text/plain": [
       "cp: 10\n",
       "ep: 3\n",
       "pp: 9"
      ]
     },
     "execution_count": 3,
     "metadata": {},
     "output_type": "execute_result"
    }
   ],
   "source": [
    "Money(10,0,3,0,9)"
   ]
  },
  {
   "cell_type": "code",
   "execution_count": 4,
   "id": "7cf277cc-64a6-4197-901d-b2653d08d677",
   "metadata": {},
   "outputs": [
    {
     "data": {
      "text/plain": [
       "cp: 10\n",
       "sp: 4\n",
       "ep: 3\n",
       "pp: 9"
      ]
     },
     "execution_count": 4,
     "metadata": {},
     "output_type": "execute_result"
    }
   ],
   "source": [
    "Money(10,4,3,0,9)"
   ]
  },
  {
   "cell_type": "code",
   "execution_count": 5,
   "id": "738607d1-bfdf-4b60-9151-fa90ffca7d23",
   "metadata": {},
   "outputs": [
    {
     "data": {
      "text/plain": [
       "0.1"
      ]
     },
     "execution_count": 5,
     "metadata": {},
     "output_type": "execute_result"
    }
   ],
   "source": [
    "exchange_coin(1,'gp','pp')"
   ]
  },
  {
   "cell_type": "code",
   "execution_count": null,
   "id": "fbb47c9d-5d2c-4bf9-907d-2253a032b0d6",
   "metadata": {},
   "outputs": [],
   "source": []
  }
 ],
 "metadata": {
  "kernelspec": {
   "display_name": "Python 3 (ipykernel)",
   "language": "python",
   "name": "python3"
  },
  "language_info": {
   "codemirror_mode": {
    "name": "ipython",
    "version": 3
   },
   "file_extension": ".py",
   "mimetype": "text/x-python",
   "name": "python",
   "nbconvert_exporter": "python",
   "pygments_lexer": "ipython3",
   "version": "3.7.11"
  }
 },
 "nbformat": 4,
 "nbformat_minor": 5
}
