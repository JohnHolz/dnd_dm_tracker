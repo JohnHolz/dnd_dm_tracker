{
 "cells": [
  {
   "cell_type": "code",
   "execution_count": 5,
   "id": "72c26765-8237-44b4-bb73-0ad5fd9ba513",
   "metadata": {},
   "outputs": [],
   "source": [
    "import os\n",
    "os.chdir('../../../systems/core/')"
   ]
  },
  {
   "cell_type": "code",
   "execution_count": 6,
   "id": "b694886d-c624-4d51-b2ac-0b40831139d2",
   "metadata": {},
   "outputs": [],
   "source": [
    "from dice import dice, rand_dice, roll"
   ]
  },
  {
   "cell_type": "code",
   "execution_count": 7,
   "id": "94d4ccac-c7b4-4236-b7bc-a21cf9e2f524",
   "metadata": {},
   "outputs": [
    {
     "data": {
      "text/plain": [
       "[6, 10, 5, 64, 11]"
      ]
     },
     "execution_count": 7,
     "metadata": {},
     "output_type": "execute_result"
    }
   ],
   "source": [
    "t = ['1d6','1d6+4','d6','1d6+12d6+3','1d6+1d6+2']\n",
    "list(map(lambda x: roll(x), t))"
   ]
  },
  {
   "cell_type": "code",
   "execution_count": 8,
   "id": "df037d8e-7adc-4e79-862b-f3a2590dc7be",
   "metadata": {},
   "outputs": [
    {
     "data": {
      "text/plain": [
       "'1d6+4'"
      ]
     },
     "execution_count": 8,
     "metadata": {},
     "output_type": "execute_result"
    }
   ],
   "source": [
    "'1d6+4'"
   ]
  },
  {
   "cell_type": "code",
   "execution_count": 9,
   "id": "5c3dc321-a90d-4584-a4d1-dff75a1c0a0b",
   "metadata": {},
   "outputs": [
    {
     "data": {
      "text/plain": [
       "5"
      ]
     },
     "execution_count": 9,
     "metadata": {},
     "output_type": "execute_result"
    }
   ],
   "source": [
    "roll('1d6+4') - roll('1d4')"
   ]
  },
  {
   "cell_type": "code",
   "execution_count": null,
   "id": "8631d94e-0cac-41e8-8f2a-6f52f398ff0c",
   "metadata": {},
   "outputs": [],
   "source": []
  },
  {
   "cell_type": "code",
   "execution_count": null,
   "id": "d88b6b4c-2af4-4276-a2d3-872bb16866fc",
   "metadata": {},
   "outputs": [],
   "source": []
  }
 ],
 "metadata": {
  "kernelspec": {
   "display_name": "Python 3 (ipykernel)",
   "language": "python",
   "name": "python3"
  },
  "language_info": {
   "codemirror_mode": {
    "name": "ipython",
    "version": 3
   },
   "file_extension": ".py",
   "mimetype": "text/x-python",
   "name": "python",
   "nbconvert_exporter": "python",
   "pygments_lexer": "ipython3",
   "version": "3.7.11"
  }
 },
 "nbformat": 4,
 "nbformat_minor": 5
}
