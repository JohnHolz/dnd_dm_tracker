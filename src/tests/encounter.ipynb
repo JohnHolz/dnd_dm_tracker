{
 "cells": [
  {
   "cell_type": "code",
   "execution_count": 1,
   "id": "6c096038-9087-440a-a287-88f1958edaab",
   "metadata": {},
   "outputs": [],
   "source": [
    "import sys\n",
    "sys.path.append('../')\n",
    "from encounter.encounters import Encounter, get_encounter"
   ]
  },
  {
   "cell_type": "code",
   "execution_count": 2,
   "id": "354beda4-db8f-4f76-962e-281dd7433c72",
   "metadata": {},
   "outputs": [],
   "source": [
    "raulothim_encounter = Encounter('Find Raulothim`s Lair')\n",
    "raulothim_encounter.add_location('Neverend Forest')\n",
    "raulothim_encounter.add_location('Circle Inner Place')"
   ]
  },
  {
   "cell_type": "code",
   "execution_count": 3,
   "id": "0921d25a-69cb-4de3-b213-ad137b462565",
   "metadata": {},
   "outputs": [],
   "source": [
    "raulothim_encounter.add_info('Raulothim', 'Main npc - vai enviar o gigante de volta, entregar diversas rewards e devagar sobre acontecimentos importantes')\n",
    "raulothim_encounter.rewards['money'].update_money(1000,'ep')"
   ]
  },
  {
   "cell_type": "code",
   "execution_count": 4,
   "id": "e722100f-59e0-4b19-8a9e-2f090b07c90e",
   "metadata": {},
   "outputs": [],
   "source": [
    "raulothim_encounter.save_encounter('../../world/db/locane/encounters.json')"
   ]
  },
  {
   "cell_type": "code",
   "execution_count": 5,
   "id": "06a7ddaa-4bef-4812-b3b6-4b465d679d97",
   "metadata": {},
   "outputs": [
    {
     "data": {
      "text/plain": [
       "Find Raulothim`s Lair - ['Neverend Forest', 'Circle Inner Place']\n",
       "    money: ep: 1000\n",
       "\n",
       "    common_itens: []\n",
       "    magical_items: []\n",
       " "
      ]
     },
     "execution_count": 5,
     "metadata": {},
     "output_type": "execute_result"
    }
   ],
   "source": [
    "get_encounter('Find Raulothim`s Lair','../../world/db/locane/encounters.json')"
   ]
  },
  {
   "cell_type": "code",
   "execution_count": null,
   "id": "2bad9a20-844b-4244-92da-d30e15c6965f",
   "metadata": {},
   "outputs": [],
   "source": []
  }
 ],
 "metadata": {
  "kernelspec": {
   "display_name": "Python 3 (ipykernel)",
   "language": "python",
   "name": "python3"
  },
  "language_info": {
   "codemirror_mode": {
    "name": "ipython",
    "version": 3
   },
   "file_extension": ".py",
   "mimetype": "text/x-python",
   "name": "python",
   "nbconvert_exporter": "python",
   "pygments_lexer": "ipython3",
   "version": "3.7.11"
  }
 },
 "nbformat": 4,
 "nbformat_minor": 5
}
