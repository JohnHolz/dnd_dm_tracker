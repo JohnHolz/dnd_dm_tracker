{
 "cells": [
  {
   "cell_type": "code",
   "execution_count": 1,
   "id": "609cafeb-284d-40ca-bb78-0a5e21778760",
   "metadata": {},
   "outputs": [],
   "source": [
    "import sys\n",
    "sys.path.append('../../../systems/core')"
   ]
  },
  {
   "cell_type": "code",
   "execution_count": 2,
   "id": "9687e975-9fea-4541-a161-ca3cd8de2c8c",
   "metadata": {},
   "outputs": [],
   "source": [
    "from item import Item"
   ]
  },
  {
   "cell_type": "code",
   "execution_count": 3,
   "id": "1c42cde5-c52e-4775-b9c4-4d36a0e26451",
   "metadata": {},
   "outputs": [],
   "source": [
    "description = 'Beaultiful heavy shield made from Iron, silver and copper'\n",
    "item = Item('Heironeous Shield','Armor',description)"
   ]
  },
  {
   "cell_type": "code",
   "execution_count": 4,
   "id": "2ba8091b-09e6-40fc-af0c-ef9a6c300530",
   "metadata": {},
   "outputs": [
    {
     "data": {
      "text/plain": [
       "Heironeous Shield, Armor"
      ]
     },
     "execution_count": 4,
     "metadata": {},
     "output_type": "execute_result"
    }
   ],
   "source": [
    "item"
   ]
  },
  {
   "cell_type": "code",
   "execution_count": 5,
   "id": "64843b1f-08f1-411c-939c-25165423a985",
   "metadata": {},
   "outputs": [
    {
     "name": "stdout",
     "output_type": "stream",
     "text": [
      "    appearence: ['Beaultiful heavy shield made from Iron, silver and copper']\n",
      "\n"
     ]
    }
   ],
   "source": [
    "item.print_description()"
   ]
  },
  {
   "cell_type": "code",
   "execution_count": null,
   "id": "5d646de6-2830-49af-8366-191e392fa555",
   "metadata": {},
   "outputs": [],
   "source": []
  }
 ],
 "metadata": {
  "kernelspec": {
   "display_name": "Python 3 (ipykernel)",
   "language": "python",
   "name": "python3"
  },
  "language_info": {
   "codemirror_mode": {
    "name": "ipython",
    "version": 3
   },
   "file_extension": ".py",
   "mimetype": "text/x-python",
   "name": "python",
   "nbconvert_exporter": "python",
   "pygments_lexer": "ipython3",
   "version": "3.7.11"
  }
 },
 "nbformat": 4,
 "nbformat_minor": 5
}
