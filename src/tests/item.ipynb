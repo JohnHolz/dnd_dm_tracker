{
 "cells": [
  {
   "cell_type": "code",
   "execution_count": 2,
   "id": "609cafeb-284d-40ca-bb78-0a5e21778760",
   "metadata": {},
   "outputs": [],
   "source": [
    "import sys\n",
    "sys.path.append('../')"
   ]
  },
  {
   "cell_type": "code",
   "execution_count": 3,
   "id": "9687e975-9fea-4541-a161-ca3cd8de2c8c",
   "metadata": {},
   "outputs": [],
   "source": [
    "from item.item import Item"
   ]
  },
  {
   "cell_type": "code",
   "execution_count": 11,
   "id": "7ab5b326-43e4-48a2-8b38-1b096860ef99",
   "metadata": {},
   "outputs": [],
   "source": [
    "minor = '../../world/db/items_minor.json'\n",
    "major = '../../world/db/items_major.json'\n",
    "items = '../../world/db/items.json'"
   ]
  },
  {
   "cell_type": "code",
   "execution_count": 7,
   "id": "4e50addb-6fd0-4426-b8c1-4ad6afedb459",
   "metadata": {},
   "outputs": [],
   "source": [
    "item = Item('Dexterity Cloak','Armor')\n",
    "item.add_description('appearence','Beaultiful dark green cloak')\n",
    "item.add_description('magic','+2 Dex')\n",
    "item.add_description('creation','Light elf magic cloak from rangers wood elfs')\n",
    "item.save_item(minor)"
   ]
  }
 ],
 "metadata": {
  "kernelspec": {
   "display_name": "Python 3 (ipykernel)",
   "language": "python",
   "name": "python3"
  },
  "language_info": {
   "codemirror_mode": {
    "name": "ipython",
    "version": 3
   },
   "file_extension": ".py",
   "mimetype": "text/x-python",
   "name": "python",
   "nbconvert_exporter": "python",
   "pygments_lexer": "ipython3",
   "version": "3.7.11"
  }
 },
 "nbformat": 4,
 "nbformat_minor": 5
}
