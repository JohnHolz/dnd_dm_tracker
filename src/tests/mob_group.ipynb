{
 "cells": [
  {
   "cell_type": "code",
   "execution_count": 2,
   "id": "7daa9309-b551-47b8-8ba9-2d1c359d6ed6",
   "metadata": {},
   "outputs": [],
   "source": [
    "import sys\n",
    "sys.path.append('../')"
   ]
  },
  {
   "cell_type": "code",
   "execution_count": 3,
   "id": "9e37ef22-72d4-4486-946f-a4ed576e68d0",
   "metadata": {},
   "outputs": [],
   "source": [
    "from small.mob_group import Mob_group"
   ]
  },
  {
   "cell_type": "code",
   "execution_count": 5,
   "id": "30f496ab-44f6-4c6c-834a-495caf616b99",
   "metadata": {},
   "outputs": [],
   "source": [
    "group_test = Mob_group({'kobold':40},['adult-white-dragon'])"
   ]
  },
  {
   "cell_type": "code",
   "execution_count": 6,
   "id": "34a95c12-775d-408d-8d13-27da28fde2f5",
   "metadata": {},
   "outputs": [],
   "source": [
    "group_test.save_group('../../world/db/mob_group.json')"
   ]
  },
  {
   "cell_type": "code",
   "execution_count": null,
   "id": "01517da9-ca27-4eb4-976d-27d7e516d6bb",
   "metadata": {},
   "outputs": [],
   "source": []
  }
 ],
 "metadata": {
  "kernelspec": {
   "display_name": "Python 3 (ipykernel)",
   "language": "python",
   "name": "python3"
  },
  "language_info": {
   "codemirror_mode": {
    "name": "ipython",
    "version": 3
   },
   "file_extension": ".py",
   "mimetype": "text/x-python",
   "name": "python",
   "nbconvert_exporter": "python",
   "pygments_lexer": "ipython3",
   "version": "3.7.11"
  }
 },
 "nbformat": 4,
 "nbformat_minor": 5
}
