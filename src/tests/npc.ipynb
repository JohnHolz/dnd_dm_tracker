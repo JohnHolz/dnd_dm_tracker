{
 "cells": [
  {
   "cell_type": "code",
   "execution_count": 1,
   "id": "2480e8a2-5422-4917-82af-131904f2a0b8",
   "metadata": {},
   "outputs": [],
   "source": [
    "import sys\n",
    "sys.path.append('../')"
   ]
  },
  {
   "cell_type": "code",
   "execution_count": 2,
   "id": "3a21e7b6-52e1-4581-8095-0a85deceb667",
   "metadata": {},
   "outputs": [],
   "source": [
    "from npc.npc import Npc\n",
    "from npc.combat import Combat\n",
    "from npc.core import Core\n",
    "from small.status import Status"
   ]
  },
  {
   "cell_type": "code",
   "execution_count": 3,
   "id": "26a8b03d-2bd5-48c9-aa0c-8cacc34e91ca",
   "metadata": {},
   "outputs": [],
   "source": [
    "barcha = Npc('Barcha')"
   ]
  },
  {
   "cell_type": "code",
   "execution_count": 4,
   "id": "8151313b-ab49-42c8-aaa9-ccd0c378bf47",
   "metadata": {},
   "outputs": [],
   "source": [
    "barcha_core = Core(ocupation='High Major',\n",
    "     race='Dragonborn',\n",
    "     languages = {'common':'fluent',\n",
    "                  'draconic':'fluent',\n",
    "                  'elvish':'fluent',\n",
    "                  'dwarvish':'Intermediate'},\n",
    "    aligment='G',\n",
    "    background='Paladin lvl 19')"
   ]
  },
  {
   "cell_type": "code",
   "execution_count": 5,
   "id": "7f2b1e46-3ef3-4668-b62b-13b91cc0f916",
   "metadata": {},
   "outputs": [],
   "source": [
    "barcha_combat = Combat(hp=212,\n",
    "ca=23,\n",
    "cr=25,\n",
    "speed=40,\n",
    "passive_perception=18,\n",
    "initiative=20,\n",
    "status=Status(20,18,22,14,17,21),\n",
    "resistences={'Cold':'Resistent','Lightning':'Very Resistent'},\n",
    "senses=['Darkvision'],\n",
    "arcana={'Paladin':18},\n",
    "actions={'Magic Ring': 'Dispel Magic or CC'},\n",
    "equipment={'armor': ['Adamantine Breastplate','Shield'], 'weapons': ['Big Sword','Spear','Sword'], 'items': []})"
   ]
  },
  {
   "cell_type": "code",
   "execution_count": 7,
   "id": "536d830a-cebb-4476-8bd7-ee9464596a4b",
   "metadata": {},
   "outputs": [],
   "source": [
    "barcha.core = barcha_core\n",
    "barcha.combat = barcha_combat\n",
    "barcha.drives = {'legacy': ['Extremly loyal to Anastrianna'],'values': ['Been good'], 'beliefs': ['Help others']}\n",
    "barcha.add_connection('Anastrianna', 'His Master, teached him sword, paladin casting, combat, strategy')"
   ]
  },
  {
   "cell_type": "code",
   "execution_count": 8,
   "id": "6daf04bb-3380-4350-b374-c165eb00d747",
   "metadata": {},
   "outputs": [],
   "source": [
    "barcha.save_npc('../../world/db/locane/npcs.json')"
   ]
  },
  {
   "cell_type": "code",
   "execution_count": null,
   "id": "fa4b257a-63af-4646-ac07-54e3fa8fa312",
   "metadata": {},
   "outputs": [],
   "source": []
  }
 ],
 "metadata": {
  "kernelspec": {
   "display_name": "Python 3 (ipykernel)",
   "language": "python",
   "name": "python3"
  },
  "language_info": {
   "codemirror_mode": {
    "name": "ipython",
    "version": 3
   },
   "file_extension": ".py",
   "mimetype": "text/x-python",
   "name": "python",
   "nbconvert_exporter": "python",
   "pygments_lexer": "ipython3",
   "version": "3.7.11"
  }
 },
 "nbformat": 4,
 "nbformat_minor": 5
}
