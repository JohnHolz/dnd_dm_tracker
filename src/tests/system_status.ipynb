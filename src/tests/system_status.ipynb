{
 "cells": [
  {
   "cell_type": "code",
   "execution_count": 1,
   "id": "e39e5b70-eaeb-499a-bba5-1ebf5beddbe4",
   "metadata": {},
   "outputs": [],
   "source": [
    "import sys\n",
    "sys.path.append('../../../systems/core')"
   ]
  },
  {
   "cell_type": "code",
   "execution_count": 2,
   "id": "b664448e-3bdc-4631-95f1-7ae3e47f8a9b",
   "metadata": {},
   "outputs": [],
   "source": [
    "from status import Status"
   ]
  },
  {
   "cell_type": "code",
   "execution_count": 3,
   "id": "703dd4b1-f549-4f80-8e19-64e5a6572971",
   "metadata": {},
   "outputs": [
    {
     "data": {
      "text/plain": [
       "str: +5(20)\n",
       "dex: +4(18)\n",
       "con: +0(10)\n",
       "int: +1(12)\n",
       "wis: +2(15)\n",
       "cha: +2(13)"
      ]
     },
     "execution_count": 3,
     "metadata": {},
     "output_type": "execute_result"
    }
   ],
   "source": [
    "Status(20,18,10,12,15,13)"
   ]
  },
  {
   "cell_type": "code",
   "execution_count": null,
   "id": "9e19c8cd-40cc-489c-8521-b9d71481065d",
   "metadata": {},
   "outputs": [],
   "source": []
  }
 ],
 "metadata": {
  "kernelspec": {
   "display_name": "Python 3 (ipykernel)",
   "language": "python",
   "name": "python3"
  },
  "language_info": {
   "codemirror_mode": {
    "name": "ipython",
    "version": 3
   },
   "file_extension": ".py",
   "mimetype": "text/x-python",
   "name": "python",
   "nbconvert_exporter": "python",
   "pygments_lexer": "ipython3",
   "version": "3.7.11"
  }
 },
 "nbformat": 4,
 "nbformat_minor": 5
}
