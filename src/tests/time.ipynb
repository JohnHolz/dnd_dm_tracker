{
 "cells": [
  {
   "cell_type": "code",
   "execution_count": 1,
   "id": "b6df1783-e572-472b-8a10-240676c3fc3e",
   "metadata": {},
   "outputs": [],
   "source": [
    "import sys\n",
    "sys.path.append('../../../systems/core')"
   ]
  },
  {
   "cell_type": "code",
   "execution_count": 2,
   "id": "fd136618-d095-494d-bd9e-4debfa3572a2",
   "metadata": {},
   "outputs": [],
   "source": [
    "from world_time import DateTime"
   ]
  },
  {
   "cell_type": "code",
   "execution_count": 3,
   "id": "877c578d-048a-499d-ac57-8db0a634b77d",
   "metadata": {},
   "outputs": [
    {
     "data": {
      "text/plain": [
       "00:00 day 2 Rillifane`s Month (Flowers Season) 1250 te."
      ]
     },
     "execution_count": 3,
     "metadata": {},
     "output_type": "execute_result"
    }
   ],
   "source": [
    "x = DateTime(100,10,year=1250) + DateTime(0,14)\n",
    "x"
   ]
  },
  {
   "cell_type": "code",
   "execution_count": 4,
   "id": "1761f011-0862-4ba6-8adc-289bee37aeba",
   "metadata": {},
   "outputs": [
    {
     "data": {
      "text/plain": [
       "00:00 day 17 Rillifane`s Month (Flowers Season) 1250 te."
      ]
     },
     "execution_count": 4,
     "metadata": {},
     "output_type": "execute_result"
    }
   ],
   "source": [
    "x.foward(15,'day')"
   ]
  },
  {
   "cell_type": "code",
   "execution_count": 5,
   "id": "31eb7196-9c97-4240-a274-830b40add1fc",
   "metadata": {},
   "outputs": [
    {
     "data": {
      "text/plain": [
       "10:00 day 2 Pelor`s Month (Sun Season) 1250 te."
      ]
     },
     "execution_count": 5,
     "metadata": {},
     "output_type": "execute_result"
    }
   ],
   "source": [
    "x.__add__(DateTime(100,10))"
   ]
  },
  {
   "cell_type": "code",
   "execution_count": 6,
   "id": "85de949c-2256-4036-8398-8a8aaa472e52",
   "metadata": {},
   "outputs": [],
   "source": [
    "from world_time import get_calendar"
   ]
  },
  {
   "cell_type": "code",
   "execution_count": 8,
   "id": "e9b14dbc-30a4-4c24-9d5b-cdf6e8373c57",
   "metadata": {},
   "outputs": [
    {
     "data": {
      "text/html": [
       "<div>\n",
       "<style scoped>\n",
       "    .dataframe tbody tr th:only-of-type {\n",
       "        vertical-align: middle;\n",
       "    }\n",
       "\n",
       "    .dataframe tbody tr th {\n",
       "        vertical-align: top;\n",
       "    }\n",
       "\n",
       "    .dataframe thead th {\n",
       "        text-align: right;\n",
       "    }\n",
       "</style>\n",
       "<table border=\"1\" class=\"dataframe\">\n",
       "  <thead>\n",
       "    <tr style=\"text-align: right;\">\n",
       "      <th></th>\n",
       "      <th>day</th>\n",
       "      <th>month</th>\n",
       "      <th>season</th>\n",
       "    </tr>\n",
       "  </thead>\n",
       "  <tbody>\n",
       "    <tr>\n",
       "      <th>0</th>\n",
       "      <td>1</td>\n",
       "      <td>Auril`s Month</td>\n",
       "      <td>Cold Season</td>\n",
       "    </tr>\n",
       "    <tr>\n",
       "      <th>1</th>\n",
       "      <td>2</td>\n",
       "      <td>Auril`s Month</td>\n",
       "      <td>Cold Season</td>\n",
       "    </tr>\n",
       "    <tr>\n",
       "      <th>2</th>\n",
       "      <td>3</td>\n",
       "      <td>Auril`s Month</td>\n",
       "      <td>Cold Season</td>\n",
       "    </tr>\n",
       "    <tr>\n",
       "      <th>3</th>\n",
       "      <td>4</td>\n",
       "      <td>Auril`s Month</td>\n",
       "      <td>Cold Season</td>\n",
       "    </tr>\n",
       "    <tr>\n",
       "      <th>4</th>\n",
       "      <td>5</td>\n",
       "      <td>Auril`s Month</td>\n",
       "      <td>Cold Season</td>\n",
       "    </tr>\n",
       "    <tr>\n",
       "      <th>...</th>\n",
       "      <td>...</td>\n",
       "      <td>...</td>\n",
       "      <td>...</td>\n",
       "    </tr>\n",
       "    <tr>\n",
       "      <th>395</th>\n",
       "      <td>21</td>\n",
       "      <td>Ogmhar`s Month</td>\n",
       "      <td>Wood Season</td>\n",
       "    </tr>\n",
       "    <tr>\n",
       "      <th>396</th>\n",
       "      <td>22</td>\n",
       "      <td>Ogmhar`s Month</td>\n",
       "      <td>Wood Season</td>\n",
       "    </tr>\n",
       "    <tr>\n",
       "      <th>397</th>\n",
       "      <td>23</td>\n",
       "      <td>Ogmhar`s Month</td>\n",
       "      <td>Wood Season</td>\n",
       "    </tr>\n",
       "    <tr>\n",
       "      <th>398</th>\n",
       "      <td>24</td>\n",
       "      <td>Ogmhar`s Month</td>\n",
       "      <td>Wood Season</td>\n",
       "    </tr>\n",
       "    <tr>\n",
       "      <th>399</th>\n",
       "      <td>25</td>\n",
       "      <td>Ogmhar`s Month</td>\n",
       "      <td>Wood Season</td>\n",
       "    </tr>\n",
       "  </tbody>\n",
       "</table>\n",
       "<p>400 rows × 3 columns</p>\n",
       "</div>"
      ],
      "text/plain": [
       "     day           month       season\n",
       "0      1   Auril`s Month  Cold Season\n",
       "1      2   Auril`s Month  Cold Season\n",
       "2      3   Auril`s Month  Cold Season\n",
       "3      4   Auril`s Month  Cold Season\n",
       "4      5   Auril`s Month  Cold Season\n",
       "..   ...             ...          ...\n",
       "395   21  Ogmhar`s Month  Wood Season\n",
       "396   22  Ogmhar`s Month  Wood Season\n",
       "397   23  Ogmhar`s Month  Wood Season\n",
       "398   24  Ogmhar`s Month  Wood Season\n",
       "399   25  Ogmhar`s Month  Wood Season\n",
       "\n",
       "[400 rows x 3 columns]"
      ]
     },
     "execution_count": 8,
     "metadata": {},
     "output_type": "execute_result"
    }
   ],
   "source": [
    "get_calendar()"
   ]
  },
  {
   "cell_type": "code",
   "execution_count": null,
   "id": "208e74c8-84f7-4c52-9eb2-d47ae71f3148",
   "metadata": {},
   "outputs": [],
   "source": []
  }
 ],
 "metadata": {
  "kernelspec": {
   "display_name": "Python 3 (ipykernel)",
   "language": "python",
   "name": "python3"
  },
  "language_info": {
   "codemirror_mode": {
    "name": "ipython",
    "version": 3
   },
   "file_extension": ".py",
   "mimetype": "text/x-python",
   "name": "python",
   "nbconvert_exporter": "python",
   "pygments_lexer": "ipython3",
   "version": "3.7.11"
  }
 },
 "nbformat": 4,
 "nbformat_minor": 5
}
